{
  "nbformat": 4,
  "nbformat_minor": 0,
  "metadata": {
    "colab": {
      "name": "Instacart.ipynb",
      "provenance": [],
      "collapsed_sections": [
        "eMWwm4lGFnys",
        "nNjMY9xXbd16",
        "YntC1U-brpT7"
      ],
      "authorship_tag": "ABX9TyOri6MwEDg4DN8OVOCukFCN",
      "include_colab_link": true
    },
    "kernelspec": {
      "name": "python3",
      "display_name": "Python 3"
    },
    "language_info": {
      "name": "python"
    }
  },
  "cells": [
    {
      "cell_type": "markdown",
      "metadata": {
        "id": "view-in-github",
        "colab_type": "text"
      },
      "source": [
        "<a href=\"https://colab.research.google.com/github/keerthana-narra/instacart/blob/main/Instacart.ipynb\" target=\"_parent\"><img src=\"https://colab.research.google.com/assets/colab-badge.svg\" alt=\"Open In Colab\"/></a>"
      ]
    },
    {
      "cell_type": "code",
      "metadata": {
        "colab": {
          "base_uri": "https://localhost:8080/"
        },
        "id": "7nFXhclsbjAg",
        "outputId": "75e2e64f-3aca-4df2-e986-2a1fdc2e6f36"
      },
      "source": [
        "# Mounting drive\n",
        "from google.colab import drive\n",
        "drive.mount('/content/drive')\n"
      ],
      "execution_count": null,
      "outputs": [
        {
          "output_type": "stream",
          "text": [
            "Mounted at /content/drive\n"
          ],
          "name": "stdout"
        }
      ]
    },
    {
      "cell_type": "markdown",
      "metadata": {
        "id": "eMWwm4lGFnys"
      },
      "source": [
        "## Importing libraries and loading data"
      ]
    },
    {
      "cell_type": "code",
      "metadata": {
        "id": "Pg3Y6Fqd-6oN"
      },
      "source": [
        "### Imports\n",
        "import matplotlib.pyplot as plt\n",
        "import seaborn as sns\n",
        "import pandas as pd\n",
        "import numpy as np\n",
        "\n",
        "# Set seaborn color palette\n",
        "colors = sns.color_palette(\"pastel\")\n",
        "\n",
        "%matplotlib inline\n"
      ],
      "execution_count": null,
      "outputs": []
    },
    {
      "cell_type": "code",
      "metadata": {
        "id": "wu_-wBhlBrTl"
      },
      "source": [
        "df_aisles = pd.read_csv(\"/content/drive/MyDrive/Almabetter/Cohort Nilgiri/Kaggle/aisles.csv\")\n",
        "df_departments = pd.read_csv(\"/content/drive/MyDrive/Almabetter/Cohort Nilgiri/Kaggle/departments.csv\")\n",
        "df_products = pd.read_csv(\"/content/drive/MyDrive/Almabetter/Cohort Nilgiri/Kaggle/products.csv\")\n",
        "df_order_products_prior = pd.read_csv(\"/content/drive/MyDrive/Almabetter/Cohort Nilgiri/Kaggle/order_products__prior.csv\")\n",
        "df_order_products_train = pd.read_csv(\"/content/drive/MyDrive/Almabetter/Cohort Nilgiri/Kaggle/order_products__train.csv\")\n",
        "df_order_products_test = pd.read_csv('/content/drive/MyDrive/Almabetter/Cohort Nilgiri/Kaggle/sample_submission.csv')\n",
        "df_orders = pd.read_csv(\"/content/drive/MyDrive/Almabetter/Cohort Nilgiri/Kaggle/orders.csv\")\n",
        "\n"
      ],
      "execution_count": null,
      "outputs": []
    },
    {
      "cell_type": "markdown",
      "metadata": {
        "id": "XlwRCcixFtR-"
      },
      "source": [
        "## Peeking into data frames"
      ]
    },
    {
      "cell_type": "code",
      "metadata": {
        "colab": {
          "base_uri": "https://localhost:8080/",
          "height": 212
        },
        "id": "3WmxeWbRBLWk",
        "outputId": "d849d143-27eb-4bb4-97ef-5d3a6e26bddb"
      },
      "source": [
        "# Peeking into dataframes\n",
        "print('Total aisles: {}'.format(df_aisles.shape[0]))\n",
        "df_aisles.head()"
      ],
      "execution_count": null,
      "outputs": [
        {
          "output_type": "stream",
          "text": [
            "Total aisles: 134\n"
          ],
          "name": "stdout"
        },
        {
          "output_type": "execute_result",
          "data": {
            "text/html": [
              "<div>\n",
              "<style scoped>\n",
              "    .dataframe tbody tr th:only-of-type {\n",
              "        vertical-align: middle;\n",
              "    }\n",
              "\n",
              "    .dataframe tbody tr th {\n",
              "        vertical-align: top;\n",
              "    }\n",
              "\n",
              "    .dataframe thead th {\n",
              "        text-align: right;\n",
              "    }\n",
              "</style>\n",
              "<table border=\"1\" class=\"dataframe\">\n",
              "  <thead>\n",
              "    <tr style=\"text-align: right;\">\n",
              "      <th></th>\n",
              "      <th>aisle_id</th>\n",
              "      <th>aisle</th>\n",
              "    </tr>\n",
              "  </thead>\n",
              "  <tbody>\n",
              "    <tr>\n",
              "      <th>0</th>\n",
              "      <td>1</td>\n",
              "      <td>prepared soups salads</td>\n",
              "    </tr>\n",
              "    <tr>\n",
              "      <th>1</th>\n",
              "      <td>2</td>\n",
              "      <td>specialty cheeses</td>\n",
              "    </tr>\n",
              "    <tr>\n",
              "      <th>2</th>\n",
              "      <td>3</td>\n",
              "      <td>energy granola bars</td>\n",
              "    </tr>\n",
              "    <tr>\n",
              "      <th>3</th>\n",
              "      <td>4</td>\n",
              "      <td>instant foods</td>\n",
              "    </tr>\n",
              "    <tr>\n",
              "      <th>4</th>\n",
              "      <td>5</td>\n",
              "      <td>marinades meat preparation</td>\n",
              "    </tr>\n",
              "  </tbody>\n",
              "</table>\n",
              "</div>"
            ],
            "text/plain": [
              "   aisle_id                       aisle\n",
              "0         1       prepared soups salads\n",
              "1         2           specialty cheeses\n",
              "2         3         energy granola bars\n",
              "3         4               instant foods\n",
              "4         5  marinades meat preparation"
            ]
          },
          "metadata": {
            "tags": []
          },
          "execution_count": 10
        }
      ]
    },
    {
      "cell_type": "code",
      "metadata": {
        "colab": {
          "base_uri": "https://localhost:8080/",
          "height": 212
        },
        "id": "YpMXPnKTBkRf",
        "outputId": "2a94e9bb-95e5-4725-eaaf-176ca02fb17b"
      },
      "source": [
        "print('Total departments: {}'.format(df_departments.shape[0]))\n",
        "df_departments.head()\n"
      ],
      "execution_count": null,
      "outputs": [
        {
          "output_type": "stream",
          "text": [
            "Total departments: 21\n"
          ],
          "name": "stdout"
        },
        {
          "output_type": "execute_result",
          "data": {
            "text/html": [
              "<div>\n",
              "<style scoped>\n",
              "    .dataframe tbody tr th:only-of-type {\n",
              "        vertical-align: middle;\n",
              "    }\n",
              "\n",
              "    .dataframe tbody tr th {\n",
              "        vertical-align: top;\n",
              "    }\n",
              "\n",
              "    .dataframe thead th {\n",
              "        text-align: right;\n",
              "    }\n",
              "</style>\n",
              "<table border=\"1\" class=\"dataframe\">\n",
              "  <thead>\n",
              "    <tr style=\"text-align: right;\">\n",
              "      <th></th>\n",
              "      <th>department_id</th>\n",
              "      <th>department</th>\n",
              "    </tr>\n",
              "  </thead>\n",
              "  <tbody>\n",
              "    <tr>\n",
              "      <th>0</th>\n",
              "      <td>1</td>\n",
              "      <td>frozen</td>\n",
              "    </tr>\n",
              "    <tr>\n",
              "      <th>1</th>\n",
              "      <td>2</td>\n",
              "      <td>other</td>\n",
              "    </tr>\n",
              "    <tr>\n",
              "      <th>2</th>\n",
              "      <td>3</td>\n",
              "      <td>bakery</td>\n",
              "    </tr>\n",
              "    <tr>\n",
              "      <th>3</th>\n",
              "      <td>4</td>\n",
              "      <td>produce</td>\n",
              "    </tr>\n",
              "    <tr>\n",
              "      <th>4</th>\n",
              "      <td>5</td>\n",
              "      <td>alcohol</td>\n",
              "    </tr>\n",
              "  </tbody>\n",
              "</table>\n",
              "</div>"
            ],
            "text/plain": [
              "   department_id department\n",
              "0              1     frozen\n",
              "1              2      other\n",
              "2              3     bakery\n",
              "3              4    produce\n",
              "4              5    alcohol"
            ]
          },
          "metadata": {
            "tags": []
          },
          "execution_count": 11
        }
      ]
    },
    {
      "cell_type": "code",
      "metadata": {
        "colab": {
          "base_uri": "https://localhost:8080/",
          "height": 212
        },
        "id": "7hJvnyXXEGZq",
        "outputId": "1df5646e-4b32-4bde-f3b6-3aafb7e57415"
      },
      "source": [
        "print('Total products: {}'.format(df_products.shape[0]))\n",
        "df_products.head()\n"
      ],
      "execution_count": null,
      "outputs": [
        {
          "output_type": "stream",
          "text": [
            "Total products: 49688\n"
          ],
          "name": "stdout"
        },
        {
          "output_type": "execute_result",
          "data": {
            "text/html": [
              "<div>\n",
              "<style scoped>\n",
              "    .dataframe tbody tr th:only-of-type {\n",
              "        vertical-align: middle;\n",
              "    }\n",
              "\n",
              "    .dataframe tbody tr th {\n",
              "        vertical-align: top;\n",
              "    }\n",
              "\n",
              "    .dataframe thead th {\n",
              "        text-align: right;\n",
              "    }\n",
              "</style>\n",
              "<table border=\"1\" class=\"dataframe\">\n",
              "  <thead>\n",
              "    <tr style=\"text-align: right;\">\n",
              "      <th></th>\n",
              "      <th>product_id</th>\n",
              "      <th>product_name</th>\n",
              "      <th>aisle_id</th>\n",
              "      <th>department_id</th>\n",
              "    </tr>\n",
              "  </thead>\n",
              "  <tbody>\n",
              "    <tr>\n",
              "      <th>0</th>\n",
              "      <td>1</td>\n",
              "      <td>Chocolate Sandwich Cookies</td>\n",
              "      <td>61</td>\n",
              "      <td>19</td>\n",
              "    </tr>\n",
              "    <tr>\n",
              "      <th>1</th>\n",
              "      <td>2</td>\n",
              "      <td>All-Seasons Salt</td>\n",
              "      <td>104</td>\n",
              "      <td>13</td>\n",
              "    </tr>\n",
              "    <tr>\n",
              "      <th>2</th>\n",
              "      <td>3</td>\n",
              "      <td>Robust Golden Unsweetened Oolong Tea</td>\n",
              "      <td>94</td>\n",
              "      <td>7</td>\n",
              "    </tr>\n",
              "    <tr>\n",
              "      <th>3</th>\n",
              "      <td>4</td>\n",
              "      <td>Smart Ones Classic Favorites Mini Rigatoni Wit...</td>\n",
              "      <td>38</td>\n",
              "      <td>1</td>\n",
              "    </tr>\n",
              "    <tr>\n",
              "      <th>4</th>\n",
              "      <td>5</td>\n",
              "      <td>Green Chile Anytime Sauce</td>\n",
              "      <td>5</td>\n",
              "      <td>13</td>\n",
              "    </tr>\n",
              "  </tbody>\n",
              "</table>\n",
              "</div>"
            ],
            "text/plain": [
              "   product_id  ... department_id\n",
              "0           1  ...            19\n",
              "1           2  ...            13\n",
              "2           3  ...             7\n",
              "3           4  ...             1\n",
              "4           5  ...            13\n",
              "\n",
              "[5 rows x 4 columns]"
            ]
          },
          "metadata": {
            "tags": []
          },
          "execution_count": 12
        }
      ]
    },
    {
      "cell_type": "code",
      "metadata": {
        "colab": {
          "base_uri": "https://localhost:8080/",
          "height": 212
        },
        "id": "D0uB_h3dEIrv",
        "outputId": "c7242db6-9e30-4532-d742-f8c18462a89a"
      },
      "source": [
        "print('Total ordered products (prior): {}'.format(df_order_products_prior.shape[0]))\n",
        "df_order_products_prior.head()\n"
      ],
      "execution_count": null,
      "outputs": [
        {
          "output_type": "stream",
          "text": [
            "Total ordered products (prior): 32434489\n"
          ],
          "name": "stdout"
        },
        {
          "output_type": "execute_result",
          "data": {
            "text/html": [
              "<div>\n",
              "<style scoped>\n",
              "    .dataframe tbody tr th:only-of-type {\n",
              "        vertical-align: middle;\n",
              "    }\n",
              "\n",
              "    .dataframe tbody tr th {\n",
              "        vertical-align: top;\n",
              "    }\n",
              "\n",
              "    .dataframe thead th {\n",
              "        text-align: right;\n",
              "    }\n",
              "</style>\n",
              "<table border=\"1\" class=\"dataframe\">\n",
              "  <thead>\n",
              "    <tr style=\"text-align: right;\">\n",
              "      <th></th>\n",
              "      <th>order_id</th>\n",
              "      <th>product_id</th>\n",
              "      <th>add_to_cart_order</th>\n",
              "      <th>reordered</th>\n",
              "    </tr>\n",
              "  </thead>\n",
              "  <tbody>\n",
              "    <tr>\n",
              "      <th>0</th>\n",
              "      <td>2</td>\n",
              "      <td>33120</td>\n",
              "      <td>1</td>\n",
              "      <td>1</td>\n",
              "    </tr>\n",
              "    <tr>\n",
              "      <th>1</th>\n",
              "      <td>2</td>\n",
              "      <td>28985</td>\n",
              "      <td>2</td>\n",
              "      <td>1</td>\n",
              "    </tr>\n",
              "    <tr>\n",
              "      <th>2</th>\n",
              "      <td>2</td>\n",
              "      <td>9327</td>\n",
              "      <td>3</td>\n",
              "      <td>0</td>\n",
              "    </tr>\n",
              "    <tr>\n",
              "      <th>3</th>\n",
              "      <td>2</td>\n",
              "      <td>45918</td>\n",
              "      <td>4</td>\n",
              "      <td>1</td>\n",
              "    </tr>\n",
              "    <tr>\n",
              "      <th>4</th>\n",
              "      <td>2</td>\n",
              "      <td>30035</td>\n",
              "      <td>5</td>\n",
              "      <td>0</td>\n",
              "    </tr>\n",
              "  </tbody>\n",
              "</table>\n",
              "</div>"
            ],
            "text/plain": [
              "   order_id  product_id  add_to_cart_order  reordered\n",
              "0         2       33120                  1          1\n",
              "1         2       28985                  2          1\n",
              "2         2        9327                  3          0\n",
              "3         2       45918                  4          1\n",
              "4         2       30035                  5          0"
            ]
          },
          "metadata": {
            "tags": []
          },
          "execution_count": 13
        }
      ]
    },
    {
      "cell_type": "code",
      "metadata": {
        "colab": {
          "base_uri": "https://localhost:8080/",
          "height": 212
        },
        "id": "oh5SXM2REK3O",
        "outputId": "eba5cd5c-12ae-484e-a437-d6388739c775"
      },
      "source": [
        "print('Total ordered products (train): {}'.format(df_order_products_train.shape[0]))\n",
        "df_order_products_train.head()\n"
      ],
      "execution_count": null,
      "outputs": [
        {
          "output_type": "stream",
          "text": [
            "Total ordered products (train): 1384617\n"
          ],
          "name": "stdout"
        },
        {
          "output_type": "execute_result",
          "data": {
            "text/html": [
              "<div>\n",
              "<style scoped>\n",
              "    .dataframe tbody tr th:only-of-type {\n",
              "        vertical-align: middle;\n",
              "    }\n",
              "\n",
              "    .dataframe tbody tr th {\n",
              "        vertical-align: top;\n",
              "    }\n",
              "\n",
              "    .dataframe thead th {\n",
              "        text-align: right;\n",
              "    }\n",
              "</style>\n",
              "<table border=\"1\" class=\"dataframe\">\n",
              "  <thead>\n",
              "    <tr style=\"text-align: right;\">\n",
              "      <th></th>\n",
              "      <th>order_id</th>\n",
              "      <th>product_id</th>\n",
              "      <th>add_to_cart_order</th>\n",
              "      <th>reordered</th>\n",
              "    </tr>\n",
              "  </thead>\n",
              "  <tbody>\n",
              "    <tr>\n",
              "      <th>0</th>\n",
              "      <td>1</td>\n",
              "      <td>49302</td>\n",
              "      <td>1</td>\n",
              "      <td>1</td>\n",
              "    </tr>\n",
              "    <tr>\n",
              "      <th>1</th>\n",
              "      <td>1</td>\n",
              "      <td>11109</td>\n",
              "      <td>2</td>\n",
              "      <td>1</td>\n",
              "    </tr>\n",
              "    <tr>\n",
              "      <th>2</th>\n",
              "      <td>1</td>\n",
              "      <td>10246</td>\n",
              "      <td>3</td>\n",
              "      <td>0</td>\n",
              "    </tr>\n",
              "    <tr>\n",
              "      <th>3</th>\n",
              "      <td>1</td>\n",
              "      <td>49683</td>\n",
              "      <td>4</td>\n",
              "      <td>0</td>\n",
              "    </tr>\n",
              "    <tr>\n",
              "      <th>4</th>\n",
              "      <td>1</td>\n",
              "      <td>43633</td>\n",
              "      <td>5</td>\n",
              "      <td>1</td>\n",
              "    </tr>\n",
              "  </tbody>\n",
              "</table>\n",
              "</div>"
            ],
            "text/plain": [
              "   order_id  product_id  add_to_cart_order  reordered\n",
              "0         1       49302                  1          1\n",
              "1         1       11109                  2          1\n",
              "2         1       10246                  3          0\n",
              "3         1       49683                  4          0\n",
              "4         1       43633                  5          1"
            ]
          },
          "metadata": {
            "tags": []
          },
          "execution_count": 14
        }
      ]
    },
    {
      "cell_type": "code",
      "metadata": {
        "colab": {
          "base_uri": "https://localhost:8080/",
          "height": 212
        },
        "id": "IpI_AWhlENSq",
        "outputId": "75d10d12-244a-4379-db3d-80f2a731aa67"
      },
      "source": [
        "print('Orders(test): {}'.format(df_order_products_test.shape[0]))\n",
        "df_order_products_test.head()\n"
      ],
      "execution_count": null,
      "outputs": [
        {
          "output_type": "stream",
          "text": [
            "Orders(test): 75000\n"
          ],
          "name": "stdout"
        },
        {
          "output_type": "execute_result",
          "data": {
            "text/html": [
              "<div>\n",
              "<style scoped>\n",
              "    .dataframe tbody tr th:only-of-type {\n",
              "        vertical-align: middle;\n",
              "    }\n",
              "\n",
              "    .dataframe tbody tr th {\n",
              "        vertical-align: top;\n",
              "    }\n",
              "\n",
              "    .dataframe thead th {\n",
              "        text-align: right;\n",
              "    }\n",
              "</style>\n",
              "<table border=\"1\" class=\"dataframe\">\n",
              "  <thead>\n",
              "    <tr style=\"text-align: right;\">\n",
              "      <th></th>\n",
              "      <th>order_id</th>\n",
              "      <th>products</th>\n",
              "    </tr>\n",
              "  </thead>\n",
              "  <tbody>\n",
              "    <tr>\n",
              "      <th>0</th>\n",
              "      <td>17</td>\n",
              "      <td>39276 29259</td>\n",
              "    </tr>\n",
              "    <tr>\n",
              "      <th>1</th>\n",
              "      <td>34</td>\n",
              "      <td>39276 29259</td>\n",
              "    </tr>\n",
              "    <tr>\n",
              "      <th>2</th>\n",
              "      <td>137</td>\n",
              "      <td>39276 29259</td>\n",
              "    </tr>\n",
              "    <tr>\n",
              "      <th>3</th>\n",
              "      <td>182</td>\n",
              "      <td>39276 29259</td>\n",
              "    </tr>\n",
              "    <tr>\n",
              "      <th>4</th>\n",
              "      <td>257</td>\n",
              "      <td>39276 29259</td>\n",
              "    </tr>\n",
              "  </tbody>\n",
              "</table>\n",
              "</div>"
            ],
            "text/plain": [
              "   order_id     products\n",
              "0        17  39276 29259\n",
              "1        34  39276 29259\n",
              "2       137  39276 29259\n",
              "3       182  39276 29259\n",
              "4       257  39276 29259"
            ]
          },
          "metadata": {
            "tags": []
          },
          "execution_count": 15
        }
      ]
    },
    {
      "cell_type": "code",
      "metadata": {
        "colab": {
          "base_uri": "https://localhost:8080/",
          "height": 212
        },
        "id": "fT2-xlmREPc2",
        "outputId": "f369852a-3f3d-46d4-f1ba-e3a0c98d5b6e"
      },
      "source": [
        "\n",
        "print('Total orders: {}'.format(df_orders.shape[0]))\n",
        "df_orders.head()\n"
      ],
      "execution_count": null,
      "outputs": [
        {
          "output_type": "stream",
          "text": [
            "Total orders: 3421083\n"
          ],
          "name": "stdout"
        },
        {
          "output_type": "execute_result",
          "data": {
            "text/html": [
              "<div>\n",
              "<style scoped>\n",
              "    .dataframe tbody tr th:only-of-type {\n",
              "        vertical-align: middle;\n",
              "    }\n",
              "\n",
              "    .dataframe tbody tr th {\n",
              "        vertical-align: top;\n",
              "    }\n",
              "\n",
              "    .dataframe thead th {\n",
              "        text-align: right;\n",
              "    }\n",
              "</style>\n",
              "<table border=\"1\" class=\"dataframe\">\n",
              "  <thead>\n",
              "    <tr style=\"text-align: right;\">\n",
              "      <th></th>\n",
              "      <th>order_id</th>\n",
              "      <th>user_id</th>\n",
              "      <th>eval_set</th>\n",
              "      <th>order_number</th>\n",
              "      <th>order_dow</th>\n",
              "      <th>order_hour_of_day</th>\n",
              "      <th>days_since_prior_order</th>\n",
              "    </tr>\n",
              "  </thead>\n",
              "  <tbody>\n",
              "    <tr>\n",
              "      <th>0</th>\n",
              "      <td>2539329</td>\n",
              "      <td>1</td>\n",
              "      <td>prior</td>\n",
              "      <td>1</td>\n",
              "      <td>2</td>\n",
              "      <td>8</td>\n",
              "      <td>NaN</td>\n",
              "    </tr>\n",
              "    <tr>\n",
              "      <th>1</th>\n",
              "      <td>2398795</td>\n",
              "      <td>1</td>\n",
              "      <td>prior</td>\n",
              "      <td>2</td>\n",
              "      <td>3</td>\n",
              "      <td>7</td>\n",
              "      <td>15.0</td>\n",
              "    </tr>\n",
              "    <tr>\n",
              "      <th>2</th>\n",
              "      <td>473747</td>\n",
              "      <td>1</td>\n",
              "      <td>prior</td>\n",
              "      <td>3</td>\n",
              "      <td>3</td>\n",
              "      <td>12</td>\n",
              "      <td>21.0</td>\n",
              "    </tr>\n",
              "    <tr>\n",
              "      <th>3</th>\n",
              "      <td>2254736</td>\n",
              "      <td>1</td>\n",
              "      <td>prior</td>\n",
              "      <td>4</td>\n",
              "      <td>4</td>\n",
              "      <td>7</td>\n",
              "      <td>29.0</td>\n",
              "    </tr>\n",
              "    <tr>\n",
              "      <th>4</th>\n",
              "      <td>431534</td>\n",
              "      <td>1</td>\n",
              "      <td>prior</td>\n",
              "      <td>5</td>\n",
              "      <td>4</td>\n",
              "      <td>15</td>\n",
              "      <td>28.0</td>\n",
              "    </tr>\n",
              "  </tbody>\n",
              "</table>\n",
              "</div>"
            ],
            "text/plain": [
              "   order_id  user_id  ... order_hour_of_day  days_since_prior_order\n",
              "0   2539329        1  ...                 8                     NaN\n",
              "1   2398795        1  ...                 7                    15.0\n",
              "2    473747        1  ...                12                    21.0\n",
              "3   2254736        1  ...                 7                    29.0\n",
              "4    431534        1  ...                15                    28.0\n",
              "\n",
              "[5 rows x 7 columns]"
            ]
          },
          "metadata": {
            "tags": []
          },
          "execution_count": 16
        }
      ]
    },
    {
      "cell_type": "code",
      "metadata": {
        "colab": {
          "base_uri": "https://localhost:8080/",
          "height": 284
        },
        "id": "lR5xH6jPEf5f",
        "outputId": "675c8b02-f393-418d-b0e0-a1462018d53e"
      },
      "source": [
        "df_orders.describe()\n"
      ],
      "execution_count": null,
      "outputs": [
        {
          "output_type": "execute_result",
          "data": {
            "text/html": [
              "<div>\n",
              "<style scoped>\n",
              "    .dataframe tbody tr th:only-of-type {\n",
              "        vertical-align: middle;\n",
              "    }\n",
              "\n",
              "    .dataframe tbody tr th {\n",
              "        vertical-align: top;\n",
              "    }\n",
              "\n",
              "    .dataframe thead th {\n",
              "        text-align: right;\n",
              "    }\n",
              "</style>\n",
              "<table border=\"1\" class=\"dataframe\">\n",
              "  <thead>\n",
              "    <tr style=\"text-align: right;\">\n",
              "      <th></th>\n",
              "      <th>order_id</th>\n",
              "      <th>user_id</th>\n",
              "      <th>order_number</th>\n",
              "      <th>order_dow</th>\n",
              "      <th>order_hour_of_day</th>\n",
              "      <th>days_since_prior_order</th>\n",
              "    </tr>\n",
              "  </thead>\n",
              "  <tbody>\n",
              "    <tr>\n",
              "      <th>count</th>\n",
              "      <td>3.421083e+06</td>\n",
              "      <td>3.421083e+06</td>\n",
              "      <td>3.421083e+06</td>\n",
              "      <td>3.421083e+06</td>\n",
              "      <td>3.421083e+06</td>\n",
              "      <td>3.214874e+06</td>\n",
              "    </tr>\n",
              "    <tr>\n",
              "      <th>mean</th>\n",
              "      <td>1.710542e+06</td>\n",
              "      <td>1.029782e+05</td>\n",
              "      <td>1.715486e+01</td>\n",
              "      <td>2.776219e+00</td>\n",
              "      <td>1.345202e+01</td>\n",
              "      <td>1.111484e+01</td>\n",
              "    </tr>\n",
              "    <tr>\n",
              "      <th>std</th>\n",
              "      <td>9.875817e+05</td>\n",
              "      <td>5.953372e+04</td>\n",
              "      <td>1.773316e+01</td>\n",
              "      <td>2.046829e+00</td>\n",
              "      <td>4.226088e+00</td>\n",
              "      <td>9.206737e+00</td>\n",
              "    </tr>\n",
              "    <tr>\n",
              "      <th>min</th>\n",
              "      <td>1.000000e+00</td>\n",
              "      <td>1.000000e+00</td>\n",
              "      <td>1.000000e+00</td>\n",
              "      <td>0.000000e+00</td>\n",
              "      <td>0.000000e+00</td>\n",
              "      <td>0.000000e+00</td>\n",
              "    </tr>\n",
              "    <tr>\n",
              "      <th>25%</th>\n",
              "      <td>8.552715e+05</td>\n",
              "      <td>5.139400e+04</td>\n",
              "      <td>5.000000e+00</td>\n",
              "      <td>1.000000e+00</td>\n",
              "      <td>1.000000e+01</td>\n",
              "      <td>4.000000e+00</td>\n",
              "    </tr>\n",
              "    <tr>\n",
              "      <th>50%</th>\n",
              "      <td>1.710542e+06</td>\n",
              "      <td>1.026890e+05</td>\n",
              "      <td>1.100000e+01</td>\n",
              "      <td>3.000000e+00</td>\n",
              "      <td>1.300000e+01</td>\n",
              "      <td>7.000000e+00</td>\n",
              "    </tr>\n",
              "    <tr>\n",
              "      <th>75%</th>\n",
              "      <td>2.565812e+06</td>\n",
              "      <td>1.543850e+05</td>\n",
              "      <td>2.300000e+01</td>\n",
              "      <td>5.000000e+00</td>\n",
              "      <td>1.600000e+01</td>\n",
              "      <td>1.500000e+01</td>\n",
              "    </tr>\n",
              "    <tr>\n",
              "      <th>max</th>\n",
              "      <td>3.421083e+06</td>\n",
              "      <td>2.062090e+05</td>\n",
              "      <td>1.000000e+02</td>\n",
              "      <td>6.000000e+00</td>\n",
              "      <td>2.300000e+01</td>\n",
              "      <td>3.000000e+01</td>\n",
              "    </tr>\n",
              "  </tbody>\n",
              "</table>\n",
              "</div>"
            ],
            "text/plain": [
              "           order_id       user_id  ...  order_hour_of_day  days_since_prior_order\n",
              "count  3.421083e+06  3.421083e+06  ...       3.421083e+06            3.214874e+06\n",
              "mean   1.710542e+06  1.029782e+05  ...       1.345202e+01            1.111484e+01\n",
              "std    9.875817e+05  5.953372e+04  ...       4.226088e+00            9.206737e+00\n",
              "min    1.000000e+00  1.000000e+00  ...       0.000000e+00            0.000000e+00\n",
              "25%    8.552715e+05  5.139400e+04  ...       1.000000e+01            4.000000e+00\n",
              "50%    1.710542e+06  1.026890e+05  ...       1.300000e+01            7.000000e+00\n",
              "75%    2.565812e+06  1.543850e+05  ...       1.600000e+01            1.500000e+01\n",
              "max    3.421083e+06  2.062090e+05  ...       2.300000e+01            3.000000e+01\n",
              "\n",
              "[8 rows x 6 columns]"
            ]
          },
          "metadata": {
            "tags": []
          },
          "execution_count": 17
        }
      ]
    },
    {
      "cell_type": "code",
      "metadata": {
        "colab": {
          "base_uri": "https://localhost:8080/",
          "height": 136
        },
        "id": "eJ-9qSKMEnG6",
        "outputId": "f81877b9-4177-4194-f5ab-eb87b2f9810f"
      },
      "source": [
        "# User split into train and test\n",
        "df_orders.groupby(\"eval_set\").nunique().user_id.reset_index()\n",
        "\n"
      ],
      "execution_count": null,
      "outputs": [
        {
          "output_type": "execute_result",
          "data": {
            "text/html": [
              "<div>\n",
              "<style scoped>\n",
              "    .dataframe tbody tr th:only-of-type {\n",
              "        vertical-align: middle;\n",
              "    }\n",
              "\n",
              "    .dataframe tbody tr th {\n",
              "        vertical-align: top;\n",
              "    }\n",
              "\n",
              "    .dataframe thead th {\n",
              "        text-align: right;\n",
              "    }\n",
              "</style>\n",
              "<table border=\"1\" class=\"dataframe\">\n",
              "  <thead>\n",
              "    <tr style=\"text-align: right;\">\n",
              "      <th></th>\n",
              "      <th>eval_set</th>\n",
              "      <th>user_id</th>\n",
              "    </tr>\n",
              "  </thead>\n",
              "  <tbody>\n",
              "    <tr>\n",
              "      <th>0</th>\n",
              "      <td>prior</td>\n",
              "      <td>206209</td>\n",
              "    </tr>\n",
              "    <tr>\n",
              "      <th>1</th>\n",
              "      <td>test</td>\n",
              "      <td>75000</td>\n",
              "    </tr>\n",
              "    <tr>\n",
              "      <th>2</th>\n",
              "      <td>train</td>\n",
              "      <td>131209</td>\n",
              "    </tr>\n",
              "  </tbody>\n",
              "</table>\n",
              "</div>"
            ],
            "text/plain": [
              "  eval_set  user_id\n",
              "0    prior   206209\n",
              "1     test    75000\n",
              "2    train   131209"
            ]
          },
          "metadata": {
            "tags": []
          },
          "execution_count": 18
        }
      ]
    },
    {
      "cell_type": "markdown",
      "metadata": {
        "id": "khEwXMWnF0Je"
      },
      "source": [
        "## EDA"
      ]
    },
    {
      "cell_type": "code",
      "metadata": {
        "colab": {
          "base_uri": "https://localhost:8080/",
          "height": 565
        },
        "id": "kBF6VjNsEtte",
        "outputId": "f2bbd3c3-c3e9-44ed-f90d-8fafdaa11565"
      },
      "source": [
        "user_order_count = df_orders.groupby(\"user_id\")[\"order_number\"].aggregate(max).reset_index().order_number.value_counts()\n",
        "\n",
        "plt.figure(figsize=(12,8))\n",
        "sns.barplot(user_order_count.index, user_order_count.values, color=colors[0])\n",
        "plt.ylabel(\"Frequency\", fontsize=15)\n",
        "# Add title\n",
        "plt.xticks(rotation=\"vertical\")\n",
        "plt.xlabel(\"Orders per user\", fontsize=15)\n",
        "plt.show()\n"
      ],
      "execution_count": null,
      "outputs": [
        {
          "output_type": "stream",
          "text": [
            "/usr/local/lib/python3.7/dist-packages/seaborn/_decorators.py:43: FutureWarning: Pass the following variables as keyword args: x, y. From version 0.12, the only valid positional argument will be `data`, and passing other arguments without an explicit keyword will result in an error or misinterpretation.\n",
            "  FutureWarning\n"
          ],
          "name": "stderr"
        },
        {
          "output_type": "display_data",
          "data": {
            "image/png": "[encoded data removed]",
            "text/plain": [
              "<Figure size 864x576 with 1 Axes>"
            ]
          },
          "metadata": {
            "tags": [],
            "needs_background": "light"
          }
        }
      ]
    },
    {
      "cell_type": "code",
      "metadata": {
        "colab": {
          "base_uri": "https://localhost:8080/",
          "height": 502
        },
        "id": "kAHCZD9EFAp3",
        "outputId": "432d8fdd-1f5b-493f-cf10-f5876026dccf"
      },
      "source": [
        "# Prior set\n",
        "order_product_count = df_order_products_prior.groupby(\"order_id\")[\"add_to_cart_order\"].aggregate(max).reset_index().add_to_cart_order.value_counts()\n",
        "\n",
        "plt.figure(figsize=(12,8))\n",
        "plt.bar(order_product_count.index, order_product_count.values, color=colors[1])\n",
        "plt.ylabel('Frequency', fontsize=15)\n",
        "# Add title\n",
        "plt.xlabel('Products per order', fontsize=15)\n",
        "plt.show()\n"
      ],
      "execution_count": null,
      "outputs": [
        {
          "output_type": "display_data",
          "data": {
            "image/png": "[encoded data removed]",
            "text/plain": [
              "<Figure size 864x576 with 1 Axes>"
            ]
          },
          "metadata": {
            "tags": [],
            "needs_background": "light"
          }
        }
      ]
    },
    {
      "cell_type": "code",
      "metadata": {
        "colab": {
          "base_uri": "https://localhost:8080/",
          "height": 570
        },
        "id": "OR30asM1E81s",
        "outputId": "9850b829-ea35-4046-ef9c-3b0ceb001b7e"
      },
      "source": [
        "# Train set\n",
        "order_product_count = df_order_products_train.groupby(\"order_id\")[\"add_to_cart_order\"].aggregate(max).reset_index().add_to_cart_order.value_counts()\n",
        "\n",
        "plt.figure(figsize=(12,8))\n",
        "sns.barplot(order_product_count.index, order_product_count.values, color=colors[0])\n",
        "plt.ylabel('Frequency')\n",
        "plt.xticks(rotation=\"vertical\")\n",
        "plt.title(\"Frequency distribution of products per order\")\n",
        "plt.xlabel('Products per order')\n",
        "plt.show()\n"
      ],
      "execution_count": null,
      "outputs": [
        {
          "output_type": "stream",
          "text": [
            "/usr/local/lib/python3.7/dist-packages/seaborn/_decorators.py:43: FutureWarning: Pass the following variables as keyword args: x, y. From version 0.12, the only valid positional argument will be `data`, and passing other arguments without an explicit keyword will result in an error or misinterpretation.\n",
            "  FutureWarning\n"
          ],
          "name": "stderr"
        },
        {
          "output_type": "display_data",
          "data": {
            "image/png": "[encoded data removed]",
            "text/plain": [
              "<Figure size 864x576 with 1 Axes>"
            ]
          },
          "metadata": {
            "tags": [],
            "needs_background": "light"
          }
        }
      ]
    },
    {
      "cell_type": "code",
      "metadata": {
        "colab": {
          "base_uri": "https://localhost:8080/",
          "height": 513
        },
        "id": "R0N_y_fqE8yS",
        "outputId": "2ffbe56c-5185-4349-890a-44bf08e29d4f"
      },
      "source": [
        "plt.figure(figsize=(12,8))\n",
        "sns.countplot(x=\"order_dow\", data=df_orders, color=colors[2])\n",
        "plt.ylabel(\"Frquency\")\n",
        "plt.xlabel(\"Day of the week\")\n",
        "plt.title(\"Frequency distribution of orders per day of the week\")\n",
        "plt.show()\n"
      ],
      "execution_count": null,
      "outputs": [
        {
          "output_type": "display_data",
          "data": {
            "image/png": "[encoded data removed]",
            "text/plain": [
              "<Figure size 864x576 with 1 Axes>"
            ]
          },
          "metadata": {
            "tags": [],
            "needs_background": "light"
          }
        }
      ]
    },
    {
      "cell_type": "code",
      "metadata": {
        "colab": {
          "base_uri": "https://localhost:8080/",
          "height": 513
        },
        "id": "iuHC7JcUE8vt",
        "outputId": "b09f7cb0-e53f-47ed-a780-147a62f09a32"
      },
      "source": [
        "plt.figure(figsize=(12,8))\n",
        "sns.countplot(x=\"order_hour_of_day\", data=df_orders, color=colors[5])\n",
        "plt.ylabel(\"Frequency\")\n",
        "plt.xlabel(\"Time of day\")\n",
        "plt.title(\"Frequency distribution of orders per time of day\")\n",
        "plt.show()\n"
      ],
      "execution_count": null,
      "outputs": [
        {
          "output_type": "display_data",
          "data": {
            "image/png": "[encoded data removed]",
            "text/plain": [
              "<Figure size 864x576 with 1 Axes>"
            ]
          },
          "metadata": {
            "tags": [],
            "needs_background": "light"
          }
        }
      ]
    },
    {
      "cell_type": "code",
      "metadata": {
        "colab": {
          "base_uri": "https://localhost:8080/",
          "height": 525
        },
        "id": "O2QAY4osE8tL",
        "outputId": "3db6032e-2d43-42b2-8275-dc40340bbe32"
      },
      "source": [
        "plt.figure(figsize=(12, 8))\n",
        "sns.countplot(x=\"days_since_prior_order\", data=df_orders, color=colors[3])\n",
        "plt.ylabel(\"Frequency\")\n",
        "plt.xlabel('Days since prior order')\n",
        "plt.xticks(rotation=\"vertical\")\n",
        "plt.title(\"Frequency distribution of days since prior order\")\n",
        "plt.show()\n"
      ],
      "execution_count": null,
      "outputs": [
        {
          "output_type": "display_data",
          "data": {
            "image/png": "[encoded data removed]",
            "text/plain": [
              "<Figure size 864x576 with 1 Axes>"
            ]
          },
          "metadata": {
            "tags": [],
            "needs_background": "light"
          }
        }
      ]
    },
    {
      "cell_type": "code",
      "metadata": {
        "id": "YEzBFcBCFQ02"
      },
      "source": [
        "# Merge Prior orders, Product, Aisle and Department \n",
        "df_order_products_prior_merged = pd.merge(\n",
        "                                    pd.merge(pd.merge(df_order_products_prior, df_products, on=\"product_id\", how=\"left\"), \n",
        "                                        df_aisles, \n",
        "                                        on=\"aisle_id\", \n",
        "                                        how=\"left\"), \n",
        "                                    df_departments, \n",
        "                                    on=\"department_id\", \n",
        "                                    how=\"left\")\n"
      ],
      "execution_count": null,
      "outputs": []
    },
    {
      "cell_type": "code",
      "metadata": {
        "colab": {
          "base_uri": "https://localhost:8080/",
          "height": 195
        },
        "id": "BcW4HP-OFQxX",
        "outputId": "ee526a68-f992-4710-8cc5-81e3109d5127"
      },
      "source": [
        "df_order_products_prior_merged.head()\n"
      ],
      "execution_count": null,
      "outputs": [
        {
          "output_type": "execute_result",
          "data": {
            "text/html": [
              "<div>\n",
              "<style scoped>\n",
              "    .dataframe tbody tr th:only-of-type {\n",
              "        vertical-align: middle;\n",
              "    }\n",
              "\n",
              "    .dataframe tbody tr th {\n",
              "        vertical-align: top;\n",
              "    }\n",
              "\n",
              "    .dataframe thead th {\n",
              "        text-align: right;\n",
              "    }\n",
              "</style>\n",
              "<table border=\"1\" class=\"dataframe\">\n",
              "  <thead>\n",
              "    <tr style=\"text-align: right;\">\n",
              "      <th></th>\n",
              "      <th>order_id</th>\n",
              "      <th>product_id</th>\n",
              "      <th>add_to_cart_order</th>\n",
              "      <th>reordered</th>\n",
              "      <th>product_name</th>\n",
              "      <th>aisle_id</th>\n",
              "      <th>department_id</th>\n",
              "      <th>aisle</th>\n",
              "      <th>department</th>\n",
              "    </tr>\n",
              "  </thead>\n",
              "  <tbody>\n",
              "    <tr>\n",
              "      <th>0</th>\n",
              "      <td>2</td>\n",
              "      <td>33120</td>\n",
              "      <td>1</td>\n",
              "      <td>1</td>\n",
              "      <td>Organic Egg Whites</td>\n",
              "      <td>86</td>\n",
              "      <td>16</td>\n",
              "      <td>eggs</td>\n",
              "      <td>dairy eggs</td>\n",
              "    </tr>\n",
              "    <tr>\n",
              "      <th>1</th>\n",
              "      <td>2</td>\n",
              "      <td>28985</td>\n",
              "      <td>2</td>\n",
              "      <td>1</td>\n",
              "      <td>Michigan Organic Kale</td>\n",
              "      <td>83</td>\n",
              "      <td>4</td>\n",
              "      <td>fresh vegetables</td>\n",
              "      <td>produce</td>\n",
              "    </tr>\n",
              "    <tr>\n",
              "      <th>2</th>\n",
              "      <td>2</td>\n",
              "      <td>9327</td>\n",
              "      <td>3</td>\n",
              "      <td>0</td>\n",
              "      <td>Garlic Powder</td>\n",
              "      <td>104</td>\n",
              "      <td>13</td>\n",
              "      <td>spices seasonings</td>\n",
              "      <td>pantry</td>\n",
              "    </tr>\n",
              "    <tr>\n",
              "      <th>3</th>\n",
              "      <td>2</td>\n",
              "      <td>45918</td>\n",
              "      <td>4</td>\n",
              "      <td>1</td>\n",
              "      <td>Coconut Butter</td>\n",
              "      <td>19</td>\n",
              "      <td>13</td>\n",
              "      <td>oils vinegars</td>\n",
              "      <td>pantry</td>\n",
              "    </tr>\n",
              "    <tr>\n",
              "      <th>4</th>\n",
              "      <td>2</td>\n",
              "      <td>30035</td>\n",
              "      <td>5</td>\n",
              "      <td>0</td>\n",
              "      <td>Natural Sweetener</td>\n",
              "      <td>17</td>\n",
              "      <td>13</td>\n",
              "      <td>baking ingredients</td>\n",
              "      <td>pantry</td>\n",
              "    </tr>\n",
              "  </tbody>\n",
              "</table>\n",
              "</div>"
            ],
            "text/plain": [
              "   order_id  product_id  ...               aisle  department\n",
              "0         2       33120  ...                eggs  dairy eggs\n",
              "1         2       28985  ...    fresh vegetables     produce\n",
              "2         2        9327  ...   spices seasonings      pantry\n",
              "3         2       45918  ...       oils vinegars      pantry\n",
              "4         2       30035  ...  baking ingredients      pantry\n",
              "\n",
              "[5 rows x 9 columns]"
            ]
          },
          "metadata": {
            "tags": []
          },
          "execution_count": 26
        }
      ]
    },
    {
      "cell_type": "code",
      "metadata": {
        "id": "iC6cujh1FQvJ"
      },
      "source": [
        "# N = Top X\n",
        "\n",
        "N = 20\n"
      ],
      "execution_count": null,
      "outputs": []
    },
    {
      "cell_type": "code",
      "metadata": {
        "colab": {
          "base_uri": "https://localhost:8080/",
          "height": 688
        },
        "id": "HkmPYuQhFQsn",
        "outputId": "b2bfc074-3337-4e9b-c566-7c8cd76dd25b"
      },
      "source": [
        "# Top N Aisles\n",
        "top_aisles = df_order_products_prior_merged[\"aisle\"].value_counts().head(N)\n",
        "\n",
        "plt.figure(figsize=(12,8))\n",
        "sns.barplot(top_aisles.index, top_aisles.values, alpha=0.8, color=colors[3])\n",
        "plt.ylabel(\"Frequency\")\n",
        "plt.xticks(rotation=\"vertical\")\n",
        "plt.title('Top {} Aisles'.format(N))\n",
        "plt.show()\n"
      ],
      "execution_count": null,
      "outputs": [
        {
          "output_type": "stream",
          "text": [
            "/usr/local/lib/python3.7/dist-packages/seaborn/_decorators.py:43: FutureWarning: Pass the following variables as keyword args: x, y. From version 0.12, the only valid positional argument will be `data`, and passing other arguments without an explicit keyword will result in an error or misinterpretation.\n",
            "  FutureWarning\n"
          ],
          "name": "stderr"
        },
        {
          "output_type": "display_data",
          "data": {
            "image/png": "[encoded data removed]",
            "text/plain": [
              "<Figure size 864x576 with 1 Axes>"
            ]
          },
          "metadata": {
            "tags": [],
            "needs_background": "light"
          }
        }
      ]
    },
    {
      "cell_type": "code",
      "metadata": {
        "colab": {
          "base_uri": "https://localhost:8080/",
          "height": 625
        },
        "id": "acLgwJt2FQqI",
        "outputId": "7514772e-5d11-473b-a79f-d180810a52b3"
      },
      "source": [
        "# Top N Departments\n",
        "top_departments = df_order_products_prior_merged[\"department\"].value_counts().head(N)\n",
        "\n",
        "plt.figure(figsize=(10,8))\n",
        "sns.barplot(top_departments.index, top_departments.values, alpha=0.8, color=colors[2])\n",
        "plt.ylabel('Frequency')\n",
        "plt.xticks(rotation=\"vertical\")\n",
        "plt.title('Top {} Departments'.format(N), fontsize=15)\n",
        "plt.show()\n"
      ],
      "execution_count": null,
      "outputs": [
        {
          "output_type": "stream",
          "text": [
            "/usr/local/lib/python3.7/dist-packages/seaborn/_decorators.py:43: FutureWarning: Pass the following variables as keyword args: x, y. From version 0.12, the only valid positional argument will be `data`, and passing other arguments without an explicit keyword will result in an error or misinterpretation.\n",
            "  FutureWarning\n"
          ],
          "name": "stderr"
        },
        {
          "output_type": "display_data",
          "data": {
            "image/png": "[encoded data removed]",
            "text/plain": [
              "<Figure size 720x576 with 1 Axes>"
            ]
          },
          "metadata": {
            "tags": [],
            "needs_background": "light"
          }
        }
      ]
    },
    {
      "cell_type": "code",
      "metadata": {
        "colab": {
          "base_uri": "https://localhost:8080/",
          "height": 672
        },
        "id": "inUd-zI1FQnl",
        "outputId": "f30ab2f1-2eaf-4a73-f0b0-00ddce07aecc"
      },
      "source": [
        "# Top N products by frequency\n",
        "top_products = df_order_products_prior_merged[\"product_name\"].value_counts().head(N)\n",
        "\n",
        "plt.figure(figsize=(12,8))\n",
        "sns.barplot(top_products.index, top_products.values, alpha=0.8, color=colors[1])\n",
        "plt.ylabel('Frequency')\n",
        "plt.xticks(rotation=\"vertical\")\n",
        "plt.title('Top {} products'.format(N))\n",
        "plt.show()\n"
      ],
      "execution_count": null,
      "outputs": [
        {
          "output_type": "stream",
          "text": [
            "/usr/local/lib/python3.7/dist-packages/seaborn/_decorators.py:43: FutureWarning: Pass the following variables as keyword args: x, y. From version 0.12, the only valid positional argument will be `data`, and passing other arguments without an explicit keyword will result in an error or misinterpretation.\n",
            "  FutureWarning\n"
          ],
          "name": "stderr"
        },
        {
          "output_type": "display_data",
          "data": {
            "image/png": "[encoded data removed]",
            "text/plain": [
              "<Figure size 864x576 with 1 Axes>"
            ]
          },
          "metadata": {
            "tags": [],
            "needs_background": "light"
          }
        }
      ]
    },
    {
      "cell_type": "markdown",
      "metadata": {
        "id": "MmIQNmNjF5dV"
      },
      "source": [
        "## W"
      ]
    },
    {
      "cell_type": "code",
      "metadata": {
        "colab": {
          "base_uri": "https://localhost:8080/"
        },
        "id": "sATRVSRIJSZc",
        "outputId": "114f546a-4fe3-4089-9ac9-a4ee9bb2b3c1"
      },
      "source": [
        "!pip install implicit"
      ],
      "execution_count": null,
      "outputs": [
        {
          "output_type": "stream",
          "text": [
            "Collecting implicit\n",
            "\u001b[?25l  Downloading https://files.pythonhosted.org/packages/bc/07/c0121884722d16e2c5beeb815f6b84b41cbf22e738e4075f1475be2791bc/implicit-0.4.4.tar.gz (1.1MB)\n",
            "\u001b[K     |████████████████████████████████| 1.1MB 2.9MB/s \n",
            "\u001b[?25hRequirement already satisfied: numpy in /usr/local/lib/python3.7/dist-packages (from implicit) (1.19.5)\n",
            "Requirement already satisfied: scipy>=0.16 in /usr/local/lib/python3.7/dist-packages (from implicit) (1.4.1)\n",
            "Requirement already satisfied: tqdm>=4.27 in /usr/local/lib/python3.7/dist-packages (from implicit) (4.41.1)\n",
            "Building wheels for collected packages: implicit\n",
            "  Building wheel for implicit (setup.py) ... \u001b[?25l\u001b[?25hdone\n",
            "  Created wheel for implicit: filename=implicit-0.4.4-cp37-cp37m-linux_x86_64.whl size=3406382 sha256=76385e9cc7799c2762be6c6a18f450aa90fc8614722aa0a837366e570fd3789c\n",
            "  Stored in directory: /root/.cache/pip/wheels/bf/d4/ec/fd4f622fcbefb7521f149905295b2c26adecb23af38aa28217\n",
            "Successfully built implicit\n",
            "Installing collected packages: implicit\n",
            "Successfully installed implicit-0.4.4\n"
          ],
          "name": "stdout"
        }
      ]
    },
    {
      "cell_type": "code",
      "metadata": {
        "id": "0H2_DVceAU6R"
      },
      "source": [
        "\n",
        "from implicit.nearest_neighbours import tfidf_weight\n",
        "from scipy.sparse import coo_matrix, csr_matrix\n",
        "from sklearn.metrics.pairwise import cosine_similarity\n",
        "from datetime import datetime\n",
        "from pathlib import Path\n",
        "from numpy import bincount, log, sqrt\n",
        "\n",
        "import scipy.sparse as sparse\n",
        "import implicit\n",
        "import pickle\n",
        "import time\n",
        "import heapq"
      ],
      "execution_count": null,
      "outputs": []
    },
    {
      "cell_type": "code",
      "metadata": {
        "id": "XSFfP7p5_dwG"
      },
      "source": [
        "### Helper Functions\n",
        "\n",
        "def sparsity(matrix):\n",
        "    \"\"\"\n",
        "    Given a matrix, returns its sparsity\n",
        "    \"\"\"\n",
        "    total_size = matrix.shape[0] * matrix.shape[1]\n",
        "    actual_size = matrix.size\n",
        "    sparsity = (1 - (actual_size / total_size)) * 100\n",
        "    return(sparsity)\n",
        "    \n",
        "\n",
        "\n",
        "def get_k_popular(k, df_merged_order_products_prior):\n",
        "    \"\"\"\n",
        "    Returns the `k` most popular products based on purchase count in the dataset\n",
        "    \"\"\"\n",
        "    popular_products = list(df_merged_order_products_prior[\"product_id\"].value_counts().head(k).index)\n",
        "    return popular_products\n",
        "\n",
        "\n",
        "def make_prior_data():\n",
        "    \"\"\"\n",
        "    Generates the prior dataset including prior_user_products and product_frequency\n",
        "    \"\"\"\n",
        "    # Read prior order csv\n",
        "    df_order_products_prior = pd.read_csv(\"/content/drive/MyDrive/Almabetter/Cohort Nilgiri/Kaggle/order_products__prior.csv\")\n",
        "    current_order_user_df = df_orders.loc[(df_orders.eval_set == \"prior\")].reset_index()\n",
        "    current_order_user_df = current_order_user_df[[\"order_id\", \"user_id\"]]\n",
        "\n",
        "    assert len(current_order_user_df[\"order_id\"].unique()) == len(df_order_products_prior[\"order_id\"].unique())\n",
        "\n",
        "    # Group product_id for each order into products\n",
        "    df_order_products_prior = df_order_products_prior[[\"order_id\", \"product_id\"]]\n",
        "    df_product_frequency = df_order_products_prior['product_id'].value_counts()\n",
        "    df_order_products_prior = df_order_products_prior.groupby(\"order_id\")[\"product_id\"].apply(list).reset_index().rename(columns={\"product_id\": \"products\"})\n",
        "    \n",
        "    \n",
        "    assert current_order_user_df.size == df_order_products_prior.size\n",
        "\n",
        "    df_prior_user_products = pd.merge(current_order_user_df, df_order_products_prior, on=\"order_id\")\n",
        "    df_prior_user_products = df_prior_user_products[[\"user_id\", \"products\"]]\n",
        "    df_prior_user_products = df_prior_user_products.groupby(\"user_id\")[\"products\"].agg(sum).reset_index()\n",
        "\n",
        "    return df_prior_user_products, df_product_frequency\n",
        "\n",
        "\n",
        "def make_test_data(test_data_path, df_orders, df_order_products_train):\n",
        "    \"\"\"\n",
        "    Generates the test dataset and saves it to disk at the given path\n",
        "    \"\"\"\n",
        "    start = time.time()\n",
        "    print(\"Creating test data ...\")\n",
        "\n",
        "    # Read train csv\n",
        "    df_order_user_current = df_orders.loc[(df_orders.eval_set == \"train\")].reset_index()\n",
        "    df_order_user_current = df_order_user_current[[\"order_id\", \"user_id\"]]\n",
        "    \n",
        "    # Sanity check #1: `current_order_user_df` and `df_order_products_train` should have the same number of \n",
        "    # unique order ids\n",
        "    assert len(df_order_user_current[\"order_id\"].unique()) == len(df_order_products_train[\"order_id\"].unique())\n",
        "\n",
        "    # Convert train dataframe to a similar format\n",
        "    df_order_products_test = df_order_products_train[[\"order_id\", \"product_id\"]]\n",
        "    df_order_products_test = df_order_products_test.groupby(\"order_id\")[\"product_id\"].apply(list).reset_index().rename(columns={\"product_id\": \"products\"})\n",
        "\n",
        "    # Sanity check #2: `df_order_products_test` and `df_order_user_current` should have the same number of \n",
        "    # records before attempting to merge them\n",
        "    assert df_order_products_test.size == df_order_user_current.size\n",
        "\n",
        "    # Merge on order id\n",
        "    df_user_products_test = pd.merge(df_order_user_current, df_order_products_test, on=\"order_id\")\n",
        "    df_user_products_test = df_user_products_test[[\"user_id\", \"products\"]]\n",
        "\n",
        "    # Write to disk\n",
        "    df_user_products_test.to_csv(test_data_path, index_label=False)\n",
        "    \n",
        "    print(\"Completed in {:.2f}s\".format(time.time() - start))\n",
        "\n",
        "\n",
        "def save_data_to_disk(dataframe, df_name):\n",
        "    \"\"\"\n",
        "    Save the data to disk\n",
        "    \"\"\"\n",
        "    filepath = \"/content/drive/MyDrive/Almabetter/Cohort Nilgiri/Kaggle/df_{}.pkl\".format(df_name)\n",
        "    dataframe.to_pickle(filepath)\n"
      ],
      "execution_count": null,
      "outputs": []
    },
    {
      "cell_type": "code",
      "metadata": {
        "id": "O_gY8zCaH26W"
      },
      "source": [
        "# Make prior data\n",
        "# Running time: 3 min\n",
        "#df_prior_user_products, df_product_frequency = make_prior_data()\n",
        "\n",
        "# save data to disk, running time : 2 mi\n",
        "#save_data_to_disk(df_prior_user_products, \"user_products\")\n",
        "#save_data_to_disk(df_product_frequency, \"product_frequency\")"
      ],
      "execution_count": null,
      "outputs": []
    },
    {
      "cell_type": "code",
      "metadata": {
        "id": "auJOMNqFOgt1"
      },
      "source": [
        "# Read user_products and product_frequency from the disk\n",
        "df_prior_user_products = pd.read_pickle(\"/content/drive/MyDrive/Almabetter/Cohort Nilgiri/Kaggle/df_user_products.pkl\")\n",
        "df_product_frequency = pd.read_pickle(\"/content/drive/MyDrive/Almabetter/Cohort Nilgiri/Kaggle/df_product_frequency.pkl\")\n",
        "df_product_frequency = pd.DataFrame(df_product_frequency).rename(columns={\"product_id\": \"frequency\"})\n"
      ],
      "execution_count": null,
      "outputs": []
    },
    {
      "cell_type": "code",
      "metadata": {
        "colab": {
          "base_uri": "https://localhost:8080/",
          "height": 195
        },
        "id": "0e4hHCNfwEUd",
        "outputId": "f4cdbc10-0da3-41e0-b6f2-f6ce323a6020"
      },
      "source": [
        "df_prior_user_products.head()"
      ],
      "execution_count": null,
      "outputs": [
        {
          "output_type": "execute_result",
          "data": {
            "text/html": [
              "<div>\n",
              "<style scoped>\n",
              "    .dataframe tbody tr th:only-of-type {\n",
              "        vertical-align: middle;\n",
              "    }\n",
              "\n",
              "    .dataframe tbody tr th {\n",
              "        vertical-align: top;\n",
              "    }\n",
              "\n",
              "    .dataframe thead th {\n",
              "        text-align: right;\n",
              "    }\n",
              "</style>\n",
              "<table border=\"1\" class=\"dataframe\">\n",
              "  <thead>\n",
              "    <tr style=\"text-align: right;\">\n",
              "      <th></th>\n",
              "      <th>user_id</th>\n",
              "      <th>products</th>\n",
              "    </tr>\n",
              "  </thead>\n",
              "  <tbody>\n",
              "    <tr>\n",
              "      <th>0</th>\n",
              "      <td>1</td>\n",
              "      <td>[196, 14084, 12427, 26088, 26405, 196, 10258, ...</td>\n",
              "    </tr>\n",
              "    <tr>\n",
              "      <th>1</th>\n",
              "      <td>2</td>\n",
              "      <td>[32792, 47766, 20574, 12000, 48110, 22474, 165...</td>\n",
              "    </tr>\n",
              "    <tr>\n",
              "      <th>2</th>\n",
              "      <td>3</td>\n",
              "      <td>[9387, 17668, 15143, 16797, 39190, 47766, 2190...</td>\n",
              "    </tr>\n",
              "    <tr>\n",
              "      <th>3</th>\n",
              "      <td>4</td>\n",
              "      <td>[36606, 7350, 35469, 2707, 42329, 7160, 1200, ...</td>\n",
              "    </tr>\n",
              "    <tr>\n",
              "      <th>4</th>\n",
              "      <td>5</td>\n",
              "      <td>[15349, 21413, 48775, 28289, 8518, 11777, 3171...</td>\n",
              "    </tr>\n",
              "  </tbody>\n",
              "</table>\n",
              "</div>"
            ],
            "text/plain": [
              "   user_id                                           products\n",
              "0        1  [196, 14084, 12427, 26088, 26405, 196, 10258, ...\n",
              "1        2  [32792, 47766, 20574, 12000, 48110, 22474, 165...\n",
              "2        3  [9387, 17668, 15143, 16797, 39190, 47766, 2190...\n",
              "3        4  [36606, 7350, 35469, 2707, 42329, 7160, 1200, ...\n",
              "4        5  [15349, 21413, 48775, 28289, 8518, 11777, 3171..."
            ]
          },
          "metadata": {
            "tags": []
          },
          "execution_count": 37
        }
      ]
    },
    {
      "cell_type": "code",
      "metadata": {
        "id": "Osp_oQ5NO4Tz"
      },
      "source": [
        "# Make test data\n",
        "REBUILD_TEST_DATA = False\n",
        "test_data_path = \"/content/drive/MyDrive/Almabetter/Cohort Nilgiri/Kaggle/user_products__test.csv\"\n",
        "if REBUILD_TEST_DATA or not Path(test_data_path).is_file():\n",
        "    make_test_data(test_data_path, df_orders, df_order_products_train)\n",
        "df_user_products_test = pd.read_csv(test_data_path)\n"
      ],
      "execution_count": null,
      "outputs": []
    },
    {
      "cell_type": "markdown",
      "metadata": {
        "id": "TUUIicEXTdmo"
      },
      "source": [
        "## Matrix"
      ]
    },
    {
      "cell_type": "code",
      "metadata": {
        "id": "SJM2ZKlTR2WC"
      },
      "source": [
        "def get_user_product_prior_df(filepath, df_orders, df_order_products_prior):\n",
        "    \"\"\"\n",
        "    Generates a dataframe of users and their prior products purchases, and writes it to disk at the given path\n",
        "    \"\"\"\n",
        "    start = time.time()\n",
        "    print(\"Creating prior user product data frame ...\")\n",
        "    \n",
        "    # Consider ony \"prior\" orders and remove all columns except `user_id` from `df_orders`\n",
        "    df_order_user_prior = df_orders.loc[df_orders.eval_set == \"prior\"]\n",
        "    df_order_user_prior = df_order_user_prior[[\"order_id\", \"user_id\"]]\n",
        "    \n",
        "    # Remove all columns except order_id and user_id from df_orders and \n",
        "    # merge the above on `order_id` and remove `order_id`\n",
        "    df_merged = pd.merge(df_order_user_prior, df_order_products_prior[[\"order_id\", \"product_id\"]], on=\"order_id\")\n",
        "    df_user_product_prior = df_merged[[\"user_id\", \"product_id\"]]\n",
        "    df_user_product_prior = df_user_product_prior.groupby([\"user_id\", \"product_id\"]).size().reset_index().rename(columns={0:\"quantity\"})\n",
        "    \n",
        "    # Write to disk\n",
        "    df_user_product_prior.to_csv(filepath, index_label=False)\n",
        "    \n",
        "\n",
        "    print(\"Completed in {:.2f}s\".format(time.time() - start))\n",
        "\n",
        "\n",
        "# Build dataframe of users, products and quantity bought using prior datasets\n",
        "REBUILD_MATRIX_DF = False\n",
        "matrix_df_path = \"/content/drive/MyDrive/Almabetter/Cohort Nilgiri/Kaggle/user_products__prior.csv\"\n",
        "if REBUILD_MATRIX_DF or not Path(matrix_df_path).is_file():\n",
        "    get_user_product_prior_df(matrix_df_path, df_orders, df_order_products_prior)\n",
        "df_user_product_prior = pd.read_csv(matrix_df_path)\n",
        "df_user_product_prior[\"user_id\"] = df_user_product_prior[\"user_id\"].astype(\"category\")\n",
        "df_user_product_prior[\"product_id\"] = df_user_product_prior[\"product_id\"].astype(\"category\")"
      ],
      "execution_count": null,
      "outputs": []
    },
    {
      "cell_type": "code",
      "metadata": {
        "id": "sGzf2J-CTos0"
      },
      "source": [
        "def build_product_user_matrix(matrix_path, df_user_product_prior):\n",
        "    \"\"\"\n",
        "    Generates a utility matrix representing purchase history of users, and writes it to disk.\n",
        "    Rows and Columns represent products and users respectively.\n",
        "    \"\"\"\n",
        "    start = time.time()\n",
        "    print(\"Creating product user matrix ...\")\n",
        "    \n",
        "    # Make the dataframe a sparse matrix\n",
        "    df_user_product_prior[\"user_id\"] = df_user_product_prior[\"user_id\"].astype(\"category\")\n",
        "    df_user_product_prior[\"product_id\"] = df_user_product_prior[\"product_id\"].astype(\"category\")\n",
        "    product_user_matrix = sparse.coo_matrix((df_user_product_prior[\"quantity\"],\n",
        "                                            (df_user_product_prior[\"product_id\"].cat.codes.copy(),\n",
        "                                             df_user_product_prior[\"user_id\"].cat.codes.copy())))\n",
        "    \n",
        "    sparse.save_npz(matrix_path, product_user_matrix)\n",
        "    \n",
        "    print(\"Completed in {:.2f}s\".format(time.time() - start))\n",
        "\n",
        "\n",
        "# Get the `product x user` matrix\n",
        "REBUILD_MATRIX = False\n",
        "matrix_path = \"/content/drive/MyDrive/Almabetter/Cohort Nilgiri/Kaggle/product_user_matrix.npz\"\n",
        "if REBUILD_MATRIX or not Path(matrix_path).is_file():\n",
        "    build_product_user_matrix(matrix_path, df_user_product_prior)\n",
        "product_user_matrix = sparse.load_npz(matrix_path).tocsr()\n"
      ],
      "execution_count": null,
      "outputs": []
    },
    {
      "cell_type": "markdown",
      "metadata": {
        "id": "wbISHD6K9jHu"
      },
      "source": [
        ""
      ]
    },
    {
      "cell_type": "code",
      "metadata": {
        "colab": {
          "base_uri": "https://localhost:8080/",
          "height": 195
        },
        "id": "ByJlHMHS8cMf",
        "outputId": "efa0e969-baab-4f59-c6f3-d6837de3faa4"
      },
      "source": [
        "df_user_product_prior.head()"
      ],
      "execution_count": null,
      "outputs": [
        {
          "output_type": "execute_result",
          "data": {
            "text/html": [
              "<div>\n",
              "<style scoped>\n",
              "    .dataframe tbody tr th:only-of-type {\n",
              "        vertical-align: middle;\n",
              "    }\n",
              "\n",
              "    .dataframe tbody tr th {\n",
              "        vertical-align: top;\n",
              "    }\n",
              "\n",
              "    .dataframe thead th {\n",
              "        text-align: right;\n",
              "    }\n",
              "</style>\n",
              "<table border=\"1\" class=\"dataframe\">\n",
              "  <thead>\n",
              "    <tr style=\"text-align: right;\">\n",
              "      <th></th>\n",
              "      <th>user_id</th>\n",
              "      <th>product_id</th>\n",
              "      <th>quantity</th>\n",
              "    </tr>\n",
              "  </thead>\n",
              "  <tbody>\n",
              "    <tr>\n",
              "      <th>0</th>\n",
              "      <td>1</td>\n",
              "      <td>196</td>\n",
              "      <td>10</td>\n",
              "    </tr>\n",
              "    <tr>\n",
              "      <th>1</th>\n",
              "      <td>1</td>\n",
              "      <td>10258</td>\n",
              "      <td>9</td>\n",
              "    </tr>\n",
              "    <tr>\n",
              "      <th>2</th>\n",
              "      <td>1</td>\n",
              "      <td>10326</td>\n",
              "      <td>1</td>\n",
              "    </tr>\n",
              "    <tr>\n",
              "      <th>3</th>\n",
              "      <td>1</td>\n",
              "      <td>12427</td>\n",
              "      <td>10</td>\n",
              "    </tr>\n",
              "    <tr>\n",
              "      <th>4</th>\n",
              "      <td>1</td>\n",
              "      <td>13032</td>\n",
              "      <td>3</td>\n",
              "    </tr>\n",
              "  </tbody>\n",
              "</table>\n",
              "</div>"
            ],
            "text/plain": [
              "  user_id product_id  quantity\n",
              "0       1        196        10\n",
              "1       1      10258         9\n",
              "2       1      10326         1\n",
              "3       1      12427        10\n",
              "4       1      13032         3"
            ]
          },
          "metadata": {
            "tags": []
          },
          "execution_count": 60
        }
      ]
    },
    {
      "cell_type": "code",
      "metadata": {
        "id": "VR6lRA4yWGZJ"
      },
      "source": [
        "# User=1 bought product=196 10 times\n",
        "assert product_user_matrix[195, 0] == 10\n",
        "\n"
      ],
      "execution_count": null,
      "outputs": []
    },
    {
      "cell_type": "code",
      "metadata": {
        "colab": {
          "base_uri": "https://localhost:8080/"
        },
        "id": "zx0ga-V-WJv-",
        "outputId": "cd974e0d-86a9-4c43-ac24-5e14e5cd4a46"
      },
      "source": [
        "sparsity(product_user_matrix)\n"
      ],
      "execution_count": null,
      "outputs": [
        {
          "output_type": "execute_result",
          "data": {
            "text/plain": [
              "99.8700882953749"
            ]
          },
          "metadata": {
            "tags": []
          },
          "execution_count": 43
        }
      ]
    },
    {
      "cell_type": "code",
      "metadata": {
        "id": "m830NvHZadmx"
      },
      "source": [
        ""
      ],
      "execution_count": null,
      "outputs": []
    },
    {
      "cell_type": "code",
      "metadata": {
        "id": "9yT6r8WzrEKQ"
      },
      "source": [
        ""
      ],
      "execution_count": null,
      "outputs": []
    },
    {
      "cell_type": "code",
      "metadata": {
        "id": "U3T3hvdZWcvf"
      },
      "source": [
        "# Setting paths for data files\n",
        "base_path=\"/content/drive/MyDrive/Almabetter/Cohort Nilgiri/Kaggle/\"\n",
        "product_user_matrix_path=base_path+\"product_user_matrix.npz\"\n",
        "order_products_prior_path=base_path+\"../data/order_products__prior.csv\"\n",
        "order_products_train_path=base_path+\"../data/order_products__train.csv\"\n",
        "orders_path=base_path+\"../data/orders.csv\"\n",
        "products_path=base_path+\"../data/products.csv\"\n",
        "test_data_path = base_path+'user_products__test.csv'\n",
        "matrix_df_path = base_path+\"user_products__prior.csv\"\n",
        "matrix_path = base_path+\"product_user_matrix.npz\"\n",
        "product_factor_50_path= base_path+\"product_factor_50.npy\"\n",
        "user_factor_50_path= base_path+\"user_factor_50.npy\"\n",
        "product_factor_100_path= base_path+\"product_factor_100.npy\"\n",
        "user_factor_100_path= base_path+\"user_factor_100.npy\""
      ],
      "execution_count": null,
      "outputs": []
    },
    {
      "cell_type": "code",
      "metadata": {
        "id": "Cl91_pdwW8N4"
      },
      "source": [
        "\n",
        "### Imports\n",
        "import pandas as pd\n",
        "import numpy as np\n",
        "import sys\n",
        "import scipy.sparse as sparse\n",
        "import scipy.sparse.linalg as linalg\n",
        "from scipy.sparse import coo_matrix, csr_matrix\n",
        "from numpy import bincount, log, sqrt\n",
        "import itertools\n",
        "import time\n",
        "from pathlib import Path\n",
        "\n",
        "from implicit.als import AlternatingLeastSquares\n",
        "from datetime import datetime\n",
        "import implicit\n",
        "import pickle\n",
        "\n",
        "from implicit.nearest_neighbours import tfidf_weight\n",
        "from sklearn.metrics.pairwise import cosine_similarity\n",
        "from numpy import bincount, log, sqrt\n",
        "import heapq"
      ],
      "execution_count": null,
      "outputs": []
    },
    {
      "cell_type": "markdown",
      "metadata": {
        "id": "aBjBtDnpWTNf"
      },
      "source": [
        "## SVD"
      ]
    },
    {
      "cell_type": "code",
      "metadata": {
        "id": "YuOd0ic5WSF8"
      },
      "source": [
        "# product_factors_50,user_factors_50 here denote 50 latent Factors considered\n",
        "REBUILD_FACTORS= False\n",
        "if REBUILD_FACTORS or not ((Path(product_factor_50_path)).is_file() \n",
        "                           and (Path(user_factor_50_path)).is_file()): \n",
        "    #Calculating the product and user factors\n",
        "    product_user_matrix = product_user_matrix.asfptype()\n",
        "    U, s, V = linalg.svds( product_user_matrix)\n",
        "    product_factors_50, S, user_factors_50 = linalg.svds(product_user_matrix, 50)\n",
        "    # changing to user* factor format\n",
        "    user_factors_50=user_factors_50.T*S\n",
        "    # saving the user and product factors\n",
        "    np.save(product_factor_50_path, product_factors_50)\n",
        "    np.save(user_factor_50_path, user_factors_50)\n",
        "else:\n",
        "    # Loading the user and product factors \n",
        "    product_factors_50=np.load(product_factor_50_path)\n",
        "    user_factors_50=np.load(user_factor_50_path)"
      ],
      "execution_count": null,
      "outputs": []
    },
    {
      "cell_type": "code",
      "metadata": {
        "id": "BppnncKqYUW7"
      },
      "source": [
        "# product_factors_100,user_factors_100 here denotes 100 latent Factors considered\n",
        "REBUILD_FACTORS= False\n",
        "if REBUILD_FACTORS or not ((Path(product_factor_100_path)).is_file() \n",
        "                           and (Path(user_factor_100_path)).is_file()): \n",
        "    #Calculating the product and user factors\n",
        "    product_factors_100, S, user_factors_100 = linalg.svds(product_user_matrix, 100)\n",
        "    # changing to user* factor format\n",
        "    user_factors_100=user_factors_100.T*S\n",
        "    # saving the user and product factors\n",
        "    np.save(product_factor_100_path, product_factors_100)\n",
        "    np.save(user_factor_100_path, user_factors_100)\n",
        "else:\n",
        "    # Loading the user and product factors \n",
        "    product_factors_100=np.load(product_factor_100_path)\n",
        "    user_factors_100=np.load(user_factor_100_path)"
      ],
      "execution_count": null,
      "outputs": []
    },
    {
      "cell_type": "code",
      "metadata": {
        "id": "TNockZriX77F"
      },
      "source": [
        "# Class To find the top recommended items given a user_id\n",
        "class TopRecommended(object):\n",
        "    def __init__(self, product_factors,user_factors,product_user_matrix):\n",
        "        self.product_factors =product_factors\n",
        "        self.user_factors =user_factors\n",
        "        self.product_user_matrix=product_user_matrix\n",
        "    def recommend(self, user_id, N=10):\n",
        "        \n",
        "        \"\"\"\n",
        "        Finds top K Recommendations\n",
        "        \"\"\"\n",
        "        scores =  self.user_factors[user_id].dot(self.product_factors.T)\n",
        "        best = np.argpartition(scores, -N)[-N:]\n",
        "        return sorted(zip(best, scores[best]), key=lambda x: -x[1])\n",
        "\n",
        "    def recommend_new(self, user_id, N=10):\n",
        "        \"\"\"\n",
        "        Finds Top k new Recommendations\n",
        "        \"\"\"\n",
        "        scores =  self.user_factors[user_id].dot(self.product_factors.T)\n",
        "        bought_indices=product_user_matrix.T[user_id].nonzero()[1]\n",
        "        count = N + len(bought_indices)\n",
        "        ids = np.argpartition(scores, -count)[-count:]\n",
        "        best = sorted(zip(ids, scores[ids]), key=lambda x: -x[1])        \n",
        "        return list(itertools.islice((rec for rec in best if rec[0] not in bought_indices), N))"
      ],
      "execution_count": null,
      "outputs": []
    },
    {
      "cell_type": "code",
      "metadata": {
        "id": "oB9uBJXSYAQm"
      },
      "source": [
        "# Since the utility matrix is 0-indexed, the below dict is required to convert between `ids` and `indices`.\n",
        "# For example, `product_id` 1 in the dataset is represented by the `0`th row of the utility matrix.\n",
        "\n",
        "# Maps user_id: user index\n",
        "u_dict = {uid:i for i, uid in enumerate(df_user_product_prior[\"user_id\"].cat.categories)}\n",
        "\n",
        "# Maps product_index: product id\n",
        "p_dict = dict(enumerate(df_user_product_prior[\"product_id\"].cat.categories))"
      ],
      "execution_count": null,
      "outputs": []
    },
    {
      "cell_type": "code",
      "metadata": {
        "id": "IHr7LGIPYD8I"
      },
      "source": [
        "# Initializing class for factors 50 which returns top recommended items for a user_id\n",
        "svd_recm=TopRecommended(product_factors_50,user_factors_50,product_user_matrix)\n",
        "\n",
        "# Initializing class for factors 100 which returns top recommended items for a user_id\n",
        "svd_recm_100=TopRecommended(product_factors_100,user_factors_100,product_user_matrix)"
      ],
      "execution_count": null,
      "outputs": []
    },
    {
      "cell_type": "code",
      "metadata": {
        "colab": {
          "base_uri": "https://localhost:8080/"
        },
        "id": "Yr0WxY8kYHln",
        "outputId": "00c5a63f-ca07-4cbb-e10e-9cd6a371f9b3"
      },
      "source": [
        "# Recommend items for a user 1\n",
        "user_id = 1\n",
        "print(\"User ID :\",user_id)\n",
        "# New Recommendations and Old Recommendations\n",
        "recommendations_all = svd_recm.recommend(u_dict[user_id],N=10)\n",
        "recommendations_new = svd_recm.recommend_new(u_dict[user_id],N=10)"
      ],
      "execution_count": null,
      "outputs": [
        {
          "output_type": "stream",
          "text": [
            "User ID : 1\n"
          ],
          "name": "stdout"
        }
      ]
    },
    {
      "cell_type": "code",
      "metadata": {
        "colab": {
          "base_uri": "https://localhost:8080/"
        },
        "id": "ZluyMz8DY-dK",
        "outputId": "b65969c5-f36f-41da-951b-246600c7a0ad"
      },
      "source": [
        "# Actual\n",
        "row = df_user_products_test.loc[df_user_products_test.user_id == user_id]\n",
        "actual = list(row[\"products\"])\n",
        "\n",
        "actual = actual[0][1:-1]\n",
        "actual = list(np.array([p.strip() for p in actual.strip().split(\",\")]).astype(np.int64))\n",
        "act_products = []\n",
        "for pid in actual:\n",
        "    act_products.extend((df_products.loc[df_products.product_id == pid].product_name).tolist())\n",
        "print(\"Actual products bought by user {}\\n{}\\n\\n\".format(user_id, act_products))\n",
        "\n",
        "# All Products Recommended \n",
        "all_recm_products=[]\n",
        "for recommend in recommendations_all:\n",
        "    all_recm_products.extend((df_products.loc[df_products.product_id == p_dict[recommend[0]]].product_name).tolist())\n",
        "print(\"All products recommended to user {}\\n{}\\n\\n\".format(user_id, all_recm_products))\n",
        "\n",
        "\n",
        "# New Products Recommended \n",
        "new_recm_products=[]\n",
        "for recommend in recommendations_new:\n",
        "    new_recm_products.extend((df_products.loc[df_products.product_id == p_dict[recommend[0]]].product_name).tolist())\n",
        "print(\"New products recommended to user {}\\n{}\".format(user_id, new_recm_products))\n"
      ],
      "execution_count": null,
      "outputs": [
        {
          "output_type": "stream",
          "text": [
            "Actual products bought by user 1\n",
            "['Soda', 'Organic String Cheese', '0% Greek Strained Yogurt', 'XL Pick-A-Size Paper Towel Rolls', 'Milk Chocolate Almonds', 'Pistachios', 'Cinnamon Toast Crunch', 'Aged White Cheddar Popcorn', 'Organic Whole Milk', 'Organic Half & Half', 'Zero Calorie Cola']\n",
            "\n",
            "\n",
            "All products recommended to user 1\n",
            "['Soda', 'Clementines', '0% Greek Strained Yogurt', 'Bag of Organic Bananas', 'Organic Half & Half', 'Trail Mix', 'Apples', 'Extra Fancy Unsalted Mixed Nuts', 'Zero Calorie Cola', 'Reduced Fat 2% Milk']\n",
            "\n",
            "\n",
            "New products recommended to user 1\n",
            "['Clementines', 'Trail Mix', 'Apples', 'Extra Fancy Unsalted Mixed Nuts', 'Reduced Fat 2% Milk', 'Sparkling Mineral Water', \"Crunchy Oats 'n Honey Granola Bars\", 'Mixed Fruit Fruit Snacks', 'Mozzarella String Cheese', 'Popcorn']\n"
          ],
          "name": "stdout"
        }
      ]
    },
    {
      "cell_type": "code",
      "metadata": {
        "id": "krlM-D2UZDuh"
      },
      "source": [
        "#Helper Functions\n",
        "def get_k_popular(k, df_order_products_prior):\n",
        "    popular_products = list(df_order_products_prior[\"product_id\"].value_counts().head(k).index)\n",
        "    return popular_products\n"
      ],
      "execution_count": null,
      "outputs": []
    },
    {
      "cell_type": "code",
      "metadata": {
        "id": "Xv_P1eg3ZIIR"
      },
      "source": [
        "# Transpose of the product_user utility matrix\n",
        "user_product_matrix = product_user_matrix.T.tocsr()\n",
        "\n",
        "# Number of recommendations to make for every user\n",
        "N_REC = 10\n",
        "\n",
        "# Get the `N_REC` most popular products\n",
        "popular_products = get_k_popular(N_REC, df_order_products_prior)\n"
      ],
      "execution_count": null,
      "outputs": []
    },
    {
      "cell_type": "code",
      "metadata": {
        "id": "MDTrhmO1ZOAV"
      },
      "source": [
        "def recall_score(actual, pred):\n",
        "    \"\"\"\n",
        "    Given two lists representing actual and predicted values\n",
        "    Returns the recall of the prediction\n",
        "    \"\"\"\n",
        "    if len(actual) == 0:\n",
        "        return 0\n",
        "    actual, pred = set(actual), set(pred)\n",
        "    return len(actual.intersection(pred)) / len(actual)\n",
        "\n",
        "\n",
        "def new_products(row):\n",
        "    \"\"\"\n",
        "    Given a row in the test dataset\n",
        "    Returns the list of new products purchased\n",
        "    \"\"\"\n",
        "    actual = row[\"products\"][1:-1]  # Products purchased currently \n",
        "    actual = set([int(p.strip()) for p in actual.strip().split(\",\")])\n",
        "    liked = set([p_dict[i] for i in user_product_matrix[u_dict[row[\"user_id\"]]].indices])  # User's purchase history\n",
        "    return actual - liked  # Return only new products purchased\n",
        "\n",
        "\n",
        "def popular_recommend(row):\n",
        "    \"\"\"\n",
        "    Given a row in the test dataset\n",
        "    Returns the recall score when popular products are recommended\n",
        "    \"\"\"\n",
        "    actual = new_products(row)\n",
        "    return recall_score(actual, popular_products)\n",
        "\n",
        "             \n",
        "def svd_recommend_50_new(row):\n",
        "    \"\"\"\n",
        "    Given a row in the test dataset\n",
        "    Returns the recall score when our model recommends new products\n",
        "    \"\"\"    \n",
        "    actual = new_products(row)\n",
        "    recommended = svd_recm.recommend_new(u_dict[row[\"user_id\"]], N=N_REC)\n",
        "    recommended = [p_dict[r[0]] for r in recommended]\n",
        "    return recall_score(actual, recommended)\n",
        "\n",
        "def svd_recommend_100_new(row):\n",
        "    \"\"\"\n",
        "    Given a row in the test dataset\n",
        "    Returns the recall score when our model recommends new products\n",
        "    \"\"\"    \n",
        "    actual = new_products(row)\n",
        "    recommended = svd_recm_100.recommend_new(u_dict[row[\"user_id\"]], N=N_REC)\n",
        "    recommended = [p_dict[r[0]] for r in recommended]\n",
        "    return recall_score(actual, recommended)\n",
        "\n",
        "\n",
        "             \n",
        "def build_eval_df(df_user_products_test, filepath=None, subset=None):\n",
        "    \"\"\"\n",
        "    Builds a dataframe of recall values of the baseline and our model for all the users\n",
        "    in the test data, and saves its to disk at `filepath`\n",
        "    \"\"\"\n",
        "    start = time.time()\n",
        "    print(\"Building dataframe with recall values ...\")\n",
        "    \n",
        "    df_eval = df_user_products_test.copy()\n",
        "    if subset:\n",
        "        df_eval = df_eval.sample(n=int(len(df_eval) * subset), random_state=7)\n",
        "    df_eval[\"popular_score\"] = df_eval.apply(popular_recommend, axis=1)\n",
        "    df_eval[\"svd_new_score_50\"] = df_eval.apply(svd_recommend_50_new, axis=1)\n",
        "    df_eval[\"svd_new_score_100\"] = df_eval.apply(svd_recommend_100_new, axis=1)\n",
        "    df_eval.to_csv(filepath)\n",
        "    \n",
        "    print(\"Completed in {:.2f}s\".format(time.time() - start))\n"
      ],
      "execution_count": null,
      "outputs": []
    },
    {
      "cell_type": "code",
      "metadata": {
        "colab": {
          "base_uri": "https://localhost:8080/"
        },
        "id": "qTJsqAfeZRt2",
        "outputId": "e45e16e2-c571-4eb6-908f-932d4ac8042d"
      },
      "source": [
        "# Get the dataframe with recall values of the baseline and the model # It takes 45min to run.\n",
        "REBUILD_EVAL_DF = True\n",
        "subset = 0.2  # Evaluate on `subset x 100`% of the test dataset\n",
        "eval_path = \"/content/drive/MyDrive/Almabetter/Cohort Nilgiri/Kaggle/eval_discovery_svd_{}_{}.csv\".format(subset if subset is not None else \"full\", N_REC)\n",
        "if REBUILD_EVAL_DF or not Path(eval_path).exists():\n",
        "    build_eval_df(df_user_products_test, filepath=eval_path, subset=subset)\n",
        "df_eval_SVD = pd.read_csv(eval_path)\n"
      ],
      "execution_count": null,
      "outputs": [
        {
          "output_type": "stream",
          "text": [
            "Building dataframe with recall values ...\n",
            "Completed in 3494.21s\n"
          ],
          "name": "stdout"
        }
      ]
    },
    {
      "cell_type": "code",
      "metadata": {
        "colab": {
          "base_uri": "https://localhost:8080/"
        },
        "id": "hpukh5SoxQDf",
        "outputId": "b1e76590-8bb2-4668-9ad1-6fc1fdbc415b"
      },
      "source": [
        "df_eval_SVD.value_counts(subset = ['svd_new_score_100'])"
      ],
      "execution_count": null,
      "outputs": [
        {
          "output_type": "execute_result",
          "data": {
            "text/plain": [
              "svd_new_score_100\n",
              "0.000000             23775\n",
              "0.333333               218\n",
              "0.200000               218\n",
              "0.500000               214\n",
              "0.250000               211\n",
              "                     ...  \n",
              "0.187500                 1\n",
              "0.093750                 1\n",
              "0.074074                 1\n",
              "0.266667                 1\n",
              "0.130435                 1\n",
              "Length: 72, dtype: int64"
            ]
          },
          "metadata": {
            "tags": []
          },
          "execution_count": 75
        }
      ]
    },
    {
      "cell_type": "code",
      "metadata": {
        "colab": {
          "base_uri": "https://localhost:8080/",
          "height": 195
        },
        "id": "GqpznVbHXKnV",
        "outputId": "44c9dfb8-eff2-44cf-b37a-f643caa493d0"
      },
      "source": [
        "df_prior_user_products.head()"
      ],
      "execution_count": null,
      "outputs": [
        {
          "output_type": "execute_result",
          "data": {
            "text/html": [
              "<div>\n",
              "<style scoped>\n",
              "    .dataframe tbody tr th:only-of-type {\n",
              "        vertical-align: middle;\n",
              "    }\n",
              "\n",
              "    .dataframe tbody tr th {\n",
              "        vertical-align: top;\n",
              "    }\n",
              "\n",
              "    .dataframe thead th {\n",
              "        text-align: right;\n",
              "    }\n",
              "</style>\n",
              "<table border=\"1\" class=\"dataframe\">\n",
              "  <thead>\n",
              "    <tr style=\"text-align: right;\">\n",
              "      <th></th>\n",
              "      <th>user_id</th>\n",
              "      <th>products</th>\n",
              "    </tr>\n",
              "  </thead>\n",
              "  <tbody>\n",
              "    <tr>\n",
              "      <th>0</th>\n",
              "      <td>1</td>\n",
              "      <td>[196, 14084, 12427, 26088, 26405, 196, 10258, ...</td>\n",
              "    </tr>\n",
              "    <tr>\n",
              "      <th>1</th>\n",
              "      <td>2</td>\n",
              "      <td>[32792, 47766, 20574, 12000, 48110, 22474, 165...</td>\n",
              "    </tr>\n",
              "    <tr>\n",
              "      <th>2</th>\n",
              "      <td>3</td>\n",
              "      <td>[9387, 17668, 15143, 16797, 39190, 47766, 2190...</td>\n",
              "    </tr>\n",
              "    <tr>\n",
              "      <th>3</th>\n",
              "      <td>4</td>\n",
              "      <td>[36606, 7350, 35469, 2707, 42329, 7160, 1200, ...</td>\n",
              "    </tr>\n",
              "    <tr>\n",
              "      <th>4</th>\n",
              "      <td>5</td>\n",
              "      <td>[15349, 21413, 48775, 28289, 8518, 11777, 3171...</td>\n",
              "    </tr>\n",
              "  </tbody>\n",
              "</table>\n",
              "</div>"
            ],
            "text/plain": [
              "   user_id                                           products\n",
              "0        1  [196, 14084, 12427, 26088, 26405, 196, 10258, ...\n",
              "1        2  [32792, 47766, 20574, 12000, 48110, 22474, 165...\n",
              "2        3  [9387, 17668, 15143, 16797, 39190, 47766, 2190...\n",
              "3        4  [36606, 7350, 35469, 2707, 42329, 7160, 1200, ...\n",
              "4        5  [15349, 21413, 48775, 28289, 8518, 11777, 3171..."
            ]
          },
          "metadata": {
            "tags": []
          },
          "execution_count": 76
        }
      ]
    },
    {
      "cell_type": "code",
      "metadata": {
        "colab": {
          "base_uri": "https://localhost:8080/"
        },
        "id": "k_E2tkkzxDqU",
        "outputId": "d1d08593-a8ef-4bfe-e025-23e9e1856aa9"
      },
      "source": [
        "# Mean recall scores\n",
        "model_50_mean_recall,model_100_mean_recall, baseline_mean_recall = \\\n",
        "np.mean(df_eval_SVD[\"svd_new_score_50\"]),np.mean(df_eval_SVD[\"svd_new_score_100\"]), np.mean(df_eval_SVD[\"popular_score\"])\n",
        "print(\"SVD 100 Factor Model: {:.2f}%\".format(model_100_mean_recall * 100))\n",
        "print(\"SVD 50 Factor Model: {:.2f}%\".format(model_50_mean_recall * 100))\n",
        "print(\"Baseline: {:.2f}%\".format(baseline_mean_recall * 100))"
      ],
      "execution_count": null,
      "outputs": [
        {
          "output_type": "stream",
          "text": [
            "SVD 100 Factor Model: 2.39%\n",
            "SVD 50 Factor Model: 2.84%\n",
            "Baseline: 2.62%\n"
          ],
          "name": "stdout"
        }
      ]
    },
    {
      "cell_type": "markdown",
      "metadata": {
        "id": "nNjMY9xXbd16"
      },
      "source": [
        "## ALS"
      ]
    },
    {
      "cell_type": "code",
      "metadata": {
        "id": "l7jUIscba1W1"
      },
      "source": [
        "def confidence_matrix(prod_user_matrix, alpha):\n",
        "    \"\"\"\n",
        "    Given a utility matrix,\n",
        "    Returns the given matrix converted to a confidence matrix\n",
        "    For more details, look at http://yifanhu.net/PUB/cf.pdf\n",
        "    \"\"\"\n",
        "    return (prod_user_matrix * alpha).astype(\"double\")\n",
        "    \n",
        "\n",
        "def build_imf(prod_user_matrix, **kwargs):\n",
        "    \"\"\"\n",
        "    Given the utility matrix and model parameters,\n",
        "    Builds models and writes it to disk at \n",
        "    \"\"\"\n",
        "    start = time.time()\n",
        "    \n",
        "    # Build model\n",
        "    print(\"Building IMF model with alpha: {} ...\".format(kwargs[\"alpha\"]))\n",
        "    model = AlternatingLeastSquares()\n",
        "    model.approximate_similar_items = False\n",
        "    \n",
        "    model.fit(confidence_matrix(prod_user_matrix, kwargs[\"alpha\"]))\n",
        "\n",
        "    # Save model to disk\n",
        "    with open(kwargs[\"path\"], \"wb+\") as f:\n",
        "        pickle.dump(model, f, pickle.HIGHEST_PROTOCOL)\n",
        "    \n",
        "    print(\"Completed in {:.2f}s\".format(time.time() - start))\n",
        "\n",
        "    \n",
        "# Specify model params and build it\n",
        "## Alpha's in the range [10, 50] with a step size of 5 were tried. alpha = 15 was found to have the best overall \n",
        "## recall value. \n",
        "model_params = {\"alpha\": 15} \n",
        "model_params[\"path\"] = \"/content/drive/MyDrive/Almabetter/Cohort Nilgiri/Kaggle/{}.imf\".format(model_params[\"alpha\"])\n",
        "\n",
        "REBUILD_MODEL = False\n",
        "if REBUILD_MODEL or not Path(model_params[\"path\"]).exists():\n",
        "    build_imf(product_user_matrix, **model_params)\n",
        "with open(model_params[\"path\"], \"rb\") as f:\n",
        "    imf_model = pickle.load(f)\n"
      ],
      "execution_count": null,
      "outputs": []
    },
    {
      "cell_type": "code",
      "metadata": {
        "id": "mI_B6l6ea47n"
      },
      "source": [
        "# Since the utility matrix is 0-indexed, the below dict is required to convert between `ids` and `indices`.\n",
        "# For example, `product_id` 1 in the dataset is represented by the `0`th row of the utility matrix.\n",
        "\n",
        "# Maps user_id: user index\n",
        "u_dict = {uid:i for i, uid in enumerate(df_user_product_prior[\"user_id\"].cat.categories)}\n",
        "\n",
        "# Maps product_index: product id\n",
        "p_dict = dict(enumerate(df_user_product_prior[\"product_id\"].cat.categories))\n"
      ],
      "execution_count": null,
      "outputs": []
    },
    {
      "cell_type": "code",
      "metadata": {
        "id": "Y7CctM1ia730"
      },
      "source": [
        "# Recommend items for a user 17\n",
        "user_id = 17\n",
        "recommendations = imf_model.recommend(u_dict[user_id], product_user_matrix.T.tocsr(), N = 10)\n"
      ],
      "execution_count": null,
      "outputs": []
    },
    {
      "cell_type": "code",
      "metadata": {
        "id": "RuT6xhLua-12"
      },
      "source": [
        "# Actual \n",
        "row = df_user_products_test.loc[df_user_products_test.user_id == user_id]\n",
        "actual = list(row[\"products\"])\n",
        "actual = actual[0][1:-1]\n",
        "actual = list(np.array([p.strip() for p in actual.strip().split(\",\")]).astype(np.int64))\n",
        "act_products = []\n",
        "for pid in actual:\n",
        "    act_products.extend((df_products.loc[df_products.product_id == pid].product_name).tolist())\n",
        "print(\"Actual products bought by user {}\\n{}\".format(user_id, act_products))\n",
        "\n",
        "\n",
        "# Recommended\n",
        "r = [p_dict[r[0]] for r in recommendations] # Takes the product_cat_code and maps to product_id\n",
        "rec_products = []\n",
        "for pid in r:\n",
        "    rec_products.extend((df_products.loc[df_products.product_id == pid].product_name).tolist())\n",
        "print(\"\\nRecommendations for user {}\\n{}\".format(user_id, rec_products))\n"
      ],
      "execution_count": null,
      "outputs": []
    },
    {
      "cell_type": "code",
      "metadata": {
        "id": "ZGmEVZj1lP9v"
      },
      "source": [
        ""
      ],
      "execution_count": null,
      "outputs": []
    },
    {
      "cell_type": "code",
      "metadata": {
        "id": "yzO7t_KlbCQ4"
      },
      "source": [
        "def get_k_popular(k, df_merged_order_products_prior):\n",
        "    \"\"\"\n",
        "    Returns the `k` most popular products based on purchase count in the dataset\n",
        "    \"\"\"\n",
        "    popular_products = list(df_merged_order_products_prior[\"product_id\"].value_counts().head(k).index)\n",
        "    return popular_products\n"
      ],
      "execution_count": null,
      "outputs": []
    },
    {
      "cell_type": "code",
      "metadata": {
        "id": "PDkuWJUEbFoN"
      },
      "source": [
        "# Transpose of the product_user utility matrix\n",
        "user_product_matrix = product_user_matrix.T.tocsr()\n",
        "\n",
        "# Number of recommendations to make for every user\n",
        "N_REC = 10\n",
        "\n",
        "# Get the `N_REC` most popular products\n",
        "popular_products = get_k_popular(N_REC, df_order_products_prior_merged)\n"
      ],
      "execution_count": null,
      "outputs": []
    },
    {
      "cell_type": "code",
      "metadata": {
        "id": "R5rNnRYCbKxv"
      },
      "source": [
        "def recall_score(actual, pred):\n",
        "    \"\"\"\n",
        "    Given two lists representing actual and predicted values\n",
        "    Returns the recall of the prediction\n",
        "    \"\"\"\n",
        "    if len(actual) == 0:\n",
        "        return 0\n",
        "    actual, pred = set(actual), set(pred)\n",
        "    return len(actual.intersection(pred)) / len(actual)\n",
        "\n",
        "\n",
        "def new_products(row):\n",
        "    \"\"\"\n",
        "    Given a row in the test dataset\n",
        "    Returns the list of new products purchased\n",
        "    \"\"\"\n",
        "    actual = row[\"products\"][1:-1]  # Products purchased currently \n",
        "    actual = set([int(p.strip()) for p in actual.strip().split(\",\")])\n",
        "    liked = set([p_dict[i] for i in user_product_matrix[u_dict[row[\"user_id\"]]].indices])  # User's purchase history\n",
        "    return actual - liked  # Return only new products purchased\n",
        "\n",
        "\n",
        "def popular_recommend(row):\n",
        "    \"\"\"\n",
        "    Given a row in the test dataset\n",
        "    Returns the recall score when popular products are recommended\n",
        "    \"\"\"\n",
        "    actual = new_products(row)\n",
        "    return recall_score(actual, popular_products)\n",
        "\n",
        "             \n",
        "def imf_recommend(row):\n",
        "    \"\"\"\n",
        "    Given a row in the test dataset\n",
        "    Returns the recall score when our model recommends products\n",
        "    \"\"\"\n",
        "    actual = new_products(row)\n",
        "    recommended = imf_model.recommend(u_dict[row[\"user_id\"]], user_product_matrix, N=N_REC)\n",
        "    recommended = [p_dict[r[0]] for r in recommended]\n",
        "    return recall_score(actual, recommended)\n",
        "\n",
        "             \n",
        "def build_eval_df(df_user_products_test, filepath=None, subset=None):\n",
        "    \"\"\"\n",
        "    Builds a dataframe of recall values of the baseline and our model for all the users\n",
        "    in the test data, and saves its to disk at `filepath`\n",
        "    \"\"\"\n",
        "    start = time.time()\n",
        "    print(\"Building dataframe with recall values ...\")\n",
        "    \n",
        "    df_eval = df_user_products_test.copy()\n",
        "    if subset:\n",
        "        df_eval = df_eval.sample(n=int(len(df_eval) * subset), random_state=7)\n",
        "    df_eval[\"popular_score\"] = df_eval.apply(popular_recommend, axis=1)\n",
        "    df_eval[\"imf_score\"] = df_eval.apply(imf_recommend, axis=1)\n",
        "    \n",
        "    df_eval.to_csv(filepath)\n",
        "    \n",
        "    print(\"Completed in {:.2f}s\".format(time.time() - start))    \n",
        "\n",
        "\n",
        "# Get the dataframe with recall values of the baseline and the model\n",
        "REBUILD_EVAL_DF = True\n",
        "subset = 0.2  # Evaluate on `subset x 100`% of the test dataset\n",
        "eval_path = \"/content/drive/MyDrive/Almabetter/Cohort Nilgiri/Kaggle/eval_discovery_{}_{}.csv\".format(subset if subset is not None else \"full\", N_REC)\n",
        "if REBUILD_EVAL_DF or not Path(eval_path).exists():\n",
        "    build_eval_df(df_user_products_test, filepath=eval_path, subset=subset)\n",
        "df_eval_ALS = pd.read_csv(eval_path)\n"
      ],
      "execution_count": null,
      "outputs": []
    },
    {
      "cell_type": "code",
      "metadata": {
        "id": "fNJk8bGrbNug"
      },
      "source": [
        "# Mean recall scores\n",
        "model_mean_recall, baseline_mean_recall = np.mean(df_eval_ALS[\"imf_score\"]), np.mean(df_eval_ALS[\"popular_score\"])\n",
        "print(\"Model: {:.2f}%\".format(model_mean_recall * 100))\n",
        "print(\"Baseline: {:.2f}%\".format(baseline_mean_recall * 100))\n"
      ],
      "execution_count": null,
      "outputs": []
    },
    {
      "cell_type": "markdown",
      "metadata": {
        "id": "YntC1U-brpT7"
      },
      "source": [
        "## TFIDF"
      ]
    },
    {
      "cell_type": "code",
      "metadata": {
        "colab": {
          "base_uri": "https://localhost:8080/",
          "height": 195
        },
        "id": "xMcBIv4_99_V",
        "outputId": "27181b9e-1c4d-4871-f04e-5d0f203ea9ad"
      },
      "source": [
        "df_user_product_prior.head()"
      ],
      "execution_count": null,
      "outputs": [
        {
          "output_type": "execute_result",
          "data": {
            "text/html": [
              "<div>\n",
              "<style scoped>\n",
              "    .dataframe tbody tr th:only-of-type {\n",
              "        vertical-align: middle;\n",
              "    }\n",
              "\n",
              "    .dataframe tbody tr th {\n",
              "        vertical-align: top;\n",
              "    }\n",
              "\n",
              "    .dataframe thead th {\n",
              "        text-align: right;\n",
              "    }\n",
              "</style>\n",
              "<table border=\"1\" class=\"dataframe\">\n",
              "  <thead>\n",
              "    <tr style=\"text-align: right;\">\n",
              "      <th></th>\n",
              "      <th>user_id</th>\n",
              "      <th>product_id</th>\n",
              "      <th>quantity</th>\n",
              "    </tr>\n",
              "  </thead>\n",
              "  <tbody>\n",
              "    <tr>\n",
              "      <th>0</th>\n",
              "      <td>1</td>\n",
              "      <td>196</td>\n",
              "      <td>10</td>\n",
              "    </tr>\n",
              "    <tr>\n",
              "      <th>1</th>\n",
              "      <td>1</td>\n",
              "      <td>10258</td>\n",
              "      <td>9</td>\n",
              "    </tr>\n",
              "    <tr>\n",
              "      <th>2</th>\n",
              "      <td>1</td>\n",
              "      <td>10326</td>\n",
              "      <td>1</td>\n",
              "    </tr>\n",
              "    <tr>\n",
              "      <th>3</th>\n",
              "      <td>1</td>\n",
              "      <td>12427</td>\n",
              "      <td>10</td>\n",
              "    </tr>\n",
              "    <tr>\n",
              "      <th>4</th>\n",
              "      <td>1</td>\n",
              "      <td>13032</td>\n",
              "      <td>3</td>\n",
              "    </tr>\n",
              "  </tbody>\n",
              "</table>\n",
              "</div>"
            ],
            "text/plain": [
              "  user_id product_id  quantity\n",
              "0       1        196        10\n",
              "1       1      10258         9\n",
              "2       1      10326         1\n",
              "3       1      12427        10\n",
              "4       1      13032         3"
            ]
          },
          "metadata": {
            "tags": []
          },
          "execution_count": 61
        }
      ]
    },
    {
      "cell_type": "markdown",
      "metadata": {
        "id": "JH6IEqHH97gc"
      },
      "source": [
        "Using df_user_product_prior build a sparse matrix named product user matrix"
      ]
    },
    {
      "cell_type": "code",
      "metadata": {
        "id": "JcoSNwrgrodv"
      },
      "source": [
        "# Fetch term Frequency matrix\n",
        "user_product_matrix = product_user_matrix.T"
      ],
      "execution_count": null,
      "outputs": []
    },
    {
      "cell_type": "code",
      "metadata": {
        "id": "NOthnUPArwDv"
      },
      "source": [
        "def tfidf_weight(tf):\n",
        "    \"\"\"\n",
        "    Given a Term Frequency matrix\n",
        "    Returns a TF-IDF weight matrix\n",
        "    \"\"\"\n",
        "    \n",
        "    tf_idf = coo_matrix(tf)\n",
        "\n",
        "    # calculate IDF\n",
        "    N = float(tf_idf.shape[0])\n",
        "    idf = log(N / (1 + bincount(tf_idf.col)))\n",
        "\n",
        "    # apply TF-IDF adjustment\n",
        "    tf_idf.data = sqrt(tf_idf.data) * idf[tf_idf.col]\n",
        "    return tf_idf\n",
        "\n",
        "tf_idf = tfidf_weight(user_product_matrix)\n",
        "\n",
        "# convert to Compressed Sparse Row format\n",
        "tf_idf = tf_idf.tocsr()"
      ],
      "execution_count": null,
      "outputs": []
    },
    {
      "cell_type": "code",
      "metadata": {
        "id": "msyRGcsCsB9P"
      },
      "source": [
        "def generateRecommendations(target_user, cos_vec, K, N):\n",
        "    \"\"\"\n",
        "    Given a target_user (a row), a cosine similarity vector, the number of similar users K, \n",
        "          the number of products to be recommended.\n",
        "    Returns product set by target user and N recommendations\n",
        "    \"\"\"\n",
        "    \n",
        "    # Select top K similar users\n",
        "    top_K_similar_users = heapq.nlargest(K+1, range(len(cos_vec)), cos_vec.take)\n",
        "\n",
        "    # Initialize the result for recommendations\n",
        "    recommendations = []\n",
        "    \n",
        "    # Exclude the user with same purchase history (1.00000) as the target user and implement set-minus\n",
        "    products_target_user = df_prior_user_products.loc[df_prior_user_products['user_id'] == target_user_id].products\n",
        "\n",
        "    # Products of Target User\n",
        "    productset_target_user = set(products_target_user.tolist()[0])\n",
        "\n",
        "    # Fetch the preliminary recommendations\n",
        "    for similar_user_id in top_K_similar_users:\n",
        "        \n",
        "        products_similar_user = df_prior_user_products.loc[df_prior_user_products['user_id'] == similar_user_id + 1].products\n",
        "\n",
        "        # Recommend the products bought by the user who firstly differs in the purchase history from A.\n",
        "        candidate_recommendation = set(products_similar_user.tolist()[0]) - productset_target_user\n",
        "\n",
        "        # If similar_user_id equals to target_user_id or the candidate_recommendation is empty,\n",
        "        # skip current user\n",
        "        if similar_user_id == target_user_id or not candidate_recommendation: continue\n",
        "\n",
        "        # One candidate_recommendation found, and extend it to the result\n",
        "        recommendations.extend(candidate_recommendation)\n",
        "\n",
        "        # If length of recommendations exceed N, break\n",
        "        # Needed because this will ensure the recommentations are the products bought by most similar users\n",
        "        if len(recommendations) > N: break\n",
        "        \n",
        "    # Pick the top N popularity (overall sales) to recommend\n",
        "    h = []\n",
        "    for rec in recommendations:\n",
        "        heapq.heappush(h, (df_product_frequency.loc[rec]['frequency'], rec))\n",
        "        if len(h) > N:\n",
        "            heapq.heappop(h)\n",
        "            \n",
        "    return productset_target_user, [item[1] for item in h]\n"
      ],
      "execution_count": null,
      "outputs": []
    },
    {
      "cell_type": "code",
      "metadata": {
        "id": "lifwOXM4sF4f"
      },
      "source": [
        "# Selecting one user to test\n",
        "target_user_id = 1\n",
        "\n",
        "# Fetch row of target user\n",
        "target_user = tf_idf[target_user_id - 1]\n",
        "\n",
        "# Calculate Cosine Similarity Vector of target user\n",
        "similarities = cosine_similarity(tf_idf, target_user, False)\n",
        "\n",
        "productset_target_user, recommendations = generateRecommendations(target_user, similarities.toarray(), 10, 10)\n"
      ],
      "execution_count": null,
      "outputs": []
    },
    {
      "cell_type": "code",
      "metadata": {
        "colab": {
          "base_uri": "https://localhost:8080/"
        },
        "id": "RgqGz1lfsI_Y",
        "outputId": "cd3cc06f-d4dd-46f4-fb20-f5291c0ff6dc"
      },
      "source": [
        "# Output the product_name of Target User's products as well as Recommendations\n",
        "print('Actual products bought by User {}:'.format(target_user_id))\n",
        "print(productset_target_user)\n",
        "print()\n",
        "print('Recommended products for User {}:'.format(target_user_id))\n",
        "print(recommendations)\n"
      ],
      "execution_count": null,
      "outputs": [
        {
          "output_type": "stream",
          "text": [
            "Actual products bought by User 1:\n",
            "{17122, 196, 26405, 14084, 46149, 26088, 13032, 39657, 12427, 25133, 35951, 38928, 10258, 30450, 49235, 10326, 13176, 41787}\n",
            "\n",
            "Recommended products for User 1:\n",
            "[500, 26104, 4149, 41400, 22802, 12916, 37710, 9755, 16797, 5258]\n"
          ],
          "name": "stdout"
        }
      ]
    },
    {
      "cell_type": "code",
      "metadata": {
        "id": "fZkg5V4UshKp"
      },
      "source": [
        "# Get the 10 most popular products\n",
        "popular_products = get_k_popular(10, df_order_products_prior_merged)"
      ],
      "execution_count": null,
      "outputs": []
    },
    {
      "cell_type": "code",
      "metadata": {
        "colab": {
          "base_uri": "https://localhost:8080/"
        },
        "id": "n-B786My_CHk",
        "outputId": "d67ea3f4-2dcf-4110-ad1a-4097e8eb0d8c"
      },
      "source": [
        "popular_products"
      ],
      "execution_count": null,
      "outputs": [
        {
          "output_type": "execute_result",
          "data": {
            "text/plain": [
              "[24852, 13176, 21137, 21903, 47209, 47766, 47626, 16797, 26209, 27845]"
            ]
          },
          "metadata": {
            "tags": []
          },
          "execution_count": 62
        }
      ]
    },
    {
      "cell_type": "code",
      "metadata": {
        "id": "QOvl7_5jsm5V"
      },
      "source": [
        "def recall_score(actual, pred):\n",
        "    \"\"\"\n",
        "    Given two lists representing actual and predicted values\n",
        "    Returns the recall of the prediction\n",
        "    \"\"\"\n",
        "    if len(actual) == 0:\n",
        "        return 0\n",
        "    actual, pred = set(actual), set(pred)\n",
        "    return len(actual.intersection(pred)) / len(actual)\n",
        "\n",
        "def new_products(row):\n",
        "    \"\"\"\n",
        "    Given a row in the test dataset\n",
        "    Returns the list of new products purchased\n",
        "    \"\"\"\n",
        "    actual = row[\"products\"][1:-1]\n",
        "    actual = set([int(p.strip()) for p in actual.strip().split(\",\")])\n",
        "    products_target_user = df_prior_user_products.loc[df_prior_user_products['user_id'] == row[\"user_id\"]].products\n",
        "    liked = set(products_target_user.tolist()[0])\n",
        "    return actual - liked\n",
        "\n",
        "def popular_recommend(row):\n",
        "    \"\"\"\n",
        "    Given a row in the test dataset\n",
        "    Returns the recall score when popular products are recommended\n",
        "    \"\"\"\n",
        "    actual = new_products(row)\n",
        "    return recall_score(actual, popular_products)\n",
        "\n",
        "def tfidf_recommend(row):\n",
        "    \"\"\"\n",
        "    Given a row in the test dataset\n",
        "    Returns the recall score when our model recommends products\n",
        "    \"\"\"\n",
        "    actual = row[\"products\"][1:-1]\n",
        "    actual = [int(p.strip()) for p in actual.strip().split(\",\")]\n",
        "    target_user = tf_idf[row[\"user_id\"] - 1]\n",
        "    similarities = cosine_similarity(tf_idf, target_user, False)\n",
        "    cos_vec = similarities.toarray()\n",
        "    productset_target_user, recommended = generateRecommendations(target_user, cos_vec, 20, 10)\n",
        "\n",
        "    cur_recall_score = recall_score(actual, recommended)\n",
        "    \n",
        "    global count, progress, recall_sum\n",
        "    count += 1; recall_sum += cur_recall_score\n",
        "    if level[progress] and int(count / total * 10) - 1 == progress:\n",
        "        level[progress] = False\n",
        "        progress += 1\n",
        "        print(\"{:.1f}% completed, current mean of recall = {}\".format(progress * 10, recall_sum / count))    \n",
        "    \n",
        "    return cur_recall_score\n",
        "\n",
        "def build_eval_df(filepath, df_user_products_test, subset=None):\n",
        "    \"\"\"\n",
        "    Builds a dataframe of recall values of the baseline and our model for all the users\n",
        "    in the test data, and saves its to disk at `filepath`\n",
        "    \"\"\"\n",
        "    start = time.time()\n",
        "    print(\"Building dataframe with recall values ...\")\n",
        "    \n",
        "    df_eval = df_user_products_test.copy()\n",
        "    if subset:\n",
        "        df_eval = df_eval.sample(n=int(len(df_eval) * subset), random_state=7)\n",
        "    df_eval[\"popular_score\"] = df_eval.apply(popular_recommend, axis=1)\n",
        "    df_eval[\"tfidf_score\"] = df_eval.apply(tfidf_recommend, axis=1)\n",
        "    df_eval.to_csv(filepath) #, index_label=False)\n",
        "    \n",
        "    print(\"Completed in {:.2f}s\".format(time.time() - start))    \n",
        "\n",
        "\n",
        "# Get the dataframe with recall values of the baseline and the model\n",
        "REBUILD_EVAL_DF = False\n",
        "subset = 0.2\n",
        "\n",
        "# How many users in the test?\n",
        "total = len(df_user_products_test) * subset\n",
        "\n",
        "# Counter\n",
        "count = 0\n",
        "progress = 0\n",
        "recall_sum = 0\n",
        "level = [True] * 10\n",
        "\n",
        "# Estimated 3 hours to run 20% of the test dataset\n",
        "eval_path = \"/content/drive/MyDrive/Almabetter/Cohort Nilgiri/Kaggle/eval_tfidf_{}.csv\".format(subset if subset is not None else \"full\")\n",
        "if REBUILD_EVAL_DF or not Path(eval_path).exists():\n",
        "    build_eval_df(eval_path, df_user_products_test, subset=subset)\n",
        "df_eval = pd.read_csv(eval_path)\n"
      ],
      "execution_count": null,
      "outputs": []
    },
    {
      "cell_type": "code",
      "metadata": {
        "colab": {
          "base_uri": "https://localhost:8080/",
          "height": 195
        },
        "id": "-VLKeY1KqQm3",
        "outputId": "60fed5ad-ca28-471a-8b3f-9d192884b7bd"
      },
      "source": [
        "df_eval.head()"
      ],
      "execution_count": null,
      "outputs": [
        {
          "output_type": "execute_result",
          "data": {
            "text/html": [
              "<div>\n",
              "<style scoped>\n",
              "    .dataframe tbody tr th:only-of-type {\n",
              "        vertical-align: middle;\n",
              "    }\n",
              "\n",
              "    .dataframe tbody tr th {\n",
              "        vertical-align: top;\n",
              "    }\n",
              "\n",
              "    .dataframe thead th {\n",
              "        text-align: right;\n",
              "    }\n",
              "</style>\n",
              "<table border=\"1\" class=\"dataframe\">\n",
              "  <thead>\n",
              "    <tr style=\"text-align: right;\">\n",
              "      <th></th>\n",
              "      <th>Unnamed: 0</th>\n",
              "      <th>user_id</th>\n",
              "      <th>products</th>\n",
              "      <th>popular_score</th>\n",
              "      <th>tfidf_score</th>\n",
              "    </tr>\n",
              "  </thead>\n",
              "  <tbody>\n",
              "    <tr>\n",
              "      <th>0</th>\n",
              "      <td>61608</td>\n",
              "      <td>96827</td>\n",
              "      <td>[1947, 13176, 28199, 25230, 33081, 3896, 5450,...</td>\n",
              "      <td>0.0</td>\n",
              "      <td>0.000000</td>\n",
              "    </tr>\n",
              "    <tr>\n",
              "      <th>1</th>\n",
              "      <td>20702</td>\n",
              "      <td>32474</td>\n",
              "      <td>[9203, 26940, 11286, 27012, 17652, 18677, 3877...</td>\n",
              "      <td>0.0</td>\n",
              "      <td>0.000000</td>\n",
              "    </tr>\n",
              "    <tr>\n",
              "      <th>2</th>\n",
              "      <td>2255</td>\n",
              "      <td>3492</td>\n",
              "      <td>[22959, 26604, 10867, 7349, 48527, 13866, 1136...</td>\n",
              "      <td>0.0</td>\n",
              "      <td>0.125000</td>\n",
              "    </tr>\n",
              "    <tr>\n",
              "      <th>3</th>\n",
              "      <td>99391</td>\n",
              "      <td>156404</td>\n",
              "      <td>[48762]</td>\n",
              "      <td>0.0</td>\n",
              "      <td>1.000000</td>\n",
              "    </tr>\n",
              "    <tr>\n",
              "      <th>4</th>\n",
              "      <td>57224</td>\n",
              "      <td>89919</td>\n",
              "      <td>[35221, 13176, 11520, 7503, 26209, 13984, 2283...</td>\n",
              "      <td>0.0</td>\n",
              "      <td>0.111111</td>\n",
              "    </tr>\n",
              "  </tbody>\n",
              "</table>\n",
              "</div>"
            ],
            "text/plain": [
              "   Unnamed: 0  user_id  ... popular_score  tfidf_score\n",
              "0       61608    96827  ...           0.0     0.000000\n",
              "1       20702    32474  ...           0.0     0.000000\n",
              "2        2255     3492  ...           0.0     0.125000\n",
              "3       99391   156404  ...           0.0     1.000000\n",
              "4       57224    89919  ...           0.0     0.111111\n",
              "\n",
              "[5 rows x 5 columns]"
            ]
          },
          "metadata": {
            "tags": []
          },
          "execution_count": 54
        }
      ]
    },
    {
      "cell_type": "code",
      "metadata": {
        "colab": {
          "base_uri": "https://localhost:8080/"
        },
        "id": "xh3OdUASsqZc",
        "outputId": "e2bab441-5797-4222-b9c6-8bda5e3dd67b"
      },
      "source": [
        "# Mean recall scores\n",
        "model_mean_recall, baseline_mean_recall = np.mean(df_eval[\"tfidf_score\"]), np.mean(df_eval[\"popular_score\"])\n",
        "print(\"Model: {:.2f}%\".format(model_mean_recall * 100))\n",
        "print(\"Baseline: {:.2f}%\".format(baseline_mean_recall * 100))\n"
      ],
      "execution_count": null,
      "outputs": [
        {
          "output_type": "stream",
          "text": [
            "Model: 20.08%\n",
            "Baseline: 2.62%\n"
          ],
          "name": "stdout"
        }
      ]
    }
  ]
}