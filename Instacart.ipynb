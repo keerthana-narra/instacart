{
  "nbformat": 4,
  "nbformat_minor": 0,
  "metadata": {
    "colab": {
      "name": "N.Sai Keerthana Reddy_Instacart_KaggleSubmission.ipynb",
      "provenance": [],
      "collapsed_sections": [
        "eMWwm4lGFnys",
        "nNjMY9xXbd16",
        "YntC1U-brpT7"
      ],
      "authorship_tag": "ABX9TyODoN/T2E0EqVV3Xm/A5FSX",
      "include_colab_link": true
    },
    "kernelspec": {
      "name": "python3",
      "display_name": "Python 3"
    },
    "language_info": {
      "name": "python"
    }
  },
  "cells": [
    {
      "cell_type": "markdown",
      "metadata": {
        "id": "view-in-github",
        "colab_type": "text"
      },
      "source": [
        "<a href=\"https://colab.research.google.com/github/keerthana-narra/instacart/blob/main/Instacart.ipynb\" target=\"_parent\"><img src=\"https://colab.research.google.com/assets/colab-badge.svg\" alt=\"Open In Colab\"/></a>"
      ]
    },
    {
      "cell_type": "code",
      "metadata": {
        "colab": {
          "base_uri": "https://localhost:8080/"
        },
        "id": "7nFXhclsbjAg",
        "outputId": "d76651ad-d658-46b1-c0e6-4e738b0e6415"
      },
      "source": [
        "# Mounting drive\n",
        "from google.colab import drive\n",
        "drive.mount('/content/drive')\n"
      ],
      "execution_count": null,
      "outputs": [
        {
          "output_type": "stream",
          "text": [
            "Mounted at /content/drive\n"
          ],
          "name": "stdout"
        }
      ]
    },
    {
      "cell_type": "markdown",
      "metadata": {
        "id": "XBRDB1GGl6KC"
      },
      "source": [
        "##Background\n",
        "Instacart is using an American company that operates as a same-day grocery delivery service.\n",
        "Customers select groceries through a web/mobile application from various retailers which are then delivered by a personal shopper.\n",
        "With data on customers product purchases, a recommender system can be designed using unsupervised learning methods. \n"
      ]
    },
    {
      "cell_type": "markdown",
      "metadata": {
        "id": "BWLinnggmAEX"
      },
      "source": [
        "##Problem Statement\n",
        "To Predict products which will an Instacart consumer purchase. \n",
        "In this project we investigate if products suggested by the  recommender systems are more indicative of user purchases on Instacart as compared to recommending the 10 most popular products to each user.\n"
      ]
    },
    {
      "cell_type": "markdown",
      "metadata": {
        "id": "eMWwm4lGFnys"
      },
      "source": [
        "## Importing libraries and loading data"
      ]
    },
    {
      "cell_type": "code",
      "metadata": {
        "id": "Pg3Y6Fqd-6oN"
      },
      "source": [
        "### Imports\n",
        "import matplotlib.pyplot as plt\n",
        "import seaborn as sns\n",
        "import pandas as pd\n",
        "import numpy as np\n",
        "\n",
        "# Set seaborn color palette\n",
        "colors = sns.color_palette(\"pastel\")\n",
        "\n",
        "%matplotlib inline\n"
      ],
      "execution_count": null,
      "outputs": []
    },
    {
      "cell_type": "markdown",
      "metadata": {
        "id": "2ZQcnoUQmQDx"
      },
      "source": [
        "## Files in the dataset\n",
        "Aisle.csv - Aisle_id, Aisle\n",
        "Departments.csv - department_id, department\n",
        "Products.csv - product_id, product_name, aisle_id, department_id\n",
        "Order_products_prior - order_id, product_id, add_to_cart_order, reordered\n",
        "Order_products_train - order_id, product_id, add_to_cart_order, reordered\n",
        "Submission.csv - order_id, products\n",
        "Orders.csv - order_id, user_id, eval_set, order_number, order_dow, order_hour_of_day, days_since_prior_order"
      ]
    },
    {
      "cell_type": "code",
      "metadata": {
        "id": "wu_-wBhlBrTl"
      },
      "source": [
        "df_aisles = pd.read_csv(\"/content/drive/MyDrive/Almabetter/Cohort Nilgiri/Kaggle/aisles.csv\")\n",
        "df_departments = pd.read_csv(\"/content/drive/MyDrive/Almabetter/Cohort Nilgiri/Kaggle/departments.csv\")\n",
        "df_products = pd.read_csv(\"/content/drive/MyDrive/Almabetter/Cohort Nilgiri/Kaggle/products.csv\")\n",
        "df_order_products_prior = pd.read_csv(\"/content/drive/MyDrive/Almabetter/Cohort Nilgiri/Kaggle/order_products__prior.csv\")\n",
        "df_order_products_train = pd.read_csv(\"/content/drive/MyDrive/Almabetter/Cohort Nilgiri/Kaggle/order_products__train.csv\")\n",
        "df_order_products_test = pd.read_csv('/content/drive/MyDrive/Almabetter/Cohort Nilgiri/Kaggle/sample_submission.csv')\n",
        "df_orders = pd.read_csv(\"/content/drive/MyDrive/Almabetter/Cohort Nilgiri/Kaggle/orders.csv\")\n",
        "\n"
      ],
      "execution_count": null,
      "outputs": []
    },
    {
      "cell_type": "markdown",
      "metadata": {
        "id": "XlwRCcixFtR-"
      },
      "source": [
        "## Peeking into data frames"
      ]
    },
    {
      "cell_type": "code",
      "metadata": {
        "colab": {
          "base_uri": "https://localhost:8080/",
          "height": 220
        },
        "id": "3WmxeWbRBLWk",
        "outputId": "6987ebb5-31bc-42c6-e2a0-52421280d306"
      },
      "source": [
        "# Peeking into dataframes\n",
        "print('Total aisles: {}'.format(df_aisles.shape[0]))\n",
        "df_aisles.head()"
      ],
      "execution_count": null,
      "outputs": [
        {
          "output_type": "stream",
          "text": [
            "Total aisles: 134\n"
          ],
          "name": "stdout"
        },
        {
          "output_type": "execute_result",
          "data": {
            "text/html": [
              "<div>\n",
              "<style scoped>\n",
              "    .dataframe tbody tr th:only-of-type {\n",
              "        vertical-align: middle;\n",
              "    }\n",
              "\n",
              "    .dataframe tbody tr th {\n",
              "        vertical-align: top;\n",
              "    }\n",
              "\n",
              "    .dataframe thead th {\n",
              "        text-align: right;\n",
              "    }\n",
              "</style>\n",
              "<table border=\"1\" class=\"dataframe\">\n",
              "  <thead>\n",
              "    <tr style=\"text-align: right;\">\n",
              "      <th></th>\n",
              "      <th>aisle_id</th>\n",
              "      <th>aisle</th>\n",
              "    </tr>\n",
              "  </thead>\n",
              "  <tbody>\n",
              "    <tr>\n",
              "      <th>0</th>\n",
              "      <td>1</td>\n",
              "      <td>prepared soups salads</td>\n",
              "    </tr>\n",
              "    <tr>\n",
              "      <th>1</th>\n",
              "      <td>2</td>\n",
              "      <td>specialty cheeses</td>\n",
              "    </tr>\n",
              "    <tr>\n",
              "      <th>2</th>\n",
              "      <td>3</td>\n",
              "      <td>energy granola bars</td>\n",
              "    </tr>\n",
              "    <tr>\n",
              "      <th>3</th>\n",
              "      <td>4</td>\n",
              "      <td>instant foods</td>\n",
              "    </tr>\n",
              "    <tr>\n",
              "      <th>4</th>\n",
              "      <td>5</td>\n",
              "      <td>marinades meat preparation</td>\n",
              "    </tr>\n",
              "  </tbody>\n",
              "</table>\n",
              "</div>"
            ],
            "text/plain": [
              "   aisle_id                       aisle\n",
              "0         1       prepared soups salads\n",
              "1         2           specialty cheeses\n",
              "2         3         energy granola bars\n",
              "3         4               instant foods\n",
              "4         5  marinades meat preparation"
            ]
          },
          "metadata": {
            "tags": []
          },
          "execution_count": 5
        }
      ]
    },
    {
      "cell_type": "code",
      "metadata": {
        "colab": {
          "base_uri": "https://localhost:8080/",
          "height": 220
        },
        "id": "YpMXPnKTBkRf",
        "outputId": "868c0044-7586-4dd3-e3d5-e82c97e0e03b"
      },
      "source": [
        "print('Total departments: {}'.format(df_departments.shape[0]))\n",
        "df_departments.head()\n"
      ],
      "execution_count": null,
      "outputs": [
        {
          "output_type": "stream",
          "text": [
            "Total departments: 21\n"
          ],
          "name": "stdout"
        },
        {
          "output_type": "execute_result",
          "data": {
            "text/html": [
              "<div>\n",
              "<style scoped>\n",
              "    .dataframe tbody tr th:only-of-type {\n",
              "        vertical-align: middle;\n",
              "    }\n",
              "\n",
              "    .dataframe tbody tr th {\n",
              "        vertical-align: top;\n",
              "    }\n",
              "\n",
              "    .dataframe thead th {\n",
              "        text-align: right;\n",
              "    }\n",
              "</style>\n",
              "<table border=\"1\" class=\"dataframe\">\n",
              "  <thead>\n",
              "    <tr style=\"text-align: right;\">\n",
              "      <th></th>\n",
              "      <th>department_id</th>\n",
              "      <th>department</th>\n",
              "    </tr>\n",
              "  </thead>\n",
              "  <tbody>\n",
              "    <tr>\n",
              "      <th>0</th>\n",
              "      <td>1</td>\n",
              "      <td>frozen</td>\n",
              "    </tr>\n",
              "    <tr>\n",
              "      <th>1</th>\n",
              "      <td>2</td>\n",
              "      <td>other</td>\n",
              "    </tr>\n",
              "    <tr>\n",
              "      <th>2</th>\n",
              "      <td>3</td>\n",
              "      <td>bakery</td>\n",
              "    </tr>\n",
              "    <tr>\n",
              "      <th>3</th>\n",
              "      <td>4</td>\n",
              "      <td>produce</td>\n",
              "    </tr>\n",
              "    <tr>\n",
              "      <th>4</th>\n",
              "      <td>5</td>\n",
              "      <td>alcohol</td>\n",
              "    </tr>\n",
              "  </tbody>\n",
              "</table>\n",
              "</div>"
            ],
            "text/plain": [
              "   department_id department\n",
              "0              1     frozen\n",
              "1              2      other\n",
              "2              3     bakery\n",
              "3              4    produce\n",
              "4              5    alcohol"
            ]
          },
          "metadata": {
            "tags": []
          },
          "execution_count": 6
        }
      ]
    },
    {
      "cell_type": "code",
      "metadata": {
        "colab": {
          "base_uri": "https://localhost:8080/",
          "height": 220
        },
        "id": "7hJvnyXXEGZq",
        "outputId": "18481dd4-8aa7-4e0d-9855-eb31e0f34652"
      },
      "source": [
        "print('Total products: {}'.format(df_products.shape[0]))\n",
        "df_products.head()\n"
      ],
      "execution_count": null,
      "outputs": [
        {
          "output_type": "stream",
          "text": [
            "Total products: 49688\n"
          ],
          "name": "stdout"
        },
        {
          "output_type": "execute_result",
          "data": {
            "text/html": [
              "<div>\n",
              "<style scoped>\n",
              "    .dataframe tbody tr th:only-of-type {\n",
              "        vertical-align: middle;\n",
              "    }\n",
              "\n",
              "    .dataframe tbody tr th {\n",
              "        vertical-align: top;\n",
              "    }\n",
              "\n",
              "    .dataframe thead th {\n",
              "        text-align: right;\n",
              "    }\n",
              "</style>\n",
              "<table border=\"1\" class=\"dataframe\">\n",
              "  <thead>\n",
              "    <tr style=\"text-align: right;\">\n",
              "      <th></th>\n",
              "      <th>product_id</th>\n",
              "      <th>product_name</th>\n",
              "      <th>aisle_id</th>\n",
              "      <th>department_id</th>\n",
              "    </tr>\n",
              "  </thead>\n",
              "  <tbody>\n",
              "    <tr>\n",
              "      <th>0</th>\n",
              "      <td>1</td>\n",
              "      <td>Chocolate Sandwich Cookies</td>\n",
              "      <td>61</td>\n",
              "      <td>19</td>\n",
              "    </tr>\n",
              "    <tr>\n",
              "      <th>1</th>\n",
              "      <td>2</td>\n",
              "      <td>All-Seasons Salt</td>\n",
              "      <td>104</td>\n",
              "      <td>13</td>\n",
              "    </tr>\n",
              "    <tr>\n",
              "      <th>2</th>\n",
              "      <td>3</td>\n",
              "      <td>Robust Golden Unsweetened Oolong Tea</td>\n",
              "      <td>94</td>\n",
              "      <td>7</td>\n",
              "    </tr>\n",
              "    <tr>\n",
              "      <th>3</th>\n",
              "      <td>4</td>\n",
              "      <td>Smart Ones Classic Favorites Mini Rigatoni Wit...</td>\n",
              "      <td>38</td>\n",
              "      <td>1</td>\n",
              "    </tr>\n",
              "    <tr>\n",
              "      <th>4</th>\n",
              "      <td>5</td>\n",
              "      <td>Green Chile Anytime Sauce</td>\n",
              "      <td>5</td>\n",
              "      <td>13</td>\n",
              "    </tr>\n",
              "  </tbody>\n",
              "</table>\n",
              "</div>"
            ],
            "text/plain": [
              "   product_id  ... department_id\n",
              "0           1  ...            19\n",
              "1           2  ...            13\n",
              "2           3  ...             7\n",
              "3           4  ...             1\n",
              "4           5  ...            13\n",
              "\n",
              "[5 rows x 4 columns]"
            ]
          },
          "metadata": {
            "tags": []
          },
          "execution_count": 7
        }
      ]
    },
    {
      "cell_type": "code",
      "metadata": {
        "colab": {
          "base_uri": "https://localhost:8080/",
          "height": 212
        },
        "id": "D0uB_h3dEIrv",
        "outputId": "c7242db6-9e30-4532-d742-f8c18462a89a"
      },
      "source": [
        "print('Total ordered products (prior): {}'.format(df_order_products_prior.shape[0]))\n",
        "df_order_products_prior.head()\n"
      ],
      "execution_count": null,
      "outputs": [
        {
          "output_type": "stream",
          "text": [
            "Total ordered products (prior): 32434489\n"
          ],
          "name": "stdout"
        },
        {
          "output_type": "execute_result",
          "data": {
            "text/html": [
              "<div>\n",
              "<style scoped>\n",
              "    .dataframe tbody tr th:only-of-type {\n",
              "        vertical-align: middle;\n",
              "    }\n",
              "\n",
              "    .dataframe tbody tr th {\n",
              "        vertical-align: top;\n",
              "    }\n",
              "\n",
              "    .dataframe thead th {\n",
              "        text-align: right;\n",
              "    }\n",
              "</style>\n",
              "<table border=\"1\" class=\"dataframe\">\n",
              "  <thead>\n",
              "    <tr style=\"text-align: right;\">\n",
              "      <th></th>\n",
              "      <th>order_id</th>\n",
              "      <th>product_id</th>\n",
              "      <th>add_to_cart_order</th>\n",
              "      <th>reordered</th>\n",
              "    </tr>\n",
              "  </thead>\n",
              "  <tbody>\n",
              "    <tr>\n",
              "      <th>0</th>\n",
              "      <td>2</td>\n",
              "      <td>33120</td>\n",
              "      <td>1</td>\n",
              "      <td>1</td>\n",
              "    </tr>\n",
              "    <tr>\n",
              "      <th>1</th>\n",
              "      <td>2</td>\n",
              "      <td>28985</td>\n",
              "      <td>2</td>\n",
              "      <td>1</td>\n",
              "    </tr>\n",
              "    <tr>\n",
              "      <th>2</th>\n",
              "      <td>2</td>\n",
              "      <td>9327</td>\n",
              "      <td>3</td>\n",
              "      <td>0</td>\n",
              "    </tr>\n",
              "    <tr>\n",
              "      <th>3</th>\n",
              "      <td>2</td>\n",
              "      <td>45918</td>\n",
              "      <td>4</td>\n",
              "      <td>1</td>\n",
              "    </tr>\n",
              "    <tr>\n",
              "      <th>4</th>\n",
              "      <td>2</td>\n",
              "      <td>30035</td>\n",
              "      <td>5</td>\n",
              "      <td>0</td>\n",
              "    </tr>\n",
              "  </tbody>\n",
              "</table>\n",
              "</div>"
            ],
            "text/plain": [
              "   order_id  product_id  add_to_cart_order  reordered\n",
              "0         2       33120                  1          1\n",
              "1         2       28985                  2          1\n",
              "2         2        9327                  3          0\n",
              "3         2       45918                  4          1\n",
              "4         2       30035                  5          0"
            ]
          },
          "metadata": {
            "tags": []
          },
          "execution_count": 13
        }
      ]
    },
    {
      "cell_type": "code",
      "metadata": {
        "colab": {
          "base_uri": "https://localhost:8080/",
          "height": 212
        },
        "id": "oh5SXM2REK3O",
        "outputId": "eba5cd5c-12ae-484e-a437-d6388739c775"
      },
      "source": [
        "print('Total ordered products (train): {}'.format(df_order_products_train.shape[0]))\n",
        "df_order_products_train.head()\n"
      ],
      "execution_count": null,
      "outputs": [
        {
          "output_type": "stream",
          "text": [
            "Total ordered products (train): 1384617\n"
          ],
          "name": "stdout"
        },
        {
          "output_type": "execute_result",
          "data": {
            "text/html": [
              "<div>\n",
              "<style scoped>\n",
              "    .dataframe tbody tr th:only-of-type {\n",
              "        vertical-align: middle;\n",
              "    }\n",
              "\n",
              "    .dataframe tbody tr th {\n",
              "        vertical-align: top;\n",
              "    }\n",
              "\n",
              "    .dataframe thead th {\n",
              "        text-align: right;\n",
              "    }\n",
              "</style>\n",
              "<table border=\"1\" class=\"dataframe\">\n",
              "  <thead>\n",
              "    <tr style=\"text-align: right;\">\n",
              "      <th></th>\n",
              "      <th>order_id</th>\n",
              "      <th>product_id</th>\n",
              "      <th>add_to_cart_order</th>\n",
              "      <th>reordered</th>\n",
              "    </tr>\n",
              "  </thead>\n",
              "  <tbody>\n",
              "    <tr>\n",
              "      <th>0</th>\n",
              "      <td>1</td>\n",
              "      <td>49302</td>\n",
              "      <td>1</td>\n",
              "      <td>1</td>\n",
              "    </tr>\n",
              "    <tr>\n",
              "      <th>1</th>\n",
              "      <td>1</td>\n",
              "      <td>11109</td>\n",
              "      <td>2</td>\n",
              "      <td>1</td>\n",
              "    </tr>\n",
              "    <tr>\n",
              "      <th>2</th>\n",
              "      <td>1</td>\n",
              "      <td>10246</td>\n",
              "      <td>3</td>\n",
              "      <td>0</td>\n",
              "    </tr>\n",
              "    <tr>\n",
              "      <th>3</th>\n",
              "      <td>1</td>\n",
              "      <td>49683</td>\n",
              "      <td>4</td>\n",
              "      <td>0</td>\n",
              "    </tr>\n",
              "    <tr>\n",
              "      <th>4</th>\n",
              "      <td>1</td>\n",
              "      <td>43633</td>\n",
              "      <td>5</td>\n",
              "      <td>1</td>\n",
              "    </tr>\n",
              "  </tbody>\n",
              "</table>\n",
              "</div>"
            ],
            "text/plain": [
              "   order_id  product_id  add_to_cart_order  reordered\n",
              "0         1       49302                  1          1\n",
              "1         1       11109                  2          1\n",
              "2         1       10246                  3          0\n",
              "3         1       49683                  4          0\n",
              "4         1       43633                  5          1"
            ]
          },
          "metadata": {
            "tags": []
          },
          "execution_count": 14
        }
      ]
    },
    {
      "cell_type": "code",
      "metadata": {
        "colab": {
          "base_uri": "https://localhost:8080/",
          "height": 212
        },
        "id": "IpI_AWhlENSq",
        "outputId": "75d10d12-244a-4379-db3d-80f2a731aa67"
      },
      "source": [
        "print('Orders(test): {}'.format(df_order_products_test.shape[0]))\n",
        "df_order_products_test.head()\n"
      ],
      "execution_count": null,
      "outputs": [
        {
          "output_type": "stream",
          "text": [
            "Orders(test): 75000\n"
          ],
          "name": "stdout"
        },
        {
          "output_type": "execute_result",
          "data": {
            "text/html": [
              "<div>\n",
              "<style scoped>\n",
              "    .dataframe tbody tr th:only-of-type {\n",
              "        vertical-align: middle;\n",
              "    }\n",
              "\n",
              "    .dataframe tbody tr th {\n",
              "        vertical-align: top;\n",
              "    }\n",
              "\n",
              "    .dataframe thead th {\n",
              "        text-align: right;\n",
              "    }\n",
              "</style>\n",
              "<table border=\"1\" class=\"dataframe\">\n",
              "  <thead>\n",
              "    <tr style=\"text-align: right;\">\n",
              "      <th></th>\n",
              "      <th>order_id</th>\n",
              "      <th>products</th>\n",
              "    </tr>\n",
              "  </thead>\n",
              "  <tbody>\n",
              "    <tr>\n",
              "      <th>0</th>\n",
              "      <td>17</td>\n",
              "      <td>39276 29259</td>\n",
              "    </tr>\n",
              "    <tr>\n",
              "      <th>1</th>\n",
              "      <td>34</td>\n",
              "      <td>39276 29259</td>\n",
              "    </tr>\n",
              "    <tr>\n",
              "      <th>2</th>\n",
              "      <td>137</td>\n",
              "      <td>39276 29259</td>\n",
              "    </tr>\n",
              "    <tr>\n",
              "      <th>3</th>\n",
              "      <td>182</td>\n",
              "      <td>39276 29259</td>\n",
              "    </tr>\n",
              "    <tr>\n",
              "      <th>4</th>\n",
              "      <td>257</td>\n",
              "      <td>39276 29259</td>\n",
              "    </tr>\n",
              "  </tbody>\n",
              "</table>\n",
              "</div>"
            ],
            "text/plain": [
              "   order_id     products\n",
              "0        17  39276 29259\n",
              "1        34  39276 29259\n",
              "2       137  39276 29259\n",
              "3       182  39276 29259\n",
              "4       257  39276 29259"
            ]
          },
          "metadata": {
            "tags": []
          },
          "execution_count": 15
        }
      ]
    },
    {
      "cell_type": "code",
      "metadata": {
        "colab": {
          "base_uri": "https://localhost:8080/",
          "height": 212
        },
        "id": "fT2-xlmREPc2",
        "outputId": "f369852a-3f3d-46d4-f1ba-e3a0c98d5b6e"
      },
      "source": [
        "\n",
        "print('Total orders: {}'.format(df_orders.shape[0]))\n",
        "df_orders.head()\n"
      ],
      "execution_count": null,
      "outputs": [
        {
          "output_type": "stream",
          "text": [
            "Total orders: 3421083\n"
          ],
          "name": "stdout"
        },
        {
          "output_type": "execute_result",
          "data": {
            "text/html": [
              "<div>\n",
              "<style scoped>\n",
              "    .dataframe tbody tr th:only-of-type {\n",
              "        vertical-align: middle;\n",
              "    }\n",
              "\n",
              "    .dataframe tbody tr th {\n",
              "        vertical-align: top;\n",
              "    }\n",
              "\n",
              "    .dataframe thead th {\n",
              "        text-align: right;\n",
              "    }\n",
              "</style>\n",
              "<table border=\"1\" class=\"dataframe\">\n",
              "  <thead>\n",
              "    <tr style=\"text-align: right;\">\n",
              "      <th></th>\n",
              "      <th>order_id</th>\n",
              "      <th>user_id</th>\n",
              "      <th>eval_set</th>\n",
              "      <th>order_number</th>\n",
              "      <th>order_dow</th>\n",
              "      <th>order_hour_of_day</th>\n",
              "      <th>days_since_prior_order</th>\n",
              "    </tr>\n",
              "  </thead>\n",
              "  <tbody>\n",
              "    <tr>\n",
              "      <th>0</th>\n",
              "      <td>2539329</td>\n",
              "      <td>1</td>\n",
              "      <td>prior</td>\n",
              "      <td>1</td>\n",
              "      <td>2</td>\n",
              "      <td>8</td>\n",
              "      <td>NaN</td>\n",
              "    </tr>\n",
              "    <tr>\n",
              "      <th>1</th>\n",
              "      <td>2398795</td>\n",
              "      <td>1</td>\n",
              "      <td>prior</td>\n",
              "      <td>2</td>\n",
              "      <td>3</td>\n",
              "      <td>7</td>\n",
              "      <td>15.0</td>\n",
              "    </tr>\n",
              "    <tr>\n",
              "      <th>2</th>\n",
              "      <td>473747</td>\n",
              "      <td>1</td>\n",
              "      <td>prior</td>\n",
              "      <td>3</td>\n",
              "      <td>3</td>\n",
              "      <td>12</td>\n",
              "      <td>21.0</td>\n",
              "    </tr>\n",
              "    <tr>\n",
              "      <th>3</th>\n",
              "      <td>2254736</td>\n",
              "      <td>1</td>\n",
              "      <td>prior</td>\n",
              "      <td>4</td>\n",
              "      <td>4</td>\n",
              "      <td>7</td>\n",
              "      <td>29.0</td>\n",
              "    </tr>\n",
              "    <tr>\n",
              "      <th>4</th>\n",
              "      <td>431534</td>\n",
              "      <td>1</td>\n",
              "      <td>prior</td>\n",
              "      <td>5</td>\n",
              "      <td>4</td>\n",
              "      <td>15</td>\n",
              "      <td>28.0</td>\n",
              "    </tr>\n",
              "  </tbody>\n",
              "</table>\n",
              "</div>"
            ],
            "text/plain": [
              "   order_id  user_id  ... order_hour_of_day  days_since_prior_order\n",
              "0   2539329        1  ...                 8                     NaN\n",
              "1   2398795        1  ...                 7                    15.0\n",
              "2    473747        1  ...                12                    21.0\n",
              "3   2254736        1  ...                 7                    29.0\n",
              "4    431534        1  ...                15                    28.0\n",
              "\n",
              "[5 rows x 7 columns]"
            ]
          },
          "metadata": {
            "tags": []
          },
          "execution_count": 16
        }
      ]
    },
    {
      "cell_type": "code",
      "metadata": {
        "colab": {
          "base_uri": "https://localhost:8080/",
          "height": 284
        },
        "id": "lR5xH6jPEf5f",
        "outputId": "675c8b02-f393-418d-b0e0-a1462018d53e"
      },
      "source": [
        "df_orders.describe()\n"
      ],
      "execution_count": null,
      "outputs": [
        {
          "output_type": "execute_result",
          "data": {
            "text/html": [
              "<div>\n",
              "<style scoped>\n",
              "    .dataframe tbody tr th:only-of-type {\n",
              "        vertical-align: middle;\n",
              "    }\n",
              "\n",
              "    .dataframe tbody tr th {\n",
              "        vertical-align: top;\n",
              "    }\n",
              "\n",
              "    .dataframe thead th {\n",
              "        text-align: right;\n",
              "    }\n",
              "</style>\n",
              "<table border=\"1\" class=\"dataframe\">\n",
              "  <thead>\n",
              "    <tr style=\"text-align: right;\">\n",
              "      <th></th>\n",
              "      <th>order_id</th>\n",
              "      <th>user_id</th>\n",
              "      <th>order_number</th>\n",
              "      <th>order_dow</th>\n",
              "      <th>order_hour_of_day</th>\n",
              "      <th>days_since_prior_order</th>\n",
              "    </tr>\n",
              "  </thead>\n",
              "  <tbody>\n",
              "    <tr>\n",
              "      <th>count</th>\n",
              "      <td>3.421083e+06</td>\n",
              "      <td>3.421083e+06</td>\n",
              "      <td>3.421083e+06</td>\n",
              "      <td>3.421083e+06</td>\n",
              "      <td>3.421083e+06</td>\n",
              "      <td>3.214874e+06</td>\n",
              "    </tr>\n",
              "    <tr>\n",
              "      <th>mean</th>\n",
              "      <td>1.710542e+06</td>\n",
              "      <td>1.029782e+05</td>\n",
              "      <td>1.715486e+01</td>\n",
              "      <td>2.776219e+00</td>\n",
              "      <td>1.345202e+01</td>\n",
              "      <td>1.111484e+01</td>\n",
              "    </tr>\n",
              "    <tr>\n",
              "      <th>std</th>\n",
              "      <td>9.875817e+05</td>\n",
              "      <td>5.953372e+04</td>\n",
              "      <td>1.773316e+01</td>\n",
              "      <td>2.046829e+00</td>\n",
              "      <td>4.226088e+00</td>\n",
              "      <td>9.206737e+00</td>\n",
              "    </tr>\n",
              "    <tr>\n",
              "      <th>min</th>\n",
              "      <td>1.000000e+00</td>\n",
              "      <td>1.000000e+00</td>\n",
              "      <td>1.000000e+00</td>\n",
              "      <td>0.000000e+00</td>\n",
              "      <td>0.000000e+00</td>\n",
              "      <td>0.000000e+00</td>\n",
              "    </tr>\n",
              "    <tr>\n",
              "      <th>25%</th>\n",
              "      <td>8.552715e+05</td>\n",
              "      <td>5.139400e+04</td>\n",
              "      <td>5.000000e+00</td>\n",
              "      <td>1.000000e+00</td>\n",
              "      <td>1.000000e+01</td>\n",
              "      <td>4.000000e+00</td>\n",
              "    </tr>\n",
              "    <tr>\n",
              "      <th>50%</th>\n",
              "      <td>1.710542e+06</td>\n",
              "      <td>1.026890e+05</td>\n",
              "      <td>1.100000e+01</td>\n",
              "      <td>3.000000e+00</td>\n",
              "      <td>1.300000e+01</td>\n",
              "      <td>7.000000e+00</td>\n",
              "    </tr>\n",
              "    <tr>\n",
              "      <th>75%</th>\n",
              "      <td>2.565812e+06</td>\n",
              "      <td>1.543850e+05</td>\n",
              "      <td>2.300000e+01</td>\n",
              "      <td>5.000000e+00</td>\n",
              "      <td>1.600000e+01</td>\n",
              "      <td>1.500000e+01</td>\n",
              "    </tr>\n",
              "    <tr>\n",
              "      <th>max</th>\n",
              "      <td>3.421083e+06</td>\n",
              "      <td>2.062090e+05</td>\n",
              "      <td>1.000000e+02</td>\n",
              "      <td>6.000000e+00</td>\n",
              "      <td>2.300000e+01</td>\n",
              "      <td>3.000000e+01</td>\n",
              "    </tr>\n",
              "  </tbody>\n",
              "</table>\n",
              "</div>"
            ],
            "text/plain": [
              "           order_id       user_id  ...  order_hour_of_day  days_since_prior_order\n",
              "count  3.421083e+06  3.421083e+06  ...       3.421083e+06            3.214874e+06\n",
              "mean   1.710542e+06  1.029782e+05  ...       1.345202e+01            1.111484e+01\n",
              "std    9.875817e+05  5.953372e+04  ...       4.226088e+00            9.206737e+00\n",
              "min    1.000000e+00  1.000000e+00  ...       0.000000e+00            0.000000e+00\n",
              "25%    8.552715e+05  5.139400e+04  ...       1.000000e+01            4.000000e+00\n",
              "50%    1.710542e+06  1.026890e+05  ...       1.300000e+01            7.000000e+00\n",
              "75%    2.565812e+06  1.543850e+05  ...       1.600000e+01            1.500000e+01\n",
              "max    3.421083e+06  2.062090e+05  ...       2.300000e+01            3.000000e+01\n",
              "\n",
              "[8 rows x 6 columns]"
            ]
          },
          "metadata": {
            "tags": []
          },
          "execution_count": 17
        }
      ]
    },
    {
      "cell_type": "code",
      "metadata": {
        "colab": {
          "base_uri": "https://localhost:8080/",
          "height": 136
        },
        "id": "eJ-9qSKMEnG6",
        "outputId": "f81877b9-4177-4194-f5ab-eb87b2f9810f"
      },
      "source": [
        "# User split into train and test\n",
        "df_orders.groupby(\"eval_set\").nunique().user_id.reset_index()\n",
        "\n"
      ],
      "execution_count": null,
      "outputs": [
        {
          "output_type": "execute_result",
          "data": {
            "text/html": [
              "<div>\n",
              "<style scoped>\n",
              "    .dataframe tbody tr th:only-of-type {\n",
              "        vertical-align: middle;\n",
              "    }\n",
              "\n",
              "    .dataframe tbody tr th {\n",
              "        vertical-align: top;\n",
              "    }\n",
              "\n",
              "    .dataframe thead th {\n",
              "        text-align: right;\n",
              "    }\n",
              "</style>\n",
              "<table border=\"1\" class=\"dataframe\">\n",
              "  <thead>\n",
              "    <tr style=\"text-align: right;\">\n",
              "      <th></th>\n",
              "      <th>eval_set</th>\n",
              "      <th>user_id</th>\n",
              "    </tr>\n",
              "  </thead>\n",
              "  <tbody>\n",
              "    <tr>\n",
              "      <th>0</th>\n",
              "      <td>prior</td>\n",
              "      <td>206209</td>\n",
              "    </tr>\n",
              "    <tr>\n",
              "      <th>1</th>\n",
              "      <td>test</td>\n",
              "      <td>75000</td>\n",
              "    </tr>\n",
              "    <tr>\n",
              "      <th>2</th>\n",
              "      <td>train</td>\n",
              "      <td>131209</td>\n",
              "    </tr>\n",
              "  </tbody>\n",
              "</table>\n",
              "</div>"
            ],
            "text/plain": [
              "  eval_set  user_id\n",
              "0    prior   206209\n",
              "1     test    75000\n",
              "2    train   131209"
            ]
          },
          "metadata": {
            "tags": []
          },
          "execution_count": 18
        }
      ]
    },
    {
      "cell_type": "markdown",
      "metadata": {
        "id": "khEwXMWnF0Je"
      },
      "source": [
        "## EDA"
      ]
    },
    {
      "cell_type": "code",
      "metadata": {
        "colab": {
          "base_uri": "https://localhost:8080/",
          "height": 565
        },
        "id": "kBF6VjNsEtte",
        "outputId": "6d263850-288c-4d06-e44d-0cd0337022fe"
      },
      "source": [
        "user_order_count = df_orders.groupby(\"user_id\")[\"order_number\"].aggregate(max).reset_index().order_number.value_counts()\n",
        "\n",
        "plt.figure(figsize=(12,8))\n",
        "sns.barplot(user_order_count.index, user_order_count.values, color=colors[0])\n",
        "plt.ylabel(\"Frequency\", fontsize=15)\n",
        "# Add title\n",
        "plt.xticks(rotation=\"vertical\")\n",
        "plt.xlabel(\"Orders per user\", fontsize=15)\n",
        "plt.show()\n"
      ],
      "execution_count": null,
      "outputs": [
        {
          "output_type": "stream",
          "text": [
            "/usr/local/lib/python3.7/dist-packages/seaborn/_decorators.py:43: FutureWarning: Pass the following variables as keyword args: x, y. From version 0.12, the only valid positional argument will be `data`, and passing other arguments without an explicit keyword will result in an error or misinterpretation.\n",
            "  FutureWarning\n"
          ],
          "name": "stderr"
        },
        {
          "output_type": "display_data",
          "data": {
            "image/png": "[encoded data removed]",
            "text/plain": [
              "<Figure size 864x576 with 1 Axes>"
            ]
          },
          "metadata": {
            "tags": [],
            "needs_background": "light"
          }
        }
      ]
    },
    {
      "cell_type": "code",
      "metadata": {
        "colab": {
          "base_uri": "https://localhost:8080/",
          "height": 502
        },
        "id": "kAHCZD9EFAp3",
        "outputId": "432d8fdd-1f5b-493f-cf10-f5876026dccf"
      },
      "source": [
        "# Prior set\n",
        "order_product_count = df_order_products_prior.groupby(\"order_id\")[\"add_to_cart_order\"].aggregate(max).reset_index().add_to_cart_order.value_counts()\n",
        "\n",
        "plt.figure(figsize=(12,8))\n",
        "plt.bar(order_product_count.index, order_product_count.values, color=colors[1])\n",
        "plt.ylabel('Frequency', fontsize=15)\n",
        "# Add title\n",
        "plt.xlabel('Products per order', fontsize=15)\n",
        "plt.show()\n"
      ],
      "execution_count": null,
      "outputs": [
        {
          "output_type": "display_data",
          "data": {
            "image/png": "[encoded data removed]",
            "text/plain": [
              "<Figure size 864x576 with 1 Axes>"
            ]
          },
          "metadata": {
            "tags": [],
            "needs_background": "light"
          }
        }
      ]
    },
    {
      "cell_type": "code",
      "metadata": {
        "colab": {
          "base_uri": "https://localhost:8080/",
          "height": 570
        },
        "id": "OR30asM1E81s",
        "outputId": "9850b829-ea35-4046-ef9c-3b0ceb001b7e"
      },
      "source": [
        "# Train set\n",
        "order_product_count = df_order_products_train.groupby(\"order_id\")[\"add_to_cart_order\"].aggregate(max).reset_index().add_to_cart_order.value_counts()\n",
        "\n",
        "plt.figure(figsize=(12,8))\n",
        "sns.barplot(order_product_count.index, order_product_count.values, color=colors[0])\n",
        "plt.ylabel('Frequency')\n",
        "plt.xticks(rotation=\"vertical\")\n",
        "plt.title(\"Frequency distribution of products per order\")\n",
        "plt.xlabel('Products per order')\n",
        "plt.show()\n"
      ],
      "execution_count": null,
      "outputs": [
        {
          "output_type": "stream",
          "text": [
            "/usr/local/lib/python3.7/dist-packages/seaborn/_decorators.py:43: FutureWarning: Pass the following variables as keyword args: x, y. From version 0.12, the only valid positional argument will be `data`, and passing other arguments without an explicit keyword will result in an error or misinterpretation.\n",
            "  FutureWarning\n"
          ],
          "name": "stderr"
        },
        {
          "output_type": "display_data",
          "data": {
            "image/png": "[encoded data removed]",
            "text/plain": [
              "<Figure size 864x576 with 1 Axes>"
            ]
          },
          "metadata": {
            "tags": [],
            "needs_background": "light"
          }
        }
      ]
    },
    {
      "cell_type": "code",
      "metadata": {
        "colab": {
          "base_uri": "https://localhost:8080/",
          "height": 513
        },
        "id": "R0N_y_fqE8yS",
        "outputId": "2ffbe56c-5185-4349-890a-44bf08e29d4f"
      },
      "source": [
        "plt.figure(figsize=(12,8))\n",
        "sns.countplot(x=\"order_dow\", data=df_orders, color=colors[2])\n",
        "plt.ylabel(\"Frquency\")\n",
        "plt.xlabel(\"Day of the week\")\n",
        "plt.title(\"Frequency distribution of orders per day of the week\")\n",
        "plt.show()\n"
      ],
      "execution_count": null,
      "outputs": [
        {
          "output_type": "display_data",
          "data": {
            "image/png": "[encoded data removed]",
            "text/plain": [
              "<Figure size 864x576 with 1 Axes>"
            ]
          },
          "metadata": {
            "tags": [],
            "needs_background": "light"
          }
        }
      ]
    },
    {
      "cell_type": "code",
      "metadata": {
        "colab": {
          "base_uri": "https://localhost:8080/",
          "height": 513
        },
        "id": "iuHC7JcUE8vt",
        "outputId": "b09f7cb0-e53f-47ed-a780-147a62f09a32"
      },
      "source": [
        "plt.figure(figsize=(12,8))\n",
        "sns.countplot(x=\"order_hour_of_day\", data=df_orders, color=colors[5])\n",
        "plt.ylabel(\"Frequency\")\n",
        "plt.xlabel(\"Time of day\")\n",
        "plt.title(\"Frequency distribution of orders per time of day\")\n",
        "plt.show()\n"
      ],
      "execution_count": null,
      "outputs": [
        {
          "output_type": "display_data",
          "data": {
            "image/png": "[encoded data removed]",
            "text/plain": [
              "<Figure size 864x576 with 1 Axes>"
            ]
          },
          "metadata": {
            "tags": [],
            "needs_background": "light"
          }
        }
      ]
    },
    {
      "cell_type": "code",
      "metadata": {
        "colab": {
          "base_uri": "https://localhost:8080/",
          "height": 525
        },
        "id": "O2QAY4osE8tL",
        "outputId": "3db6032e-2d43-42b2-8275-dc40340bbe32"
      },
      "source": [
        "plt.figure(figsize=(12, 8))\n",
        "sns.countplot(x=\"days_since_prior_order\", data=df_orders, color=colors[3])\n",
        "plt.ylabel(\"Frequency\")\n",
        "plt.xlabel('Days since prior order')\n",
        "plt.xticks(rotation=\"vertical\")\n",
        "plt.title(\"Frequency distribution of days since prior order\")\n",
        "plt.show()\n"
      ],
      "execution_count": null,
      "outputs": [
        {
          "output_type": "display_data",
          "data": {
            "image/png": "[encoded data removed]",
            "text/plain": [
              "<Figure size 864x576 with 1 Axes>"
            ]
          },
          "metadata": {
            "tags": [],
            "needs_background": "light"
          }
        }
      ]
    },
    {
      "cell_type": "code",
      "metadata": {
        "id": "YEzBFcBCFQ02"
      },
      "source": [
        "# Merge Prior orders, Product, Aisle and Department \n",
        "df_order_products_prior_merged = pd.merge(\n",
        "                                    pd.merge(pd.merge(df_order_products_prior, df_products, on=\"product_id\", how=\"left\"), \n",
        "                                        df_aisles, \n",
        "                                        on=\"aisle_id\", \n",
        "                                        how=\"left\"), \n",
        "                                    df_departments, \n",
        "                                    on=\"department_id\", \n",
        "                                    how=\"left\")\n"
      ],
      "execution_count": null,
      "outputs": []
    },
    {
      "cell_type": "code",
      "metadata": {
        "colab": {
          "base_uri": "https://localhost:8080/"
        },
        "id": "BcW4HP-OFQxX",
        "outputId": "dece2cf9-abab-4933-d6eb-886c494552dc"
      },
      "source": [
        "df_order_products_prior_merged.shape\n"
      ],
      "execution_count": null,
      "outputs": [
        {
          "output_type": "execute_result",
          "data": {
            "text/plain": [
              "(32434489, 9)"
            ]
          },
          "metadata": {
            "tags": []
          },
          "execution_count": 11
        }
      ]
    },
    {
      "cell_type": "code",
      "metadata": {
        "id": "iC6cujh1FQvJ"
      },
      "source": [
        "# N = Top X\n",
        "\n",
        "N = 20\n"
      ],
      "execution_count": null,
      "outputs": []
    },
    {
      "cell_type": "code",
      "metadata": {
        "colab": {
          "base_uri": "https://localhost:8080/",
          "height": 688
        },
        "id": "HkmPYuQhFQsn",
        "outputId": "b2bfc074-3337-4e9b-c566-7c8cd76dd25b"
      },
      "source": [
        "# Top N Aisles\n",
        "top_aisles = df_order_products_prior_merged[\"aisle\"].value_counts().head(N)\n",
        "\n",
        "plt.figure(figsize=(12,8))\n",
        "sns.barplot(top_aisles.index, top_aisles.values, alpha=0.8, color=colors[3])\n",
        "plt.ylabel(\"Frequency\")\n",
        "plt.xticks(rotation=\"vertical\")\n",
        "plt.title('Top {} Aisles'.format(N))\n",
        "plt.show()\n"
      ],
      "execution_count": null,
      "outputs": [
        {
          "output_type": "stream",
          "text": [
            "/usr/local/lib/python3.7/dist-packages/seaborn/_decorators.py:43: FutureWarning: Pass the following variables as keyword args: x, y. From version 0.12, the only valid positional argument will be `data`, and passing other arguments without an explicit keyword will result in an error or misinterpretation.\n",
            "  FutureWarning\n"
          ],
          "name": "stderr"
        },
        {
          "output_type": "display_data",
          "data": {
            "image/png": "[encoded data removed]",
            "text/plain": [
              "<Figure size 864x576 with 1 Axes>"
            ]
          },
          "metadata": {
            "tags": [],
            "needs_background": "light"
          }
        }
      ]
    },
    {
      "cell_type": "code",
      "metadata": {
        "colab": {
          "base_uri": "https://localhost:8080/",
          "height": 625
        },
        "id": "acLgwJt2FQqI",
        "outputId": "7514772e-5d11-473b-a79f-d180810a52b3"
      },
      "source": [
        "# Top N Departments\n",
        "top_departments = df_order_products_prior_merged[\"department\"].value_counts().head(N)\n",
        "\n",
        "plt.figure(figsize=(10,8))\n",
        "sns.barplot(top_departments.index, top_departments.values, alpha=0.8, color=colors[2])\n",
        "plt.ylabel('Frequency')\n",
        "plt.xticks(rotation=\"vertical\")\n",
        "plt.title('Top {} Departments'.format(N), fontsize=15)\n",
        "plt.show()\n"
      ],
      "execution_count": null,
      "outputs": [
        {
          "output_type": "stream",
          "text": [
            "/usr/local/lib/python3.7/dist-packages/seaborn/_decorators.py:43: FutureWarning: Pass the following variables as keyword args: x, y. From version 0.12, the only valid positional argument will be `data`, and passing other arguments without an explicit keyword will result in an error or misinterpretation.\n",
            "  FutureWarning\n"
          ],
          "name": "stderr"
        },
        {
          "output_type": "display_data",
          "data": {
            "image/png": "[encoded data removed]",
            "text/plain": [
              "<Figure size 720x576 with 1 Axes>"
            ]
          },
          "metadata": {
            "tags": [],
            "needs_background": "light"
          }
        }
      ]
    },
    {
      "cell_type": "code",
      "metadata": {
        "colab": {
          "base_uri": "https://localhost:8080/",
          "height": 672
        },
        "id": "inUd-zI1FQnl",
        "outputId": "f30ab2f1-2eaf-4a73-f0b0-00ddce07aecc"
      },
      "source": [
        "# Top N products by frequency\n",
        "top_products = df_order_products_prior_merged[\"product_name\"].value_counts().head(N)\n",
        "\n",
        "plt.figure(figsize=(12,8))\n",
        "sns.barplot(top_products.index, top_products.values, alpha=0.8, color=colors[1])\n",
        "plt.ylabel('Frequency')\n",
        "plt.xticks(rotation=\"vertical\")\n",
        "plt.title('Top {} products'.format(N))\n",
        "plt.show()\n"
      ],
      "execution_count": null,
      "outputs": [
        {
          "output_type": "stream",
          "text": [
            "/usr/local/lib/python3.7/dist-packages/seaborn/_decorators.py:43: FutureWarning: Pass the following variables as keyword args: x, y. From version 0.12, the only valid positional argument will be `data`, and passing other arguments without an explicit keyword will result in an error or misinterpretation.\n",
            "  FutureWarning\n"
          ],
          "name": "stderr"
        },
        {
          "output_type": "display_data",
          "data": {
            "image/png": "[encoded data removed]",
            "text/plain": [
              "<Figure size 864x576 with 1 Axes>"
            ]
          },
          "metadata": {
            "tags": [],
            "needs_background": "light"
          }
        }
      ]
    },
    {
      "cell_type": "markdown",
      "metadata": {
        "id": "_6pHgpscxJ7Z"
      },
      "source": [
        "##Colaborative Filtering"
      ]
    },
    {
      "cell_type": "markdown",
      "metadata": {
        "id": "QNzLWLdhwF3F"
      },
      "source": [
        "![c.png](data:image/png;base64,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)"
      ]
    },
    {
      "cell_type": "markdown",
      "metadata": {
        "id": "aWiGDfgmmiBU"
      },
      "source": [
        "##Model Based CF\n",
        "In this approach, models are developed using different machine learning algorithms to recommend items to users. There are many model-based CF algorithms, like Neural Networks, Bayesian Networks, Clustering Techniques, and Latent Factor Models such as Singular Value Decomposition (SVD) and Probabilistic Latent Semantic Analysis."
      ]
    },
    {
      "cell_type": "markdown",
      "metadata": {
        "id": "MmIQNmNjF5dV"
      },
      "source": [
        "## Making prior dataset"
      ]
    },
    {
      "cell_type": "code",
      "metadata": {
        "colab": {
          "base_uri": "https://localhost:8080/"
        },
        "id": "sATRVSRIJSZc",
        "outputId": "114f546a-4fe3-4089-9ac9-a4ee9bb2b3c1"
      },
      "source": [
        "!pip install implicit"
      ],
      "execution_count": null,
      "outputs": [
        {
          "output_type": "stream",
          "text": [
            "Collecting implicit\n",
            "\u001b[?25l  Downloading https://files.pythonhosted.org/packages/bc/07/c0121884722d16e2c5beeb815f6b84b41cbf22e738e4075f1475be2791bc/implicit-0.4.4.tar.gz (1.1MB)\n",
            "\u001b[K     |████████████████████████████████| 1.1MB 2.9MB/s \n",
            "\u001b[?25hRequirement already satisfied: numpy in /usr/local/lib/python3.7/dist-packages (from implicit) (1.19.5)\n",
            "Requirement already satisfied: scipy>=0.16 in /usr/local/lib/python3.7/dist-packages (from implicit) (1.4.1)\n",
            "Requirement already satisfied: tqdm>=4.27 in /usr/local/lib/python3.7/dist-packages (from implicit) (4.41.1)\n",
            "Building wheels for collected packages: implicit\n",
            "  Building wheel for implicit (setup.py) ... \u001b[?25l\u001b[?25hdone\n",
            "  Created wheel for implicit: filename=implicit-0.4.4-cp37-cp37m-linux_x86_64.whl size=3406382 sha256=76385e9cc7799c2762be6c6a18f450aa90fc8614722aa0a837366e570fd3789c\n",
            "  Stored in directory: /root/.cache/pip/wheels/bf/d4/ec/fd4f622fcbefb7521f149905295b2c26adecb23af38aa28217\n",
            "Successfully built implicit\n",
            "Installing collected packages: implicit\n",
            "Successfully installed implicit-0.4.4\n"
          ],
          "name": "stdout"
        }
      ]
    },
    {
      "cell_type": "code",
      "metadata": {
        "id": "0H2_DVceAU6R"
      },
      "source": [
        "\n",
        "from implicit.nearest_neighbours import tfidf_weight\n",
        "from scipy.sparse import coo_matrix, csr_matrix\n",
        "from sklearn.metrics.pairwise import cosine_similarity\n",
        "from datetime import datetime\n",
        "from pathlib import Path\n",
        "from numpy import bincount, log, sqrt\n",
        "\n",
        "import scipy.sparse as sparse\n",
        "import implicit\n",
        "import pickle\n",
        "import time\n",
        "import heapq"
      ],
      "execution_count": null,
      "outputs": []
    },
    {
      "cell_type": "code",
      "metadata": {
        "id": "XSFfP7p5_dwG"
      },
      "source": [
        "### Helper Functions\n",
        "\n",
        "def sparsity(matrix):\n",
        "    \"\"\"\n",
        "    Given a matrix, returns its sparsity\n",
        "    \"\"\"\n",
        "    total_size = matrix.shape[0] * matrix.shape[1]\n",
        "    actual_size = matrix.size\n",
        "    sparsity = (1 - (actual_size / total_size)) * 100\n",
        "    return(sparsity)\n",
        "    \n",
        "\n",
        "\n",
        "def get_k_popular(k, df_merged_order_products_prior):\n",
        "    \"\"\"\n",
        "    Returns the `k` most popular products based on purchase count in the dataset\n",
        "    \"\"\"\n",
        "    popular_products = list(df_merged_order_products_prior[\"product_id\"].value_counts().head(k).index)\n",
        "    return popular_products\n",
        "\n",
        "\n",
        "def make_prior_data():\n",
        "    \"\"\"\n",
        "    Generates the prior dataset including prior_user_products and product_frequency\n",
        "    \"\"\"\n",
        "    # Read prior order csv\n",
        "    df_order_products_prior = pd.read_csv(\"/content/drive/MyDrive/Almabetter/Cohort Nilgiri/Kaggle/order_products__prior.csv\")\n",
        "    current_order_user_df = df_orders.loc[(df_orders.eval_set == \"prior\")].reset_index()\n",
        "    current_order_user_df = current_order_user_df[[\"order_id\", \"user_id\"]]\n",
        "\n",
        "    assert len(current_order_user_df[\"order_id\"].unique()) == len(df_order_products_prior[\"order_id\"].unique())\n",
        "\n",
        "    # Group product_id for each order into products\n",
        "    df_order_products_prior = df_order_products_prior[[\"order_id\", \"product_id\"]]\n",
        "    df_product_frequency = df_order_products_prior['product_id'].value_counts()\n",
        "    df_order_products_prior = df_order_products_prior.groupby(\"order_id\")[\"product_id\"].apply(list).reset_index().rename(columns={\"product_id\": \"products\"})\n",
        "    \n",
        "    \n",
        "    assert current_order_user_df.size == df_order_products_prior.size\n",
        "\n",
        "    df_prior_user_products = pd.merge(current_order_user_df, df_order_products_prior, on=\"order_id\")\n",
        "    df_prior_user_products = df_prior_user_products[[\"user_id\", \"products\"]]\n",
        "    df_prior_user_products = df_prior_user_products.groupby(\"user_id\")[\"products\"].agg(sum).reset_index()\n",
        "\n",
        "    return df_prior_user_products, df_product_frequency\n",
        "\n",
        "\n",
        "def make_test_data(test_data_path, df_orders, df_order_products_train):\n",
        "    \"\"\"\n",
        "    Generates the test dataset and saves it to disk at the given path\n",
        "    \"\"\"\n",
        "    start = time.time()\n",
        "    print(\"Creating test data ...\")\n",
        "\n",
        "    # Read train csv\n",
        "    df_order_user_current = df_orders.loc[(df_orders.eval_set == \"train\")].reset_index()\n",
        "    df_order_user_current = df_order_user_current[[\"order_id\", \"user_id\"]]\n",
        "    \n",
        "    # Sanity check #1: `current_order_user_df` and `df_order_products_train` should have the same number of \n",
        "    # unique order ids\n",
        "    assert len(df_order_user_current[\"order_id\"].unique()) == len(df_order_products_train[\"order_id\"].unique())\n",
        "\n",
        "    # Convert train dataframe to a similar format\n",
        "    df_order_products_test = df_order_products_train[[\"order_id\", \"product_id\"]]\n",
        "    df_order_products_test = df_order_products_test.groupby(\"order_id\")[\"product_id\"].apply(list).reset_index().rename(columns={\"product_id\": \"products\"})\n",
        "\n",
        "    # Sanity check #2: `df_order_products_test` and `df_order_user_current` should have the same number of \n",
        "    # records before attempting to merge them\n",
        "    assert df_order_products_test.size == df_order_user_current.size\n",
        "\n",
        "    # Merge on order id\n",
        "    df_user_products_test = pd.merge(df_order_user_current, df_order_products_test, on=\"order_id\")\n",
        "    df_user_products_test = df_user_products_test[[\"user_id\", \"products\"]]\n",
        "\n",
        "    # Write to disk\n",
        "    df_user_products_test.to_csv(test_data_path, index_label=False)\n",
        "    \n",
        "    print(\"Completed in {:.2f}s\".format(time.time() - start))\n",
        "\n",
        "\n",
        "def save_data_to_disk(dataframe, df_name):\n",
        "    \"\"\"\n",
        "    Save the data to disk\n",
        "    \"\"\"\n",
        "    filepath = \"/content/drive/MyDrive/Almabetter/Cohort Nilgiri/Kaggle/df_{}.pkl\".format(df_name)\n",
        "    dataframe.to_pickle(filepath)\n"
      ],
      "execution_count": null,
      "outputs": []
    },
    {
      "cell_type": "code",
      "metadata": {
        "id": "O_gY8zCaH26W"
      },
      "source": [
        "# Make prior data\n",
        "# Running time: 3 min\n",
        "#df_prior_user_products, df_product_frequency = make_prior_data()\n",
        "\n",
        "# save data to disk, running time : 2 mi\n",
        "#save_data_to_disk(df_prior_user_products, \"user_products\")\n",
        "#save_data_to_disk(df_product_frequency, \"product_frequency\")"
      ],
      "execution_count": null,
      "outputs": []
    },
    {
      "cell_type": "code",
      "metadata": {
        "id": "auJOMNqFOgt1"
      },
      "source": [
        "# Read user_products and product_frequency from the disk\n",
        "df_prior_user_products = pd.read_pickle(\"/content/drive/MyDrive/Almabetter/Cohort Nilgiri/Kaggle/df_user_products.pkl\")\n",
        "df_product_frequency = pd.read_pickle(\"/content/drive/MyDrive/Almabetter/Cohort Nilgiri/Kaggle/df_product_frequency.pkl\")\n",
        "df_product_frequency = pd.DataFrame(df_product_frequency).rename(columns={\"product_id\": \"frequency\"})\n"
      ],
      "execution_count": null,
      "outputs": []
    },
    {
      "cell_type": "code",
      "metadata": {
        "colab": {
          "base_uri": "https://localhost:8080/",
          "height": 195
        },
        "id": "0e4hHCNfwEUd",
        "outputId": "f4cdbc10-0da3-41e0-b6f2-f6ce323a6020"
      },
      "source": [
        "df_prior_user_products.head()"
      ],
      "execution_count": null,
      "outputs": [
        {
          "output_type": "execute_result",
          "data": {
            "text/html": [
              "<div>\n",
              "<style scoped>\n",
              "    .dataframe tbody tr th:only-of-type {\n",
              "        vertical-align: middle;\n",
              "    }\n",
              "\n",
              "    .dataframe tbody tr th {\n",
              "        vertical-align: top;\n",
              "    }\n",
              "\n",
              "    .dataframe thead th {\n",
              "        text-align: right;\n",
              "    }\n",
              "</style>\n",
              "<table border=\"1\" class=\"dataframe\">\n",
              "  <thead>\n",
              "    <tr style=\"text-align: right;\">\n",
              "      <th></th>\n",
              "      <th>user_id</th>\n",
              "      <th>products</th>\n",
              "    </tr>\n",
              "  </thead>\n",
              "  <tbody>\n",
              "    <tr>\n",
              "      <th>0</th>\n",
              "      <td>1</td>\n",
              "      <td>[196, 14084, 12427, 26088, 26405, 196, 10258, ...</td>\n",
              "    </tr>\n",
              "    <tr>\n",
              "      <th>1</th>\n",
              "      <td>2</td>\n",
              "      <td>[32792, 47766, 20574, 12000, 48110, 22474, 165...</td>\n",
              "    </tr>\n",
              "    <tr>\n",
              "      <th>2</th>\n",
              "      <td>3</td>\n",
              "      <td>[9387, 17668, 15143, 16797, 39190, 47766, 2190...</td>\n",
              "    </tr>\n",
              "    <tr>\n",
              "      <th>3</th>\n",
              "      <td>4</td>\n",
              "      <td>[36606, 7350, 35469, 2707, 42329, 7160, 1200, ...</td>\n",
              "    </tr>\n",
              "    <tr>\n",
              "      <th>4</th>\n",
              "      <td>5</td>\n",
              "      <td>[15349, 21413, 48775, 28289, 8518, 11777, 3171...</td>\n",
              "    </tr>\n",
              "  </tbody>\n",
              "</table>\n",
              "</div>"
            ],
            "text/plain": [
              "   user_id                                           products\n",
              "0        1  [196, 14084, 12427, 26088, 26405, 196, 10258, ...\n",
              "1        2  [32792, 47766, 20574, 12000, 48110, 22474, 165...\n",
              "2        3  [9387, 17668, 15143, 16797, 39190, 47766, 2190...\n",
              "3        4  [36606, 7350, 35469, 2707, 42329, 7160, 1200, ...\n",
              "4        5  [15349, 21413, 48775, 28289, 8518, 11777, 3171..."
            ]
          },
          "metadata": {
            "tags": []
          },
          "execution_count": 37
        }
      ]
    },
    {
      "cell_type": "code",
      "metadata": {
        "id": "Osp_oQ5NO4Tz"
      },
      "source": [
        "# Make test data\n",
        "REBUILD_TEST_DATA = False\n",
        "test_data_path = \"/content/drive/MyDrive/Almabetter/Cohort Nilgiri/Kaggle/user_products__test.csv\"\n",
        "if REBUILD_TEST_DATA or not Path(test_data_path).is_file():\n",
        "    make_test_data(test_data_path, df_orders, df_order_products_train)\n",
        "df_user_products_test = pd.read_csv(test_data_path)\n"
      ],
      "execution_count": null,
      "outputs": []
    },
    {
      "cell_type": "markdown",
      "metadata": {
        "id": "TUUIicEXTdmo"
      },
      "source": [
        "## Utility Matrix"
      ]
    },
    {
      "cell_type": "code",
      "metadata": {
        "id": "SJM2ZKlTR2WC"
      },
      "source": [
        "def get_user_product_prior_df(filepath, df_orders, df_order_products_prior):\n",
        "    \"\"\"\n",
        "    Generates a dataframe of users and their prior products purchases, and writes it to disk at the given path\n",
        "    \"\"\"\n",
        "    start = time.time()\n",
        "    print(\"Creating prior user product data frame ...\")\n",
        "    \n",
        "    # Consider ony \"prior\" orders and remove all columns except `user_id` from `df_orders`\n",
        "    df_order_user_prior = df_orders.loc[df_orders.eval_set == \"prior\"]\n",
        "    df_order_user_prior = df_order_user_prior[[\"order_id\", \"user_id\"]]\n",
        "    \n",
        "    # Remove all columns except order_id and user_id from df_orders and \n",
        "    # merge the above on `order_id` and remove `order_id`\n",
        "    df_merged = pd.merge(df_order_user_prior, df_order_products_prior[[\"order_id\", \"product_id\"]], on=\"order_id\")\n",
        "    df_user_product_prior = df_merged[[\"user_id\", \"product_id\"]]\n",
        "    df_user_product_prior = df_user_product_prior.groupby([\"user_id\", \"product_id\"]).size().reset_index().rename(columns={0:\"quantity\"})\n",
        "    \n",
        "    # Write to disk\n",
        "    df_user_product_prior.to_csv(filepath, index_label=False)\n",
        "    \n",
        "\n",
        "    print(\"Completed in {:.2f}s\".format(time.time() - start))\n",
        "\n",
        "\n",
        "# Build dataframe of users, products and quantity bought using prior datasets\n",
        "REBUILD_MATRIX_DF = False\n",
        "matrix_df_path = \"/content/drive/MyDrive/Almabetter/Cohort Nilgiri/Kaggle/user_products__prior.csv\"\n",
        "if REBUILD_MATRIX_DF or not Path(matrix_df_path).is_file():\n",
        "    get_user_product_prior_df(matrix_df_path, df_orders, df_order_products_prior)\n",
        "df_user_product_prior = pd.read_csv(matrix_df_path)\n",
        "df_user_product_prior[\"user_id\"] = df_user_product_prior[\"user_id\"].astype(\"category\")\n",
        "df_user_product_prior[\"product_id\"] = df_user_product_prior[\"product_id\"].astype(\"category\")"
      ],
      "execution_count": null,
      "outputs": []
    },
    {
      "cell_type": "code",
      "metadata": {
        "id": "sGzf2J-CTos0"
      },
      "source": [
        "def build_product_user_matrix(matrix_path, df_user_product_prior):\n",
        "    \"\"\"\n",
        "    Generates a utility matrix representing purchase history of users, and writes it to disk.\n",
        "    Rows and Columns represent products and users respectively.\n",
        "    \"\"\"\n",
        "    start = time.time()\n",
        "    print(\"Creating product user matrix ...\")\n",
        "    \n",
        "    # Make the dataframe a sparse matrix\n",
        "    df_user_product_prior[\"user_id\"] = df_user_product_prior[\"user_id\"].astype(\"category\")\n",
        "    df_user_product_prior[\"product_id\"] = df_user_product_prior[\"product_id\"].astype(\"category\")\n",
        "    product_user_matrix = sparse.coo_matrix((df_user_product_prior[\"quantity\"],\n",
        "                                            (df_user_product_prior[\"product_id\"].cat.codes.copy(),\n",
        "                                             df_user_product_prior[\"user_id\"].cat.codes.copy())))\n",
        "    \n",
        "    sparse.save_npz(matrix_path, product_user_matrix)\n",
        "    \n",
        "    print(\"Completed in {:.2f}s\".format(time.time() - start))\n",
        "\n",
        "\n",
        "# Get the `product x user` matrix\n",
        "REBUILD_MATRIX = False\n",
        "matrix_path = \"/content/drive/MyDrive/Almabetter/Cohort Nilgiri/Kaggle/product_user_matrix.npz\"\n",
        "if REBUILD_MATRIX or not Path(matrix_path).is_file():\n",
        "    build_product_user_matrix(matrix_path, df_user_product_prior)\n",
        "product_user_matrix = sparse.load_npz(matrix_path).tocsr()\n"
      ],
      "execution_count": null,
      "outputs": []
    },
    {
      "cell_type": "code",
      "metadata": {
        "colab": {
          "base_uri": "https://localhost:8080/",
          "height": 195
        },
        "id": "ByJlHMHS8cMf",
        "outputId": "efa0e969-baab-4f59-c6f3-d6837de3faa4"
      },
      "source": [
        "df_user_product_prior.head()"
      ],
      "execution_count": null,
      "outputs": [
        {
          "output_type": "execute_result",
          "data": {
            "text/html": [
              "<div>\n",
              "<style scoped>\n",
              "    .dataframe tbody tr th:only-of-type {\n",
              "        vertical-align: middle;\n",
              "    }\n",
              "\n",
              "    .dataframe tbody tr th {\n",
              "        vertical-align: top;\n",
              "    }\n",
              "\n",
              "    .dataframe thead th {\n",
              "        text-align: right;\n",
              "    }\n",
              "</style>\n",
              "<table border=\"1\" class=\"dataframe\">\n",
              "  <thead>\n",
              "    <tr style=\"text-align: right;\">\n",
              "      <th></th>\n",
              "      <th>user_id</th>\n",
              "      <th>product_id</th>\n",
              "      <th>quantity</th>\n",
              "    </tr>\n",
              "  </thead>\n",
              "  <tbody>\n",
              "    <tr>\n",
              "      <th>0</th>\n",
              "      <td>1</td>\n",
              "      <td>196</td>\n",
              "      <td>10</td>\n",
              "    </tr>\n",
              "    <tr>\n",
              "      <th>1</th>\n",
              "      <td>1</td>\n",
              "      <td>10258</td>\n",
              "      <td>9</td>\n",
              "    </tr>\n",
              "    <tr>\n",
              "      <th>2</th>\n",
              "      <td>1</td>\n",
              "      <td>10326</td>\n",
              "      <td>1</td>\n",
              "    </tr>\n",
              "    <tr>\n",
              "      <th>3</th>\n",
              "      <td>1</td>\n",
              "      <td>12427</td>\n",
              "      <td>10</td>\n",
              "    </tr>\n",
              "    <tr>\n",
              "      <th>4</th>\n",
              "      <td>1</td>\n",
              "      <td>13032</td>\n",
              "      <td>3</td>\n",
              "    </tr>\n",
              "  </tbody>\n",
              "</table>\n",
              "</div>"
            ],
            "text/plain": [
              "  user_id product_id  quantity\n",
              "0       1        196        10\n",
              "1       1      10258         9\n",
              "2       1      10326         1\n",
              "3       1      12427        10\n",
              "4       1      13032         3"
            ]
          },
          "metadata": {
            "tags": []
          },
          "execution_count": 60
        }
      ]
    },
    {
      "cell_type": "code",
      "metadata": {
        "id": "VR6lRA4yWGZJ"
      },
      "source": [
        "# User=1 bought product=196 10 times\n",
        "assert product_user_matrix[195, 0] == 10\n",
        "\n"
      ],
      "execution_count": null,
      "outputs": []
    },
    {
      "cell_type": "code",
      "metadata": {
        "colab": {
          "base_uri": "https://localhost:8080/"
        },
        "id": "zx0ga-V-WJv-",
        "outputId": "cd974e0d-86a9-4c43-ac24-5e14e5cd4a46"
      },
      "source": [
        "sparsity(product_user_matrix)\n"
      ],
      "execution_count": null,
      "outputs": [
        {
          "output_type": "execute_result",
          "data": {
            "text/plain": [
              "99.8700882953749"
            ]
          },
          "metadata": {
            "tags": []
          },
          "execution_count": 43
        }
      ]
    },
    {
      "cell_type": "code",
      "metadata": {
        "id": "U3T3hvdZWcvf"
      },
      "source": [
        "# Setting paths for data files\n",
        "base_path=\"/content/drive/MyDrive/Almabetter/Cohort Nilgiri/Kaggle/\"\n",
        "product_user_matrix_path=base_path+\"product_user_matrix.npz\"\n",
        "order_products_prior_path=base_path+\"../data/order_products__prior.csv\"\n",
        "order_products_train_path=base_path+\"../data/order_products__train.csv\"\n",
        "orders_path=base_path+\"../data/orders.csv\"\n",
        "products_path=base_path+\"../data/products.csv\"\n",
        "test_data_path = base_path+'user_products__test.csv'\n",
        "matrix_df_path = base_path+\"user_products__prior.csv\"\n",
        "matrix_path = base_path+\"product_user_matrix.npz\"\n",
        "product_factor_50_path= base_path+\"product_factor_50.npy\"\n",
        "user_factor_50_path= base_path+\"user_factor_50.npy\"\n",
        "product_factor_100_path= base_path+\"product_factor_100.npy\"\n",
        "user_factor_100_path= base_path+\"user_factor_100.npy\""
      ],
      "execution_count": null,
      "outputs": []
    },
    {
      "cell_type": "code",
      "metadata": {
        "id": "Cl91_pdwW8N4"
      },
      "source": [
        "\n",
        "### Imports\n",
        "import pandas as pd\n",
        "import numpy as np\n",
        "import sys\n",
        "import scipy.sparse as sparse\n",
        "import scipy.sparse.linalg as linalg\n",
        "from scipy.sparse import coo_matrix, csr_matrix\n",
        "from numpy import bincount, log, sqrt\n",
        "import itertools\n",
        "import time\n",
        "from pathlib import Path\n",
        "\n",
        "from implicit.als import AlternatingLeastSquares\n",
        "from datetime import datetime\n",
        "import implicit\n",
        "import pickle\n",
        "\n",
        "from implicit.nearest_neighbours import tfidf_weight\n",
        "from sklearn.metrics.pairwise import cosine_similarity\n",
        "from numpy import bincount, log, sqrt\n",
        "import heapq"
      ],
      "execution_count": null,
      "outputs": []
    },
    {
      "cell_type": "markdown",
      "metadata": {
        "id": "aBjBtDnpWTNf"
      },
      "source": [
        "## SVD (Singular Value Decomposition)"
      ]
    },
    {
      "cell_type": "code",
      "metadata": {
        "id": "YuOd0ic5WSF8"
      },
      "source": [
        "# product_factors_50,user_factors_50 here denote 50 latent Factors considered\n",
        "REBUILD_FACTORS= False\n",
        "if REBUILD_FACTORS or not ((Path(product_factor_50_path)).is_file() \n",
        "                           and (Path(user_factor_50_path)).is_file()): \n",
        "    #Calculating the product and user factors\n",
        "    product_user_matrix = product_user_matrix.asfptype()\n",
        "    U, s, V = linalg.svds( product_user_matrix)\n",
        "    product_factors_50, S, user_factors_50 = linalg.svds(product_user_matrix, 50)\n",
        "    # changing to user* factor format\n",
        "    user_factors_50=user_factors_50.T*S\n",
        "    # saving the user and product factors\n",
        "    np.save(product_factor_50_path, product_factors_50)\n",
        "    np.save(user_factor_50_path, user_factors_50)\n",
        "else:\n",
        "    # Loading the user and product factors \n",
        "    product_factors_50=np.load(product_factor_50_path)\n",
        "    user_factors_50=np.load(user_factor_50_path)"
      ],
      "execution_count": null,
      "outputs": []
    },
    {
      "cell_type": "code",
      "metadata": {
        "id": "BppnncKqYUW7"
      },
      "source": [
        "# product_factors_100,user_factors_100 here denotes 100 latent Factors considered\n",
        "REBUILD_FACTORS= False\n",
        "if REBUILD_FACTORS or not ((Path(product_factor_100_path)).is_file() \n",
        "                           and (Path(user_factor_100_path)).is_file()): \n",
        "    #Calculating the product and user factors\n",
        "    product_factors_100, S, user_factors_100 = linalg.svds(product_user_matrix, 100)\n",
        "    # changing to user* factor format\n",
        "    user_factors_100=user_factors_100.T*S\n",
        "    # saving the user and product factors\n",
        "    np.save(product_factor_100_path, product_factors_100)\n",
        "    np.save(user_factor_100_path, user_factors_100)\n",
        "else:\n",
        "    # Loading the user and product factors \n",
        "    product_factors_100=np.load(product_factor_100_path)\n",
        "    user_factors_100=np.load(user_factor_100_path)"
      ],
      "execution_count": null,
      "outputs": []
    },
    {
      "cell_type": "code",
      "metadata": {
        "id": "TNockZriX77F"
      },
      "source": [
        "# Class To find the top recommended items given a user_id\n",
        "class TopRecommended(object):\n",
        "    def __init__(self, product_factors,user_factors,product_user_matrix):\n",
        "        self.product_factors =product_factors\n",
        "        self.user_factors =user_factors\n",
        "        self.product_user_matrix=product_user_matrix\n",
        "    def recommend(self, user_id, N=10):\n",
        "        \n",
        "        \"\"\"\n",
        "        Finds top K Recommendations\n",
        "        \"\"\"\n",
        "        scores =  self.user_factors[user_id].dot(self.product_factors.T)\n",
        "        best = np.argpartition(scores, -N)[-N:]\n",
        "        return sorted(zip(best, scores[best]), key=lambda x: -x[1])\n",
        "\n",
        "    def recommend_new(self, user_id, N=10):\n",
        "        \"\"\"\n",
        "        Finds Top k new Recommendations\n",
        "        \"\"\"\n",
        "        scores =  self.user_factors[user_id].dot(self.product_factors.T)\n",
        "        bought_indices=product_user_matrix.T[user_id].nonzero()[1]\n",
        "        count = N + len(bought_indices)\n",
        "        ids = np.argpartition(scores, -count)[-count:]\n",
        "        best = sorted(zip(ids, scores[ids]), key=lambda x: -x[1])        \n",
        "        return list(itertools.islice((rec for rec in best if rec[0] not in bought_indices), N))"
      ],
      "execution_count": null,
      "outputs": []
    },
    {
      "cell_type": "code",
      "metadata": {
        "id": "oB9uBJXSYAQm"
      },
      "source": [
        "# Since the utility matrix is 0-indexed, the below dict is required to convert between `ids` and `indices`.\n",
        "# For example, `product_id` 1 in the dataset is represented by the `0`th row of the utility matrix.\n",
        "\n",
        "# Maps user_id: user index\n",
        "u_dict = {uid:i for i, uid in enumerate(df_user_product_prior[\"user_id\"].cat.categories)}\n",
        "\n",
        "# Maps product_index: product id\n",
        "p_dict = dict(enumerate(df_user_product_prior[\"product_id\"].cat.categories))"
      ],
      "execution_count": null,
      "outputs": []
    },
    {
      "cell_type": "code",
      "metadata": {
        "id": "IHr7LGIPYD8I"
      },
      "source": [
        "# Initializing class for factors 50 which returns top recommended items for a user_id\n",
        "svd_recm=TopRecommended(product_factors_50,user_factors_50,product_user_matrix)\n",
        "\n",
        "# Initializing class for factors 100 which returns top recommended items for a user_id\n",
        "svd_recm_100=TopRecommended(product_factors_100,user_factors_100,product_user_matrix)"
      ],
      "execution_count": null,
      "outputs": []
    },
    {
      "cell_type": "code",
      "metadata": {
        "colab": {
          "base_uri": "https://localhost:8080/"
        },
        "id": "Yr0WxY8kYHln",
        "outputId": "00c5a63f-ca07-4cbb-e10e-9cd6a371f9b3"
      },
      "source": [
        "# Recommend items for a user 1\n",
        "user_id = 1\n",
        "print(\"User ID :\",user_id)\n",
        "# New Recommendations and Old Recommendations\n",
        "recommendations_all = svd_recm.recommend(u_dict[user_id],N=10)\n",
        "recommendations_new = svd_recm.recommend_new(u_dict[user_id],N=10)"
      ],
      "execution_count": null,
      "outputs": [
        {
          "output_type": "stream",
          "text": [
            "User ID : 1\n"
          ],
          "name": "stdout"
        }
      ]
    },
    {
      "cell_type": "code",
      "metadata": {
        "colab": {
          "base_uri": "https://localhost:8080/"
        },
        "id": "ZluyMz8DY-dK",
        "outputId": "b65969c5-f36f-41da-951b-246600c7a0ad"
      },
      "source": [
        "# Actual\n",
        "row = df_user_products_test.loc[df_user_products_test.user_id == user_id]\n",
        "actual = list(row[\"products\"])\n",
        "\n",
        "actual = actual[0][1:-1]\n",
        "actual = list(np.array([p.strip() for p in actual.strip().split(\",\")]).astype(np.int64))\n",
        "act_products = []\n",
        "for pid in actual:\n",
        "    act_products.extend((df_products.loc[df_products.product_id == pid].product_name).tolist())\n",
        "print(\"Actual products bought by user {}\\n{}\\n\\n\".format(user_id, act_products))\n",
        "\n",
        "# All Products Recommended \n",
        "all_recm_products=[]\n",
        "for recommend in recommendations_all:\n",
        "    all_recm_products.extend((df_products.loc[df_products.product_id == p_dict[recommend[0]]].product_name).tolist())\n",
        "print(\"All products recommended to user {}\\n{}\\n\\n\".format(user_id, all_recm_products))\n",
        "\n",
        "\n",
        "# New Products Recommended \n",
        "new_recm_products=[]\n",
        "for recommend in recommendations_new:\n",
        "    new_recm_products.extend((df_products.loc[df_products.product_id == p_dict[recommend[0]]].product_name).tolist())\n",
        "print(\"New products recommended to user {}\\n{}\".format(user_id, new_recm_products))\n"
      ],
      "execution_count": null,
      "outputs": [
        {
          "output_type": "stream",
          "text": [
            "Actual products bought by user 1\n",
            "['Soda', 'Organic String Cheese', '0% Greek Strained Yogurt', 'XL Pick-A-Size Paper Towel Rolls', 'Milk Chocolate Almonds', 'Pistachios', 'Cinnamon Toast Crunch', 'Aged White Cheddar Popcorn', 'Organic Whole Milk', 'Organic Half & Half', 'Zero Calorie Cola']\n",
            "\n",
            "\n",
            "All products recommended to user 1\n",
            "['Soda', 'Clementines', '0% Greek Strained Yogurt', 'Bag of Organic Bananas', 'Organic Half & Half', 'Trail Mix', 'Apples', 'Extra Fancy Unsalted Mixed Nuts', 'Zero Calorie Cola', 'Reduced Fat 2% Milk']\n",
            "\n",
            "\n",
            "New products recommended to user 1\n",
            "['Clementines', 'Trail Mix', 'Apples', 'Extra Fancy Unsalted Mixed Nuts', 'Reduced Fat 2% Milk', 'Sparkling Mineral Water', \"Crunchy Oats 'n Honey Granola Bars\", 'Mixed Fruit Fruit Snacks', 'Mozzarella String Cheese', 'Popcorn']\n"
          ],
          "name": "stdout"
        }
      ]
    },
    {
      "cell_type": "code",
      "metadata": {
        "id": "krlM-D2UZDuh"
      },
      "source": [
        "#Helper Functions\n",
        "def get_k_popular(k, df_order_products_prior):\n",
        "    popular_products = list(df_order_products_prior[\"product_id\"].value_counts().head(k).index)\n",
        "    return popular_products\n"
      ],
      "execution_count": null,
      "outputs": []
    },
    {
      "cell_type": "code",
      "metadata": {
        "id": "Xv_P1eg3ZIIR"
      },
      "source": [
        "# Transpose of the product_user utility matrix\n",
        "user_product_matrix = product_user_matrix.T.tocsr()\n",
        "\n",
        "# Number of recommendations to make for every user\n",
        "N_REC = 10\n",
        "\n",
        "# Get the `N_REC` most popular products\n",
        "popular_products = get_k_popular(N_REC, df_order_products_prior)\n"
      ],
      "execution_count": null,
      "outputs": []
    },
    {
      "cell_type": "code",
      "metadata": {
        "id": "MDTrhmO1ZOAV"
      },
      "source": [
        "def recall_score(actual, pred):\n",
        "    \"\"\"\n",
        "    Given two lists representing actual and predicted values\n",
        "    Returns the recall of the prediction\n",
        "    \"\"\"\n",
        "    if len(actual) == 0:\n",
        "        return 0\n",
        "    actual, pred = set(actual), set(pred)\n",
        "    return len(actual.intersection(pred)) / len(actual)\n",
        "\n",
        "\n",
        "def new_products(row):\n",
        "    \"\"\"\n",
        "    Given a row in the test dataset\n",
        "    Returns the list of new products purchased\n",
        "    \"\"\"\n",
        "    actual = row[\"products\"][1:-1]  # Products purchased currently \n",
        "    actual = set([int(p.strip()) for p in actual.strip().split(\",\")])\n",
        "    liked = set([p_dict[i] for i in user_product_matrix[u_dict[row[\"user_id\"]]].indices])  # User's purchase history\n",
        "    return actual - liked  # Return only new products purchased\n",
        "\n",
        "\n",
        "def popular_recommend(row):\n",
        "    \"\"\"\n",
        "    Given a row in the test dataset\n",
        "    Returns the recall score when popular products are recommended\n",
        "    \"\"\"\n",
        "    actual = new_products(row)\n",
        "    return recall_score(actual, popular_products)\n",
        "\n",
        "             \n",
        "def svd_recommend_50_new(row):\n",
        "    \"\"\"\n",
        "    Given a row in the test dataset\n",
        "    Returns the recall score when our model recommends new products\n",
        "    \"\"\"    \n",
        "    actual = new_products(row)\n",
        "    recommended = svd_recm.recommend_new(u_dict[row[\"user_id\"]], N=N_REC)\n",
        "    recommended = [p_dict[r[0]] for r in recommended]\n",
        "    return recall_score(actual, recommended)\n",
        "\n",
        "def svd_recommend_100_new(row):\n",
        "    \"\"\"\n",
        "    Given a row in the test dataset\n",
        "    Returns the recall score when our model recommends new products\n",
        "    \"\"\"    \n",
        "    actual = new_products(row)\n",
        "    recommended = svd_recm_100.recommend_new(u_dict[row[\"user_id\"]], N=N_REC)\n",
        "    recommended = [p_dict[r[0]] for r in recommended]\n",
        "    return recall_score(actual, recommended)\n",
        "\n",
        "\n",
        "             \n",
        "def build_eval_df(df_user_products_test, filepath=None, subset=None):\n",
        "    \"\"\"\n",
        "    Builds a dataframe of recall values of the baseline and our model for all the users\n",
        "    in the test data, and saves its to disk at `filepath`\n",
        "    \"\"\"\n",
        "    start = time.time()\n",
        "    print(\"Building dataframe with recall values ...\")\n",
        "    \n",
        "    df_eval = df_user_products_test.copy()\n",
        "    if subset:\n",
        "        df_eval = df_eval.sample(n=int(len(df_eval) * subset), random_state=7)\n",
        "    df_eval[\"popular_score\"] = df_eval.apply(popular_recommend, axis=1)\n",
        "    df_eval[\"svd_new_score_50\"] = df_eval.apply(svd_recommend_50_new, axis=1)\n",
        "    df_eval[\"svd_new_score_100\"] = df_eval.apply(svd_recommend_100_new, axis=1)\n",
        "    df_eval.to_csv(filepath)\n",
        "    \n",
        "    print(\"Completed in {:.2f}s\".format(time.time() - start))\n"
      ],
      "execution_count": null,
      "outputs": []
    },
    {
      "cell_type": "code",
      "metadata": {
        "colab": {
          "base_uri": "https://localhost:8080/"
        },
        "id": "qTJsqAfeZRt2",
        "outputId": "e45e16e2-c571-4eb6-908f-932d4ac8042d"
      },
      "source": [
        "# Get the dataframe with recall values of the baseline and the model # It takes 45min to run.\n",
        "REBUILD_EVAL_DF = True\n",
        "subset = 0.2  # Evaluate on `subset x 100`% of the test dataset\n",
        "eval_path = \"/content/drive/MyDrive/Almabetter/Cohort Nilgiri/Kaggle/eval_discovery_svd_{}_{}.csv\".format(subset if subset is not None else \"full\", N_REC)\n",
        "if REBUILD_EVAL_DF or not Path(eval_path).exists():\n",
        "    build_eval_df(df_user_products_test, filepath=eval_path, subset=subset)\n",
        "df_eval_SVD = pd.read_csv(eval_path)\n"
      ],
      "execution_count": null,
      "outputs": [
        {
          "output_type": "stream",
          "text": [
            "Building dataframe with recall values ...\n",
            "Completed in 3494.21s\n"
          ],
          "name": "stdout"
        }
      ]
    },
    {
      "cell_type": "code",
      "metadata": {
        "colab": {
          "base_uri": "https://localhost:8080/"
        },
        "id": "hpukh5SoxQDf",
        "outputId": "b1e76590-8bb2-4668-9ad1-6fc1fdbc415b"
      },
      "source": [
        "df_eval_SVD.value_counts(subset = ['svd_new_score_100'])"
      ],
      "execution_count": null,
      "outputs": [
        {
          "output_type": "execute_result",
          "data": {
            "text/plain": [
              "svd_new_score_100\n",
              "0.000000             23775\n",
              "0.333333               218\n",
              "0.200000               218\n",
              "0.500000               214\n",
              "0.250000               211\n",
              "                     ...  \n",
              "0.187500                 1\n",
              "0.093750                 1\n",
              "0.074074                 1\n",
              "0.266667                 1\n",
              "0.130435                 1\n",
              "Length: 72, dtype: int64"
            ]
          },
          "metadata": {
            "tags": []
          },
          "execution_count": 75
        }
      ]
    },
    {
      "cell_type": "code",
      "metadata": {
        "colab": {
          "base_uri": "https://localhost:8080/",
          "height": 195
        },
        "id": "GqpznVbHXKnV",
        "outputId": "44c9dfb8-eff2-44cf-b37a-f643caa493d0"
      },
      "source": [
        "df_prior_user_products.head()"
      ],
      "execution_count": null,
      "outputs": [
        {
          "output_type": "execute_result",
          "data": {
            "text/html": [
              "<div>\n",
              "<style scoped>\n",
              "    .dataframe tbody tr th:only-of-type {\n",
              "        vertical-align: middle;\n",
              "    }\n",
              "\n",
              "    .dataframe tbody tr th {\n",
              "        vertical-align: top;\n",
              "    }\n",
              "\n",
              "    .dataframe thead th {\n",
              "        text-align: right;\n",
              "    }\n",
              "</style>\n",
              "<table border=\"1\" class=\"dataframe\">\n",
              "  <thead>\n",
              "    <tr style=\"text-align: right;\">\n",
              "      <th></th>\n",
              "      <th>user_id</th>\n",
              "      <th>products</th>\n",
              "    </tr>\n",
              "  </thead>\n",
              "  <tbody>\n",
              "    <tr>\n",
              "      <th>0</th>\n",
              "      <td>1</td>\n",
              "      <td>[196, 14084, 12427, 26088, 26405, 196, 10258, ...</td>\n",
              "    </tr>\n",
              "    <tr>\n",
              "      <th>1</th>\n",
              "      <td>2</td>\n",
              "      <td>[32792, 47766, 20574, 12000, 48110, 22474, 165...</td>\n",
              "    </tr>\n",
              "    <tr>\n",
              "      <th>2</th>\n",
              "      <td>3</td>\n",
              "      <td>[9387, 17668, 15143, 16797, 39190, 47766, 2190...</td>\n",
              "    </tr>\n",
              "    <tr>\n",
              "      <th>3</th>\n",
              "      <td>4</td>\n",
              "      <td>[36606, 7350, 35469, 2707, 42329, 7160, 1200, ...</td>\n",
              "    </tr>\n",
              "    <tr>\n",
              "      <th>4</th>\n",
              "      <td>5</td>\n",
              "      <td>[15349, 21413, 48775, 28289, 8518, 11777, 3171...</td>\n",
              "    </tr>\n",
              "  </tbody>\n",
              "</table>\n",
              "</div>"
            ],
            "text/plain": [
              "   user_id                                           products\n",
              "0        1  [196, 14084, 12427, 26088, 26405, 196, 10258, ...\n",
              "1        2  [32792, 47766, 20574, 12000, 48110, 22474, 165...\n",
              "2        3  [9387, 17668, 15143, 16797, 39190, 47766, 2190...\n",
              "3        4  [36606, 7350, 35469, 2707, 42329, 7160, 1200, ...\n",
              "4        5  [15349, 21413, 48775, 28289, 8518, 11777, 3171..."
            ]
          },
          "metadata": {
            "tags": []
          },
          "execution_count": 76
        }
      ]
    },
    {
      "cell_type": "code",
      "metadata": {
        "colab": {
          "base_uri": "https://localhost:8080/"
        },
        "id": "k_E2tkkzxDqU",
        "outputId": "d1d08593-a8ef-4bfe-e025-23e9e1856aa9"
      },
      "source": [
        "# Mean recall scores\n",
        "model_50_mean_recall,model_100_mean_recall, baseline_mean_recall = \\\n",
        "np.mean(df_eval_SVD[\"svd_new_score_50\"]),np.mean(df_eval_SVD[\"svd_new_score_100\"]), np.mean(df_eval_SVD[\"popular_score\"])\n",
        "print(\"SVD 100 Factor Model: {:.2f}%\".format(model_100_mean_recall * 100))\n",
        "print(\"SVD 50 Factor Model: {:.2f}%\".format(model_50_mean_recall * 100))\n",
        "print(\"Baseline: {:.2f}%\".format(baseline_mean_recall * 100))"
      ],
      "execution_count": null,
      "outputs": [
        {
          "output_type": "stream",
          "text": [
            "SVD 100 Factor Model: 2.39%\n",
            "SVD 50 Factor Model: 2.84%\n",
            "Baseline: 2.62%\n"
          ],
          "name": "stdout"
        }
      ]
    },
    {
      "cell_type": "markdown",
      "metadata": {
        "id": "nNjMY9xXbd16"
      },
      "source": [
        "## ALS (Alternating Least Squares)\n",
        "\n",
        "Here the entries of the matrix are filled using the confidence which is used especially for the implicit data at matrix factorization"
      ]
    },
    {
      "cell_type": "code",
      "metadata": {
        "id": "l7jUIscba1W1"
      },
      "source": [
        "def confidence_matrix(prod_user_matrix, alpha):\n",
        "    \"\"\"\n",
        "    Given a utility matrix,\n",
        "    Returns the given matrix converted to a confidence matrix\n",
        "    For more details, look at http://yifanhu.net/PUB/cf.pdf\n",
        "    \"\"\"\n",
        "    return (prod_user_matrix * alpha).astype(\"double\")\n",
        "    \n",
        "\n",
        "def build_imf(prod_user_matrix, **kwargs):\n",
        "    \"\"\"\n",
        "    Given the utility matrix and model parameters,\n",
        "    Builds models and writes it to disk at \n",
        "    \"\"\"\n",
        "    start = time.time()\n",
        "    \n",
        "    # Build model\n",
        "    print(\"Building IMF model with alpha: {} ...\".format(kwargs[\"alpha\"]))\n",
        "    model = AlternatingLeastSquares()\n",
        "    model.approximate_similar_items = False\n",
        "    \n",
        "    model.fit(confidence_matrix(prod_user_matrix, kwargs[\"alpha\"]))\n",
        "\n",
        "    # Save model to disk\n",
        "    with open(kwargs[\"path\"], \"wb+\") as f:\n",
        "        pickle.dump(model, f, pickle.HIGHEST_PROTOCOL)\n",
        "    \n",
        "    print(\"Completed in {:.2f}s\".format(time.time() - start))\n",
        "\n",
        "    \n",
        "# Specify model params and build it\n",
        "## Alpha's in the range [10, 50] with a step size of 5 were tried. alpha = 15 was found to have the best overall \n",
        "## recall value. \n",
        "model_params = {\"alpha\": 15} \n",
        "model_params[\"path\"] = \"/content/drive/MyDrive/Almabetter/Cohort Nilgiri/Kaggle/{}.imf\".format(model_params[\"alpha\"])\n",
        "\n",
        "REBUILD_MODEL = False\n",
        "if REBUILD_MODEL or not Path(model_params[\"path\"]).exists():\n",
        "    build_imf(product_user_matrix, **model_params)\n",
        "with open(model_params[\"path\"], \"rb\") as f:\n",
        "    imf_model = pickle.load(f)\n"
      ],
      "execution_count": null,
      "outputs": []
    },
    {
      "cell_type": "code",
      "metadata": {
        "id": "mI_B6l6ea47n"
      },
      "source": [
        "# Since the utility matrix is 0-indexed, the below dict is required to convert between `ids` and `indices`.\n",
        "# For example, `product_id` 1 in the dataset is represented by the `0`th row of the utility matrix.\n",
        "\n",
        "# Maps user_id: user index\n",
        "u_dict = {uid:i for i, uid in enumerate(df_user_product_prior[\"user_id\"].cat.categories)}\n",
        "\n",
        "# Maps product_index: product id\n",
        "p_dict = dict(enumerate(df_user_product_prior[\"product_id\"].cat.categories))\n"
      ],
      "execution_count": null,
      "outputs": []
    },
    {
      "cell_type": "code",
      "metadata": {
        "id": "Y7CctM1ia730"
      },
      "source": [
        "# Recommend items for a user 17\n",
        "user_id = 17\n",
        "recommendations = imf_model.recommend(u_dict[user_id], product_user_matrix.T.tocsr(), N = 10)\n"
      ],
      "execution_count": null,
      "outputs": []
    },
    {
      "cell_type": "code",
      "metadata": {
        "id": "RuT6xhLua-12"
      },
      "source": [
        "# Actual \n",
        "row = df_user_products_test.loc[df_user_products_test.user_id == user_id]\n",
        "actual = list(row[\"products\"])\n",
        "actual = actual[0][1:-1]\n",
        "actual = list(np.array([p.strip() for p in actual.strip().split(\",\")]).astype(np.int64))\n",
        "act_products = []\n",
        "for pid in actual:\n",
        "    act_products.extend((df_products.loc[df_products.product_id == pid].product_name).tolist())\n",
        "print(\"Actual products bought by user {}\\n{}\".format(user_id, act_products))\n",
        "\n",
        "\n",
        "# Recommended\n",
        "r = [p_dict[r[0]] for r in recommendations] # Takes the product_cat_code and maps to product_id\n",
        "rec_products = []\n",
        "for pid in r:\n",
        "    rec_products.extend((df_products.loc[df_products.product_id == pid].product_name).tolist())\n",
        "print(\"\\nRecommendations for user {}\\n{}\".format(user_id, rec_products))\n"
      ],
      "execution_count": null,
      "outputs": []
    },
    {
      "cell_type": "code",
      "metadata": {
        "id": "ZGmEVZj1lP9v"
      },
      "source": [
        ""
      ],
      "execution_count": null,
      "outputs": []
    },
    {
      "cell_type": "code",
      "metadata": {
        "id": "yzO7t_KlbCQ4"
      },
      "source": [
        "def get_k_popular(k, df_merged_order_products_prior):\n",
        "    \"\"\"\n",
        "    Returns the `k` most popular products based on purchase count in the dataset\n",
        "    \"\"\"\n",
        "    popular_products = list(df_merged_order_products_prior[\"product_id\"].value_counts().head(k).index)\n",
        "    return popular_products\n"
      ],
      "execution_count": null,
      "outputs": []
    },
    {
      "cell_type": "code",
      "metadata": {
        "id": "PDkuWJUEbFoN"
      },
      "source": [
        "# Transpose of the product_user utility matrix\n",
        "user_product_matrix = product_user_matrix.T.tocsr()\n",
        "\n",
        "# Number of recommendations to make for every user\n",
        "N_REC = 10\n",
        "\n",
        "# Get the `N_REC` most popular products\n",
        "popular_products = get_k_popular(N_REC, df_order_products_prior_merged)\n"
      ],
      "execution_count": null,
      "outputs": []
    },
    {
      "cell_type": "code",
      "metadata": {
        "id": "R5rNnRYCbKxv"
      },
      "source": [
        "def recall_score(actual, pred):\n",
        "    \"\"\"\n",
        "    Given two lists representing actual and predicted values\n",
        "    Returns the recall of the prediction\n",
        "    \"\"\"\n",
        "    if len(actual) == 0:\n",
        "        return 0\n",
        "    actual, pred = set(actual), set(pred)\n",
        "    return len(actual.intersection(pred)) / len(actual)\n",
        "\n",
        "\n",
        "def new_products(row):\n",
        "    \"\"\"\n",
        "    Given a row in the test dataset\n",
        "    Returns the list of new products purchased\n",
        "    \"\"\"\n",
        "    actual = row[\"products\"][1:-1]  # Products purchased currently \n",
        "    actual = set([int(p.strip()) for p in actual.strip().split(\",\")])\n",
        "    liked = set([p_dict[i] for i in user_product_matrix[u_dict[row[\"user_id\"]]].indices])  # User's purchase history\n",
        "    return actual - liked  # Return only new products purchased\n",
        "\n",
        "\n",
        "def popular_recommend(row):\n",
        "    \"\"\"\n",
        "    Given a row in the test dataset\n",
        "    Returns the recall score when popular products are recommended\n",
        "    \"\"\"\n",
        "    actual = new_products(row)\n",
        "    return recall_score(actual, popular_products)\n",
        "\n",
        "             \n",
        "def imf_recommend(row):\n",
        "    \"\"\"\n",
        "    Given a row in the test dataset\n",
        "    Returns the recall score when our model recommends products\n",
        "    \"\"\"\n",
        "    actual = new_products(row)\n",
        "    recommended = imf_model.recommend(u_dict[row[\"user_id\"]], user_product_matrix, N=N_REC)\n",
        "    recommended = [p_dict[r[0]] for r in recommended]\n",
        "    return recall_score(actual, recommended)\n",
        "\n",
        "             \n",
        "def build_eval_df(df_user_products_test, filepath=None, subset=None):\n",
        "    \"\"\"\n",
        "    Builds a dataframe of recall values of the baseline and our model for all the users\n",
        "    in the test data, and saves its to disk at `filepath`\n",
        "    \"\"\"\n",
        "    start = time.time()\n",
        "    print(\"Building dataframe with recall values ...\")\n",
        "    \n",
        "    df_eval = df_user_products_test.copy()\n",
        "    if subset:\n",
        "        df_eval = df_eval.sample(n=int(len(df_eval) * subset), random_state=7)\n",
        "    df_eval[\"popular_score\"] = df_eval.apply(popular_recommend, axis=1)\n",
        "    df_eval[\"imf_score\"] = df_eval.apply(imf_recommend, axis=1)\n",
        "    \n",
        "    df_eval.to_csv(filepath)\n",
        "    \n",
        "    print(\"Completed in {:.2f}s\".format(time.time() - start))    \n",
        "\n",
        "\n",
        "# Get the dataframe with recall values of the baseline and the model\n",
        "REBUILD_EVAL_DF = True\n",
        "subset = 0.2  # Evaluate on `subset x 100`% of the test dataset\n",
        "eval_path = \"/content/drive/MyDrive/Almabetter/Cohort Nilgiri/Kaggle/eval_discovery_{}_{}.csv\".format(subset if subset is not None else \"full\", N_REC)\n",
        "if REBUILD_EVAL_DF or not Path(eval_path).exists():\n",
        "    build_eval_df(df_user_products_test, filepath=eval_path, subset=subset)\n",
        "df_eval_ALS = pd.read_csv(eval_path)\n"
      ],
      "execution_count": null,
      "outputs": []
    },
    {
      "cell_type": "code",
      "metadata": {
        "id": "fNJk8bGrbNug"
      },
      "source": [
        "# Mean recall scores\n",
        "model_mean_recall, baseline_mean_recall = np.mean(df_eval_ALS[\"imf_score\"]), np.mean(df_eval_ALS[\"popular_score\"])\n",
        "print(\"Model: {:.2f}%\".format(model_mean_recall * 100))\n",
        "print(\"Baseline: {:.2f}%\".format(baseline_mean_recall * 100))\n"
      ],
      "execution_count": null,
      "outputs": []
    },
    {
      "cell_type": "code",
      "metadata": {
        "id": "IDvVq3A4vs4I"
      },
      "source": [
        ""
      ],
      "execution_count": null,
      "outputs": []
    },
    {
      "cell_type": "markdown",
      "metadata": {
        "id": "cYp9ZNPXxWMN"
      },
      "source": [
        "## Memory based\n",
        "This approach uses the memory of previous users interactions to compute users similarities based on items they've interacted (user-based approach) or compute items similarities based on the users that have interacted with them (item-based approach).\n",
        "Ex : Neighbourhood based CF\n",
        "\n"
      ]
    },
    {
      "cell_type": "markdown",
      "metadata": {
        "id": "YntC1U-brpT7"
      },
      "source": [
        "##TFIDF Neighborhood"
      ]
    },
    {
      "cell_type": "markdown",
      "metadata": {
        "id": "k6Gf7RibwoXL"
      },
      "source": [
        "![t.png](data:image/png;base64,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)"
      ]
    },
    {
      "cell_type": "markdown",
      "metadata": {
        "id": "R6qSA0qHvsZA"
      },
      "source": [
        "TF - How many times a particular word appeared.\n",
        "\n",
        "IDF- Takes care of words which are present rarely across the corpus\n",
        "Each column of the matrix is a term, more specifically a product users purchased.\n",
        "\n",
        "Each row of the matrix is a document, representing for the purchase history of a user, comprised of varied products.\n"
      ]
    },
    {
      "cell_type": "code",
      "metadata": {
        "colab": {
          "base_uri": "https://localhost:8080/",
          "height": 195
        },
        "id": "xMcBIv4_99_V",
        "outputId": "27181b9e-1c4d-4871-f04e-5d0f203ea9ad"
      },
      "source": [
        "df_user_product_prior.head()"
      ],
      "execution_count": null,
      "outputs": [
        {
          "output_type": "execute_result",
          "data": {
            "text/html": [
              "<div>\n",
              "<style scoped>\n",
              "    .dataframe tbody tr th:only-of-type {\n",
              "        vertical-align: middle;\n",
              "    }\n",
              "\n",
              "    .dataframe tbody tr th {\n",
              "        vertical-align: top;\n",
              "    }\n",
              "\n",
              "    .dataframe thead th {\n",
              "        text-align: right;\n",
              "    }\n",
              "</style>\n",
              "<table border=\"1\" class=\"dataframe\">\n",
              "  <thead>\n",
              "    <tr style=\"text-align: right;\">\n",
              "      <th></th>\n",
              "      <th>user_id</th>\n",
              "      <th>product_id</th>\n",
              "      <th>quantity</th>\n",
              "    </tr>\n",
              "  </thead>\n",
              "  <tbody>\n",
              "    <tr>\n",
              "      <th>0</th>\n",
              "      <td>1</td>\n",
              "      <td>196</td>\n",
              "      <td>10</td>\n",
              "    </tr>\n",
              "    <tr>\n",
              "      <th>1</th>\n",
              "      <td>1</td>\n",
              "      <td>10258</td>\n",
              "      <td>9</td>\n",
              "    </tr>\n",
              "    <tr>\n",
              "      <th>2</th>\n",
              "      <td>1</td>\n",
              "      <td>10326</td>\n",
              "      <td>1</td>\n",
              "    </tr>\n",
              "    <tr>\n",
              "      <th>3</th>\n",
              "      <td>1</td>\n",
              "      <td>12427</td>\n",
              "      <td>10</td>\n",
              "    </tr>\n",
              "    <tr>\n",
              "      <th>4</th>\n",
              "      <td>1</td>\n",
              "      <td>13032</td>\n",
              "      <td>3</td>\n",
              "    </tr>\n",
              "  </tbody>\n",
              "</table>\n",
              "</div>"
            ],
            "text/plain": [
              "  user_id product_id  quantity\n",
              "0       1        196        10\n",
              "1       1      10258         9\n",
              "2       1      10326         1\n",
              "3       1      12427        10\n",
              "4       1      13032         3"
            ]
          },
          "metadata": {
            "tags": []
          },
          "execution_count": 61
        }
      ]
    },
    {
      "cell_type": "markdown",
      "metadata": {
        "id": "JH6IEqHH97gc"
      },
      "source": [
        "Using df_user_product_prior build a sparse matrix named product user matrix"
      ]
    },
    {
      "cell_type": "code",
      "metadata": {
        "id": "JcoSNwrgrodv"
      },
      "source": [
        "# Fetch term Frequency matrix\n",
        "user_product_matrix = product_user_matrix.T"
      ],
      "execution_count": null,
      "outputs": []
    },
    {
      "cell_type": "code",
      "metadata": {
        "id": "NOthnUPArwDv"
      },
      "source": [
        "def tfidf_weight(tf):\n",
        "    \"\"\"\n",
        "    Given a Term Frequency matrix\n",
        "    Returns a TF-IDF weight matrix\n",
        "    \"\"\"\n",
        "    \n",
        "    tf_idf = coo_matrix(tf)\n",
        "\n",
        "    # calculate IDF\n",
        "    N = float(tf_idf.shape[0])\n",
        "    idf = log(N / (1 + bincount(tf_idf.col)))\n",
        "\n",
        "    # apply TF-IDF adjustment\n",
        "    tf_idf.data = sqrt(tf_idf.data) * idf[tf_idf.col]\n",
        "    return tf_idf\n",
        "\n",
        "tf_idf = tfidf_weight(user_product_matrix)\n",
        "\n",
        "# convert to Compressed Sparse Row format\n",
        "tf_idf = tf_idf.tocsr()"
      ],
      "execution_count": null,
      "outputs": []
    },
    {
      "cell_type": "code",
      "metadata": {
        "id": "msyRGcsCsB9P"
      },
      "source": [
        "def generateRecommendations(target_user, cos_vec, K, N):\n",
        "    \"\"\"\n",
        "    Given a target_user (a row), a cosine similarity vector, the number of similar users K, \n",
        "          the number of products to be recommended.\n",
        "    Returns product set by target user and N recommendations\n",
        "    \"\"\"\n",
        "    \n",
        "    # Select top K similar users\n",
        "    top_K_similar_users = heapq.nlargest(K+1, range(len(cos_vec)), cos_vec.take)\n",
        "\n",
        "    # Initialize the result for recommendations\n",
        "    recommendations = []\n",
        "    \n",
        "    # Exclude the user with same purchase history (1.00000) as the target user and implement set-minus\n",
        "    products_target_user = df_prior_user_products.loc[df_prior_user_products['user_id'] == target_user_id].products\n",
        "\n",
        "    # Products of Target User\n",
        "    productset_target_user = set(products_target_user.tolist()[0])\n",
        "\n",
        "    # Fetch the preliminary recommendations\n",
        "    for similar_user_id in top_K_similar_users:\n",
        "        \n",
        "        products_similar_user = df_prior_user_products.loc[df_prior_user_products['user_id'] == similar_user_id + 1].products\n",
        "\n",
        "        # Recommend the products bought by the user who firstly differs in the purchase history from A.\n",
        "        candidate_recommendation = set(products_similar_user.tolist()[0]) - productset_target_user\n",
        "\n",
        "        # If similar_user_id equals to target_user_id or the candidate_recommendation is empty,\n",
        "        # skip current user\n",
        "        if similar_user_id == target_user_id or not candidate_recommendation: continue\n",
        "\n",
        "        # One candidate_recommendation found, and extend it to the result\n",
        "        recommendations.extend(candidate_recommendation)\n",
        "\n",
        "        # If length of recommendations exceed N, break\n",
        "        # Needed because this will ensure the recommentations are the products bought by most similar users\n",
        "        if len(recommendations) > N: break\n",
        "        \n",
        "    # Pick the top N popularity (overall sales) to recommend\n",
        "    h = []\n",
        "    for rec in recommendations:\n",
        "        heapq.heappush(h, (df_product_frequency.loc[rec]['frequency'], rec))\n",
        "        if len(h) > N:\n",
        "            heapq.heappop(h)\n",
        "            \n",
        "    return productset_target_user, [item[1] for item in h]\n"
      ],
      "execution_count": null,
      "outputs": []
    },
    {
      "cell_type": "code",
      "metadata": {
        "id": "lifwOXM4sF4f"
      },
      "source": [
        "# Selecting one user to test\n",
        "target_user_id = 1\n",
        "\n",
        "# Fetch row of target user\n",
        "target_user = tf_idf[target_user_id - 1]\n",
        "\n",
        "# Calculate Cosine Similarity Vector of target user\n",
        "similarities = cosine_similarity(tf_idf, target_user, False)\n",
        "\n",
        "productset_target_user, recommendations = generateRecommendations(target_user, similarities.toarray(), 10, 10)\n"
      ],
      "execution_count": null,
      "outputs": []
    },
    {
      "cell_type": "code",
      "metadata": {
        "colab": {
          "base_uri": "https://localhost:8080/"
        },
        "id": "RgqGz1lfsI_Y",
        "outputId": "cd3cc06f-d4dd-46f4-fb20-f5291c0ff6dc"
      },
      "source": [
        "# Output the product_name of Target User's products as well as Recommendations\n",
        "print('Actual products bought by User {}:'.format(target_user_id))\n",
        "print(productset_target_user)\n",
        "print()\n",
        "print('Recommended products for User {}:'.format(target_user_id))\n",
        "print(recommendations)\n"
      ],
      "execution_count": null,
      "outputs": [
        {
          "output_type": "stream",
          "text": [
            "Actual products bought by User 1:\n",
            "{17122, 196, 26405, 14084, 46149, 26088, 13032, 39657, 12427, 25133, 35951, 38928, 10258, 30450, 49235, 10326, 13176, 41787}\n",
            "\n",
            "Recommended products for User 1:\n",
            "[500, 26104, 4149, 41400, 22802, 12916, 37710, 9755, 16797, 5258]\n"
          ],
          "name": "stdout"
        }
      ]
    },
    {
      "cell_type": "code",
      "metadata": {
        "id": "fZkg5V4UshKp"
      },
      "source": [
        "# Get the 10 most popular products\n",
        "popular_products = get_k_popular(10, df_order_products_prior_merged)"
      ],
      "execution_count": null,
      "outputs": []
    },
    {
      "cell_type": "code",
      "metadata": {
        "colab": {
          "base_uri": "https://localhost:8080/"
        },
        "id": "n-B786My_CHk",
        "outputId": "d67ea3f4-2dcf-4110-ad1a-4097e8eb0d8c"
      },
      "source": [
        "popular_products"
      ],
      "execution_count": null,
      "outputs": [
        {
          "output_type": "execute_result",
          "data": {
            "text/plain": [
              "[24852, 13176, 21137, 21903, 47209, 47766, 47626, 16797, 26209, 27845]"
            ]
          },
          "metadata": {
            "tags": []
          },
          "execution_count": 62
        }
      ]
    },
    {
      "cell_type": "code",
      "metadata": {
        "id": "QOvl7_5jsm5V"
      },
      "source": [
        "def recall_score(actual, pred):\n",
        "    \"\"\"\n",
        "    Given two lists representing actual and predicted values\n",
        "    Returns the recall of the prediction\n",
        "    \"\"\"\n",
        "    if len(actual) == 0:\n",
        "        return 0\n",
        "    actual, pred = set(actual), set(pred)\n",
        "    return len(actual.intersection(pred)) / len(actual)\n",
        "\n",
        "def new_products(row):\n",
        "    \"\"\"\n",
        "    Given a row in the test dataset\n",
        "    Returns the list of new products purchased\n",
        "    \"\"\"\n",
        "    actual = row[\"products\"][1:-1]\n",
        "    actual = set([int(p.strip()) for p in actual.strip().split(\",\")])\n",
        "    products_target_user = df_prior_user_products.loc[df_prior_user_products['user_id'] == row[\"user_id\"]].products\n",
        "    liked = set(products_target_user.tolist()[0])\n",
        "    return actual - liked\n",
        "\n",
        "def popular_recommend(row):\n",
        "    \"\"\"\n",
        "    Given a row in the test dataset\n",
        "    Returns the recall score when popular products are recommended\n",
        "    \"\"\"\n",
        "    actual = new_products(row)\n",
        "    return recall_score(actual, popular_products)\n",
        "\n",
        "def tfidf_recommend(row):\n",
        "    \"\"\"\n",
        "    Given a row in the test dataset\n",
        "    Returns the recall score when our model recommends products\n",
        "    \"\"\"\n",
        "    actual = row[\"products\"][1:-1]\n",
        "    actual = [int(p.strip()) for p in actual.strip().split(\",\")]\n",
        "    target_user = tf_idf[row[\"user_id\"] - 1]\n",
        "    similarities = cosine_similarity(tf_idf, target_user, False)\n",
        "    cos_vec = similarities.toarray()\n",
        "    productset_target_user, recommended = generateRecommendations(target_user, cos_vec, 20, 10)\n",
        "\n",
        "    cur_recall_score = recall_score(actual, recommended)\n",
        "    \n",
        "    global count, progress, recall_sum\n",
        "    count += 1; recall_sum += cur_recall_score\n",
        "    if level[progress] and int(count / total * 10) - 1 == progress:\n",
        "        level[progress] = False\n",
        "        progress += 1\n",
        "        print(\"{:.1f}% completed, current mean of recall = {}\".format(progress * 10, recall_sum / count))    \n",
        "    \n",
        "    return cur_recall_score\n",
        "\n",
        "def build_eval_df(filepath, df_user_products_test, subset=None):\n",
        "    \"\"\"\n",
        "    Builds a dataframe of recall values of the baseline and our model for all the users\n",
        "    in the test data, and saves its to disk at `filepath`\n",
        "    \"\"\"\n",
        "    start = time.time()\n",
        "    print(\"Building dataframe with recall values ...\")\n",
        "    \n",
        "    df_eval = df_user_products_test.copy()\n",
        "    if subset:\n",
        "        df_eval = df_eval.sample(n=int(len(df_eval) * subset), random_state=7)\n",
        "    df_eval[\"popular_score\"] = df_eval.apply(popular_recommend, axis=1)\n",
        "    df_eval[\"tfidf_score\"] = df_eval.apply(tfidf_recommend, axis=1)\n",
        "    df_eval.to_csv(filepath) #, index_label=False)\n",
        "    \n",
        "    print(\"Completed in {:.2f}s\".format(time.time() - start))    \n",
        "\n",
        "\n",
        "# Get the dataframe with recall values of the baseline and the model\n",
        "REBUILD_EVAL_DF = False\n",
        "subset = 0.2\n",
        "\n",
        "# How many users in the test?\n",
        "total = len(df_user_products_test) * subset\n",
        "\n",
        "# Counter\n",
        "count = 0\n",
        "progress = 0\n",
        "recall_sum = 0\n",
        "level = [True] * 10\n",
        "\n",
        "# Estimated 3 hours to run 20% of the test dataset\n",
        "eval_path = \"/content/drive/MyDrive/Almabetter/Cohort Nilgiri/Kaggle/eval_tfidf_{}.csv\".format(subset if subset is not None else \"full\")\n",
        "if REBUILD_EVAL_DF or not Path(eval_path).exists():\n",
        "    build_eval_df(eval_path, df_user_products_test, subset=subset)\n",
        "df_eval = pd.read_csv(eval_path)\n"
      ],
      "execution_count": null,
      "outputs": []
    },
    {
      "cell_type": "code",
      "metadata": {
        "colab": {
          "base_uri": "https://localhost:8080/",
          "height": 195
        },
        "id": "-VLKeY1KqQm3",
        "outputId": "60fed5ad-ca28-471a-8b3f-9d192884b7bd"
      },
      "source": [
        "df_eval.head()"
      ],
      "execution_count": null,
      "outputs": [
        {
          "output_type": "execute_result",
          "data": {
            "text/html": [
              "<div>\n",
              "<style scoped>\n",
              "    .dataframe tbody tr th:only-of-type {\n",
              "        vertical-align: middle;\n",
              "    }\n",
              "\n",
              "    .dataframe tbody tr th {\n",
              "        vertical-align: top;\n",
              "    }\n",
              "\n",
              "    .dataframe thead th {\n",
              "        text-align: right;\n",
              "    }\n",
              "</style>\n",
              "<table border=\"1\" class=\"dataframe\">\n",
              "  <thead>\n",
              "    <tr style=\"text-align: right;\">\n",
              "      <th></th>\n",
              "      <th>Unnamed: 0</th>\n",
              "      <th>user_id</th>\n",
              "      <th>products</th>\n",
              "      <th>popular_score</th>\n",
              "      <th>tfidf_score</th>\n",
              "    </tr>\n",
              "  </thead>\n",
              "  <tbody>\n",
              "    <tr>\n",
              "      <th>0</th>\n",
              "      <td>61608</td>\n",
              "      <td>96827</td>\n",
              "      <td>[1947, 13176, 28199, 25230, 33081, 3896, 5450,...</td>\n",
              "      <td>0.0</td>\n",
              "      <td>0.000000</td>\n",
              "    </tr>\n",
              "    <tr>\n",
              "      <th>1</th>\n",
              "      <td>20702</td>\n",
              "      <td>32474</td>\n",
              "      <td>[9203, 26940, 11286, 27012, 17652, 18677, 3877...</td>\n",
              "      <td>0.0</td>\n",
              "      <td>0.000000</td>\n",
              "    </tr>\n",
              "    <tr>\n",
              "      <th>2</th>\n",
              "      <td>2255</td>\n",
              "      <td>3492</td>\n",
              "      <td>[22959, 26604, 10867, 7349, 48527, 13866, 1136...</td>\n",
              "      <td>0.0</td>\n",
              "      <td>0.125000</td>\n",
              "    </tr>\n",
              "    <tr>\n",
              "      <th>3</th>\n",
              "      <td>99391</td>\n",
              "      <td>156404</td>\n",
              "      <td>[48762]</td>\n",
              "      <td>0.0</td>\n",
              "      <td>1.000000</td>\n",
              "    </tr>\n",
              "    <tr>\n",
              "      <th>4</th>\n",
              "      <td>57224</td>\n",
              "      <td>89919</td>\n",
              "      <td>[35221, 13176, 11520, 7503, 26209, 13984, 2283...</td>\n",
              "      <td>0.0</td>\n",
              "      <td>0.111111</td>\n",
              "    </tr>\n",
              "  </tbody>\n",
              "</table>\n",
              "</div>"
            ],
            "text/plain": [
              "   Unnamed: 0  user_id  ... popular_score  tfidf_score\n",
              "0       61608    96827  ...           0.0     0.000000\n",
              "1       20702    32474  ...           0.0     0.000000\n",
              "2        2255     3492  ...           0.0     0.125000\n",
              "3       99391   156404  ...           0.0     1.000000\n",
              "4       57224    89919  ...           0.0     0.111111\n",
              "\n",
              "[5 rows x 5 columns]"
            ]
          },
          "metadata": {
            "tags": []
          },
          "execution_count": 54
        }
      ]
    },
    {
      "cell_type": "code",
      "metadata": {
        "colab": {
          "base_uri": "https://localhost:8080/"
        },
        "id": "xh3OdUASsqZc",
        "outputId": "e2bab441-5797-4222-b9c6-8bda5e3dd67b"
      },
      "source": [
        "# Mean recall scores\n",
        "model_mean_recall, baseline_mean_recall = np.mean(df_eval[\"tfidf_score\"]), np.mean(df_eval[\"popular_score\"])\n",
        "print(\"Model: {:.2f}%\".format(model_mean_recall * 100))\n",
        "print(\"Baseline: {:.2f}%\".format(baseline_mean_recall * 100))\n"
      ],
      "execution_count": null,
      "outputs": [
        {
          "output_type": "stream",
          "text": [
            "Model: 20.08%\n",
            "Baseline: 2.62%\n"
          ],
          "name": "stdout"
        }
      ]
    },
    {
      "cell_type": "markdown",
      "metadata": {
        "id": "i0ieDbEVzsnN"
      },
      "source": [
        "## Evaluation Metric"
      ]
    },
    {
      "cell_type": "markdown",
      "metadata": {
        "id": "gxqwS--3zv5C"
      },
      "source": [
        "![r.png](data:image/png;base64,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)"
      ]
    },
    {
      "cell_type": "markdown",
      "metadata": {
        "id": "YDQz-iV1yNBp"
      },
      "source": [
        "##Final Results\n",
        "![Capture.PNG](data:image/png;base64,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)"
      ]
    },
    {
      "cell_type": "markdown",
      "metadata": {
        "id": "qfeqH0_HllLY"
      },
      "source": [
        "\n",
        "Surprisingly Memory based CF model is doing good than the Model based CF.\n",
        "\n",
        "Product recommender recall rate was improved by 8 times.\n"
      ]
    }
  ]
}